{
 "cells": [
  {
   "cell_type": "code",
   "execution_count": 191,
   "id": "1c0369c4",
   "metadata": {},
   "outputs": [],
   "source": [
    "import pandas as pd\n",
    "import numpy as np\n",
    "import matplotlib.pyplot as plt\n",
    "import seaborn as sns\n",
    "\n",
    "from sklearn.preprocessing import StandardScaler, MinMaxScaler, MaxAbsScaler, QuantileTransformer\n",
    "from sklearn.feature_selection import SelectKBest, f_classif\n",
    "from sklearn.preprocessing import RobustScaler\n",
    "\n",
    "from sklearn import linear_model\n",
    "\n",
    "from sklearn.linear_model import LinearRegression\n",
    "from sklearn import metrics\n",
    "from sklearn.model_selection import train_test_split\n",
    "\n"
   ]
  },
  {
   "cell_type": "code",
   "execution_count": 192,
   "id": "be3d6ba3",
   "metadata": {
    "scrolled": true
   },
   "outputs": [
    {
     "data": {
      "text/html": [
       "<div>\n",
       "<style scoped>\n",
       "    .dataframe tbody tr th:only-of-type {\n",
       "        vertical-align: middle;\n",
       "    }\n",
       "\n",
       "    .dataframe tbody tr th {\n",
       "        vertical-align: top;\n",
       "    }\n",
       "\n",
       "    .dataframe thead th {\n",
       "        text-align: right;\n",
       "    }\n",
       "</style>\n",
       "<table border=\"1\" class=\"dataframe\">\n",
       "  <thead>\n",
       "    <tr style=\"text-align: right;\">\n",
       "      <th></th>\n",
       "      <th>name</th>\n",
       "      <th>timestamp</th>\n",
       "      <th>latitude_deg</th>\n",
       "      <th>longitude_deg</th>\n",
       "      <th>course</th>\n",
       "      <th>speed</th>\n",
       "      <th>in_port</th>\n",
       "      <th>OP_CODE_NAME_SHORT</th>\n",
       "    </tr>\n",
       "  </thead>\n",
       "  <tbody>\n",
       "    <tr>\n",
       "      <th>0</th>\n",
       "      <td>Tamesis</td>\n",
       "      <td>2020-12-24 02:30:00</td>\n",
       "      <td>-32.3693</td>\n",
       "      <td>170.4633</td>\n",
       "      <td>252</td>\n",
       "      <td>18.8</td>\n",
       "      <td>0</td>\n",
       "      <td>4</td>\n",
       "    </tr>\n",
       "    <tr>\n",
       "      <th>1</th>\n",
       "      <td>Tamesis</td>\n",
       "      <td>2020-12-24 03:00:00</td>\n",
       "      <td>-32.4223</td>\n",
       "      <td>170.2852</td>\n",
       "      <td>252</td>\n",
       "      <td>18.9</td>\n",
       "      <td>0</td>\n",
       "      <td>4</td>\n",
       "    </tr>\n",
       "    <tr>\n",
       "      <th>2</th>\n",
       "      <td>Torrens</td>\n",
       "      <td>2020-12-24 00:02:00</td>\n",
       "      <td>30.5557</td>\n",
       "      <td>127.2458</td>\n",
       "      <td>290</td>\n",
       "      <td>16.6</td>\n",
       "      <td>0</td>\n",
       "      <td>4</td>\n",
       "    </tr>\n",
       "    <tr>\n",
       "      <th>3</th>\n",
       "      <td>Tortugas</td>\n",
       "      <td>2020-12-24 00:02:00</td>\n",
       "      <td>9.6135</td>\n",
       "      <td>-79.9599</td>\n",
       "      <td>339</td>\n",
       "      <td>16.8</td>\n",
       "      <td>0</td>\n",
       "      <td>4</td>\n",
       "    </tr>\n",
       "    <tr>\n",
       "      <th>4</th>\n",
       "      <td>Oberon</td>\n",
       "      <td>2020-12-24 00:01:00</td>\n",
       "      <td>-29.4287</td>\n",
       "      <td>73.7375</td>\n",
       "      <td>104</td>\n",
       "      <td>14.0</td>\n",
       "      <td>0</td>\n",
       "      <td>4</td>\n",
       "    </tr>\n",
       "  </tbody>\n",
       "</table>\n",
       "</div>"
      ],
      "text/plain": [
       "       name            timestamp  latitude_deg  longitude_deg  course  speed  \\\n",
       "0   Tamesis  2020-12-24 02:30:00      -32.3693       170.4633     252   18.8   \n",
       "1   Tamesis  2020-12-24 03:00:00      -32.4223       170.2852     252   18.9   \n",
       "2   Torrens  2020-12-24 00:02:00       30.5557       127.2458     290   16.6   \n",
       "3  Tortugas  2020-12-24 00:02:00        9.6135       -79.9599     339   16.8   \n",
       "4    Oberon  2020-12-24 00:01:00      -29.4287        73.7375     104   14.0   \n",
       "\n",
       "   in_port  OP_CODE_NAME_SHORT  \n",
       "0        0                   4  \n",
       "1        0                   4  \n",
       "2        0                   4  \n",
       "3        0                   4  \n",
       "4        0                   4  "
      ]
     },
     "execution_count": 192,
     "metadata": {},
     "output_type": "execute_result"
    }
   ],
   "source": [
    "df_vessel = pd.read_csv(\"/Users/eli/Desktop/Wallenius Wilhelmsen Task/20220321_AisVdcJoined.csv\")\n",
    "df_vessel.head()"
   ]
  },
  {
   "cell_type": "code",
   "execution_count": 193,
   "id": "ee9aeaf2",
   "metadata": {
    "scrolled": false
   },
   "outputs": [
    {
     "data": {
      "text/plain": [
       "Index(['name', 'timestamp', 'latitude_deg', 'longitude_deg', 'course', 'speed',\n",
       "       'in_port', 'OP_CODE_NAME_SHORT'],\n",
       "      dtype='object')"
      ]
     },
     "execution_count": 193,
     "metadata": {},
     "output_type": "execute_result"
    }
   ],
   "source": [
    "df_vessel.columns"
   ]
  },
  {
   "cell_type": "code",
   "execution_count": 194,
   "id": "3cc26f34",
   "metadata": {},
   "outputs": [],
   "source": [
    "df_vessel.columns=df_vessel.columns.str.replace(' ','')"
   ]
  },
  {
   "cell_type": "code",
   "execution_count": 195,
   "id": "22ce0b28",
   "metadata": {},
   "outputs": [],
   "source": [
    "df_vessel.columns = df_vessel.columns.str.lower()"
   ]
  },
  {
   "cell_type": "code",
   "execution_count": 196,
   "id": "1e618d68",
   "metadata": {
    "scrolled": true
   },
   "outputs": [
    {
     "data": {
      "text/plain": [
       "Index(['name', 'timestamp', 'latitude_deg', 'longitude_deg', 'course', 'speed',\n",
       "       'in_port', 'op_code_name_short'],\n",
       "      dtype='object')"
      ]
     },
     "execution_count": 196,
     "metadata": {},
     "output_type": "execute_result"
    }
   ],
   "source": [
    "df_vessel.columns"
   ]
  },
  {
   "cell_type": "code",
   "execution_count": 197,
   "id": "7d5f7bce",
   "metadata": {},
   "outputs": [],
   "source": [
    "df_vessel = df_vessel.rename(columns = {'latitude_deg': 'lat_deg'})"
   ]
  },
  {
   "cell_type": "code",
   "execution_count": 198,
   "id": "5bdc0bd3",
   "metadata": {},
   "outputs": [],
   "source": [
    "df_vessel = df_vessel.rename(columns = {'longitude_deg': 'long_deg'})"
   ]
  },
  {
   "cell_type": "code",
   "execution_count": 199,
   "id": "24ac2fbf",
   "metadata": {},
   "outputs": [],
   "source": [
    "df_vessel = df_vessel.rename(columns = {'op_code_name_short': 'op_code'})"
   ]
  },
  {
   "cell_type": "code",
   "execution_count": 200,
   "id": "ca9e4ba1",
   "metadata": {
    "scrolled": true
   },
   "outputs": [
    {
     "data": {
      "text/plain": [
       "Index(['name', 'timestamp', 'lat_deg', 'long_deg', 'course', 'speed',\n",
       "       'in_port', 'op_code'],\n",
       "      dtype='object')"
      ]
     },
     "execution_count": 200,
     "metadata": {},
     "output_type": "execute_result"
    }
   ],
   "source": [
    "df_vessel.columns"
   ]
  },
  {
   "cell_type": "code",
   "execution_count": 201,
   "id": "a79cd4d3",
   "metadata": {},
   "outputs": [
    {
     "data": {
      "text/plain": [
       "(3110192, 8)"
      ]
     },
     "execution_count": 201,
     "metadata": {},
     "output_type": "execute_result"
    }
   ],
   "source": [
    "df_vessel.shape"
   ]
  },
  {
   "cell_type": "code",
   "execution_count": 202,
   "id": "b80ad026",
   "metadata": {
    "scrolled": true
   },
   "outputs": [],
   "source": [
    "df_no_dupli = df_vessel.drop_duplicates(keep='first')"
   ]
  },
  {
   "cell_type": "code",
   "execution_count": 203,
   "id": "213a42c3",
   "metadata": {},
   "outputs": [
    {
     "data": {
      "text/plain": [
       "(3108716, 8)"
      ]
     },
     "execution_count": 203,
     "metadata": {},
     "output_type": "execute_result"
    }
   ],
   "source": [
    "df_no_dupli.shape"
   ]
  },
  {
   "cell_type": "code",
   "execution_count": 226,
   "id": "2dd7ccf0",
   "metadata": {},
   "outputs": [
    {
     "data": {
      "text/html": [
       "<div>\n",
       "<style scoped>\n",
       "    .dataframe tbody tr th:only-of-type {\n",
       "        vertical-align: middle;\n",
       "    }\n",
       "\n",
       "    .dataframe tbody tr th {\n",
       "        vertical-align: top;\n",
       "    }\n",
       "\n",
       "    .dataframe thead th {\n",
       "        text-align: right;\n",
       "    }\n",
       "</style>\n",
       "<table border=\"1\" class=\"dataframe\">\n",
       "  <thead>\n",
       "    <tr style=\"text-align: right;\">\n",
       "      <th></th>\n",
       "      <th>lat_deg</th>\n",
       "      <th>long_deg</th>\n",
       "      <th>course</th>\n",
       "      <th>speed</th>\n",
       "      <th>in_port</th>\n",
       "      <th>op_code</th>\n",
       "    </tr>\n",
       "  </thead>\n",
       "  <tbody>\n",
       "    <tr>\n",
       "      <th>count</th>\n",
       "      <td>3.108716e+06</td>\n",
       "      <td>3.108716e+06</td>\n",
       "      <td>3.108716e+06</td>\n",
       "      <td>3.108716e+06</td>\n",
       "      <td>3.108716e+06</td>\n",
       "      <td>3.108716e+06</td>\n",
       "    </tr>\n",
       "    <tr>\n",
       "      <th>mean</th>\n",
       "      <td>1.909930e+01</td>\n",
       "      <td>1.317517e+01</td>\n",
       "      <td>1.837326e+02</td>\n",
       "      <td>1.167779e+01</td>\n",
       "      <td>1.555086e-01</td>\n",
       "      <td>3.521294e+00</td>\n",
       "    </tr>\n",
       "    <tr>\n",
       "      <th>std</th>\n",
       "      <td>2.802766e+01</td>\n",
       "      <td>1.009998e+02</td>\n",
       "      <td>1.019997e+02</td>\n",
       "      <td>7.213217e+00</td>\n",
       "      <td>3.623889e-01</td>\n",
       "      <td>8.609282e-01</td>\n",
       "    </tr>\n",
       "    <tr>\n",
       "      <th>min</th>\n",
       "      <td>-5.613380e+01</td>\n",
       "      <td>-1.800000e+02</td>\n",
       "      <td>0.000000e+00</td>\n",
       "      <td>0.000000e+00</td>\n",
       "      <td>0.000000e+00</td>\n",
       "      <td>0.000000e+00</td>\n",
       "    </tr>\n",
       "    <tr>\n",
       "      <th>25%</th>\n",
       "      <td>4.384900e+00</td>\n",
       "      <td>-7.653790e+01</td>\n",
       "      <td>9.200000e+01</td>\n",
       "      <td>3.000000e+00</td>\n",
       "      <td>0.000000e+00</td>\n",
       "      <td>3.000000e+00</td>\n",
       "    </tr>\n",
       "    <tr>\n",
       "      <th>50%</th>\n",
       "      <td>2.977450e+01</td>\n",
       "      <td>3.227500e+00</td>\n",
       "      <td>1.890000e+02</td>\n",
       "      <td>1.511880e+01</td>\n",
       "      <td>0.000000e+00</td>\n",
       "      <td>4.000000e+00</td>\n",
       "    </tr>\n",
       "    <tr>\n",
       "      <th>75%</th>\n",
       "      <td>3.924040e+01</td>\n",
       "      <td>1.216682e+02</td>\n",
       "      <td>2.730000e+02</td>\n",
       "      <td>1.727862e+01</td>\n",
       "      <td>0.000000e+00</td>\n",
       "      <td>4.000000e+00</td>\n",
       "    </tr>\n",
       "    <tr>\n",
       "      <th>max</th>\n",
       "      <td>5.968460e+01</td>\n",
       "      <td>1.799993e+02</td>\n",
       "      <td>3.600000e+02</td>\n",
       "      <td>3.200000e+01</td>\n",
       "      <td>1.000000e+00</td>\n",
       "      <td>4.000000e+00</td>\n",
       "    </tr>\n",
       "  </tbody>\n",
       "</table>\n",
       "</div>"
      ],
      "text/plain": [
       "            lat_deg      long_deg        course         speed       in_port  \\\n",
       "count  3.108716e+06  3.108716e+06  3.108716e+06  3.108716e+06  3.108716e+06   \n",
       "mean   1.909930e+01  1.317517e+01  1.837326e+02  1.167779e+01  1.555086e-01   \n",
       "std    2.802766e+01  1.009998e+02  1.019997e+02  7.213217e+00  3.623889e-01   \n",
       "min   -5.613380e+01 -1.800000e+02  0.000000e+00  0.000000e+00  0.000000e+00   \n",
       "25%    4.384900e+00 -7.653790e+01  9.200000e+01  3.000000e+00  0.000000e+00   \n",
       "50%    2.977450e+01  3.227500e+00  1.890000e+02  1.511880e+01  0.000000e+00   \n",
       "75%    3.924040e+01  1.216682e+02  2.730000e+02  1.727862e+01  0.000000e+00   \n",
       "max    5.968460e+01  1.799993e+02  3.600000e+02  3.200000e+01  1.000000e+00   \n",
       "\n",
       "            op_code  \n",
       "count  3.108716e+06  \n",
       "mean   3.521294e+00  \n",
       "std    8.609282e-01  \n",
       "min    0.000000e+00  \n",
       "25%    3.000000e+00  \n",
       "50%    4.000000e+00  \n",
       "75%    4.000000e+00  \n",
       "max    4.000000e+00  "
      ]
     },
     "execution_count": 226,
     "metadata": {},
     "output_type": "execute_result"
    }
   ],
   "source": [
    "df_no_dupli.describe()"
   ]
  },
  {
   "cell_type": "code",
   "execution_count": 227,
   "id": "28e571ce",
   "metadata": {},
   "outputs": [
    {
     "data": {
      "text/plain": [
       "4    2188782\n",
       "3     526315\n",
       "2     240380\n",
       "1     131871\n",
       "0      21368\n",
       "Name: op_code, dtype: int64"
      ]
     },
     "execution_count": 227,
     "metadata": {},
     "output_type": "execute_result"
    }
   ],
   "source": [
    "df_no_dupli['op_code'].value_counts(dropna=False)"
   ]
  },
  {
   "cell_type": "code",
   "execution_count": 228,
   "id": "77439673",
   "metadata": {},
   "outputs": [
    {
     "data": {
      "text/plain": [
       "Text(0.5, 0, 'Percentage')"
      ]
     },
     "execution_count": 228,
     "metadata": {},
     "output_type": "execute_result"
    },
    {
     "data": {
      "image/png": "[encoded data removed]",
      "text/plain": [
       "<Figure size 432x288 with 1 Axes>"
      ]
     },
     "metadata": {},
     "output_type": "display_data"
    }
   ],
   "source": [
    "(df_no_dupli.op_code.value_counts(normalize=True, ascending=True)*100).plot(kind='barh', color='b')\n",
    "plt.title('Operation Mode')\n",
    "plt.xlabel('Percentage')\n"
   ]
  },
  {
   "cell_type": "code",
   "execution_count": 230,
   "id": "ca2f5892",
   "metadata": {},
   "outputs": [
    {
     "data": {
      "text/plain": [
       "0    2625284\n",
       "1     483432\n",
       "Name: in_port, dtype: int64"
      ]
     },
     "execution_count": 230,
     "metadata": {},
     "output_type": "execute_result"
    }
   ],
   "source": [
    "df_no_dupli['in_port'].value_counts(dropna=False)"
   ]
  },
  {
   "cell_type": "code",
   "execution_count": 231,
   "id": "ab3ccd79",
   "metadata": {
    "scrolled": false
   },
   "outputs": [
    {
     "data": {
      "text/plain": [
       "Text(0.5, 0, 'Percentage')"
      ]
     },
     "execution_count": 231,
     "metadata": {},
     "output_type": "execute_result"
    },
    {
     "data": {
      "image/png": "[encoded data removed]",
      "text/plain": [
       "<Figure size 432x288 with 1 Axes>"
      ]
     },
     "metadata": {},
     "output_type": "display_data"
    }
   ],
   "source": [
    "(df_no_dupli.in_port.value_counts(normalize=True, ascending=True)*100).plot(kind='barh', color='b')\n",
    "plt.title('Inside/Outside a Port Area')\n",
    "plt.xlabel('Percentage')"
   ]
  },
  {
   "cell_type": "code",
   "execution_count": 232,
   "id": "14c6227f",
   "metadata": {
    "scrolled": true
   },
   "outputs": [
    {
     "data": {
      "text/plain": [
       "Don Juan          80794\n",
       "Toledo            80268\n",
       "Torrens           78861\n",
       "Tugela            78357\n",
       "Toreador          78201\n",
       "Tulane            78188\n",
       "Thermopylae       77733\n",
       "Tortugas          77616\n",
       "Tamerlane         77447\n",
       "Fidelio           77428\n",
       "Tarago            77134\n",
       "Oberon            77042\n",
       "Tijuca            77027\n",
       "Tongala           76905\n",
       "Toronto           76822\n",
       "Don Pasquale      76115\n",
       "Tirranna          75950\n",
       "Thalatta          75837\n",
       "Tombarra          75824\n",
       "Tysla             75732\n",
       "Figaro            75689\n",
       "Parsifal          75649\n",
       "Tamesis           75472\n",
       "Talisman          75297\n",
       "Manon             75234\n",
       "Toscana           74864\n",
       "Torino            74250\n",
       "Aniara            74234\n",
       "Turandot          74098\n",
       "Tonsberg          73575\n",
       "Salome            73225\n",
       "Carmen            72464\n",
       "ARC Defender      68818\n",
       "Undine            65607\n",
       "Tiger             64007\n",
       "Morning Chorus    61797\n",
       "Titania           58543\n",
       "Elektra           57283\n",
       "Tosca             54531\n",
       "Mignon            53917\n",
       "Don Carlos        50236\n",
       "Don Quijote       45847\n",
       "Themis            29038\n",
       "Theben            17734\n",
       "Titus             14053\n",
       "Traviata          12838\n",
       "Tannhauser         8280\n",
       "Nabucco            2855\n",
       "Name: name, dtype: int64"
      ]
     },
     "execution_count": 232,
     "metadata": {},
     "output_type": "execute_result"
    }
   ],
   "source": [
    "df_no_dupli['name'].value_counts(dropna = False)"
   ]
  },
  {
   "cell_type": "code",
   "execution_count": 233,
   "id": "c601651a",
   "metadata": {},
   "outputs": [
    {
     "data": {
      "image/png": "[encoded data removed]",
      "text/plain": [
       "<Figure size 432x288 with 1 Axes>"
      ]
     },
     "metadata": {},
     "output_type": "display_data"
    }
   ],
   "source": [
    "# set a grey background (use sns.set_theme() if seaborn version 0.11.0 or above) \n",
    "sns.set(style=\"darkgrid\")\n",
    "sns.histplot(data=df_no_dupli, x=\"speed\", bins=50)\n",
    "plt.show()"
   ]
  },
  {
   "cell_type": "code",
   "execution_count": 239,
   "id": "da46a23e",
   "metadata": {},
   "outputs": [
    {
     "data": {
      "text/html": [
       "<div>\n",
       "<style scoped>\n",
       "    .dataframe tbody tr th:only-of-type {\n",
       "        vertical-align: middle;\n",
       "    }\n",
       "\n",
       "    .dataframe tbody tr th {\n",
       "        vertical-align: top;\n",
       "    }\n",
       "\n",
       "    .dataframe thead th {\n",
       "        text-align: right;\n",
       "    }\n",
       "</style>\n",
       "<table border=\"1\" class=\"dataframe\">\n",
       "  <thead>\n",
       "    <tr style=\"text-align: right;\">\n",
       "      <th></th>\n",
       "      <th>name</th>\n",
       "      <th>speed</th>\n",
       "    </tr>\n",
       "  </thead>\n",
       "  <tbody>\n",
       "    <tr>\n",
       "      <th>3110191</th>\n",
       "      <td>Fidelio</td>\n",
       "      <td>0.0</td>\n",
       "    </tr>\n",
       "    <tr>\n",
       "      <th>923304</th>\n",
       "      <td>Toledo</td>\n",
       "      <td>0.0</td>\n",
       "    </tr>\n",
       "    <tr>\n",
       "      <th>923305</th>\n",
       "      <td>Torrens</td>\n",
       "      <td>0.0</td>\n",
       "    </tr>\n",
       "    <tr>\n",
       "      <th>923306</th>\n",
       "      <td>Toledo</td>\n",
       "      <td>0.0</td>\n",
       "    </tr>\n",
       "    <tr>\n",
       "      <th>923307</th>\n",
       "      <td>Tirranna</td>\n",
       "      <td>0.0</td>\n",
       "    </tr>\n",
       "    <tr>\n",
       "      <th>...</th>\n",
       "      <td>...</td>\n",
       "      <td>...</td>\n",
       "    </tr>\n",
       "    <tr>\n",
       "      <th>706030</th>\n",
       "      <td>Talisman</td>\n",
       "      <td>25.3</td>\n",
       "    </tr>\n",
       "    <tr>\n",
       "      <th>706050</th>\n",
       "      <td>Talisman</td>\n",
       "      <td>25.4</td>\n",
       "    </tr>\n",
       "    <tr>\n",
       "      <th>1286532</th>\n",
       "      <td>Theben</td>\n",
       "      <td>25.5</td>\n",
       "    </tr>\n",
       "    <tr>\n",
       "      <th>1437272</th>\n",
       "      <td>Tombarra</td>\n",
       "      <td>32.0</td>\n",
       "    </tr>\n",
       "    <tr>\n",
       "      <th>2248088</th>\n",
       "      <td>Tannhauser</td>\n",
       "      <td>32.0</td>\n",
       "    </tr>\n",
       "  </tbody>\n",
       "</table>\n",
       "<p>3108716 rows × 2 columns</p>\n",
       "</div>"
      ],
      "text/plain": [
       "               name  speed\n",
       "3110191     Fidelio    0.0\n",
       "923304       Toledo    0.0\n",
       "923305      Torrens    0.0\n",
       "923306       Toledo    0.0\n",
       "923307     Tirranna    0.0\n",
       "...             ...    ...\n",
       "706030     Talisman   25.3\n",
       "706050     Talisman   25.4\n",
       "1286532      Theben   25.5\n",
       "1437272    Tombarra   32.0\n",
       "2248088  Tannhauser   32.0\n",
       "\n",
       "[3108716 rows x 2 columns]"
      ]
     },
     "execution_count": 239,
     "metadata": {},
     "output_type": "execute_result"
    }
   ],
   "source": [
    "df_speed = df_no_dupli[['name','speed']]\n",
    "df_speed.sort_values('speed')"
   ]
  },
  {
   "cell_type": "code",
   "execution_count": 243,
   "id": "5dc67bc6",
   "metadata": {
    "scrolled": false
   },
   "outputs": [
    {
     "data": {
      "text/plain": [
       "name         0\n",
       "timestamp    0\n",
       "lat_deg      0\n",
       "long_deg     0\n",
       "course       0\n",
       "speed        0\n",
       "in_port      0\n",
       "op_code      0\n",
       "dtype: int64"
      ]
     },
     "execution_count": 243,
     "metadata": {},
     "output_type": "execute_result"
    }
   ],
   "source": [
    "df_vessel.isnull().sum()"
   ]
  },
  {
   "cell_type": "code",
   "execution_count": 244,
   "id": "d1f811e6",
   "metadata": {},
   "outputs": [],
   "source": [
    "missing_values = [\"n/a\", \"na\", \"--\", \"-\", \"NA\", \"NAN\", \"?\", \"n.a.\"]\n",
    "df_vessel = pd.read_csv(\"/Users/eli/Desktop/Wallenius Wilhelmsen Task/20220321_AisVdcJoined.csv\", na_values = missing_values)"
   ]
  },
  {
   "cell_type": "markdown",
   "id": "293a8a78",
   "metadata": {},
   "source": [
    "# Making a list of missing value types"
   ]
  },
  {
   "cell_type": "code",
   "execution_count": 245,
   "id": "aca96eab",
   "metadata": {},
   "outputs": [
    {
     "data": {
      "text/plain": [
       "name         0\n",
       "timestamp    0\n",
       "lat_deg      0\n",
       "long_deg     0\n",
       "course       0\n",
       "speed        0\n",
       "in_port      0\n",
       "op_code      0\n",
       "dtype: int64"
      ]
     },
     "execution_count": 245,
     "metadata": {},
     "output_type": "execute_result"
    }
   ],
   "source": [
    "df_no_dupli.isnull().sum()"
   ]
  },
  {
   "cell_type": "code",
   "execution_count": 246,
   "id": "0772c3f1",
   "metadata": {},
   "outputs": [
    {
     "name": "stdout",
     "output_type": "stream",
     "text": [
      "<class 'pandas.core.frame.DataFrame'>\n",
      "Int64Index: 3108716 entries, 0 to 3110191\n",
      "Data columns (total 8 columns):\n",
      " #   Column     Dtype  \n",
      "---  ------     -----  \n",
      " 0   name       object \n",
      " 1   timestamp  object \n",
      " 2   lat_deg    float64\n",
      " 3   long_deg   float64\n",
      " 4   course     int64  \n",
      " 5   speed      float64\n",
      " 6   in_port    int64  \n",
      " 7   op_code    int64  \n",
      "dtypes: float64(3), int64(3), object(2)\n",
      "memory usage: 213.5+ MB\n"
     ]
    }
   ],
   "source": [
    "df_no_dupli.info()"
   ]
  },
  {
   "cell_type": "code",
   "execution_count": 247,
   "id": "d2a0b37e",
   "metadata": {},
   "outputs": [
    {
     "data": {
      "text/plain": [
       "array(['Tamesis', 'Torrens', 'Tortugas', 'Oberon', 'Figaro', 'Parsifal',\n",
       "       'Tamerlane', 'Tugela', 'Undine', 'Tijuca', 'Don Pasquale',\n",
       "       'Fidelio', 'Morning Chorus', 'Don Juan ', 'Tirranna', 'Toledo',\n",
       "       'ARC Defender', 'Tombarra', 'Tongala', 'Tonsberg', 'Toreador',\n",
       "       'Torino', 'Toronto', 'Tosca', 'Turandot', 'Toscana', 'Talisman',\n",
       "       'Tulane', 'Manon', 'Thermopylae', 'Salome', 'Titania', 'Tysla',\n",
       "       'Theben', 'Tarago', 'Tiger', 'Carmen', 'Thalatta', 'Themis',\n",
       "       'Aniara', 'Elektra', 'Mignon', 'Don Quijote', 'Don Carlos',\n",
       "       'Titus', 'Traviata', 'Tannhauser', 'Nabucco'], dtype=object)"
      ]
     },
     "execution_count": 247,
     "metadata": {},
     "output_type": "execute_result"
    }
   ],
   "source": [
    "df_no_dupli.name.unique()"
   ]
  },
  {
   "cell_type": "code",
   "execution_count": 248,
   "id": "6b48ec32",
   "metadata": {},
   "outputs": [
    {
     "data": {
      "text/plain": [
       "(3108716, 8)"
      ]
     },
     "execution_count": 248,
     "metadata": {},
     "output_type": "execute_result"
    }
   ],
   "source": [
    "df_no_dupli.shape"
   ]
  },
  {
   "cell_type": "code",
   "execution_count": 249,
   "id": "554dd477",
   "metadata": {},
   "outputs": [],
   "source": [
    "name_df_vessel = df_no_dupli['name']"
   ]
  },
  {
   "cell_type": "code",
   "execution_count": 250,
   "id": "52dd3beb",
   "metadata": {},
   "outputs": [
    {
     "data": {
      "text/plain": [
       "pandas.core.series.Series"
      ]
     },
     "execution_count": 250,
     "metadata": {},
     "output_type": "execute_result"
    }
   ],
   "source": [
    "type(name_df_vessel)"
   ]
  },
  {
   "cell_type": "code",
   "execution_count": 251,
   "id": "e7413aa2",
   "metadata": {},
   "outputs": [
    {
     "data": {
      "text/plain": [
       "name                                Manon\n",
       "timestamp             2022-02-10 14:58:00\n",
       "latitude_deg                      17.4306\n",
       "longitude_deg                     40.4827\n",
       "course                                330\n",
       "speed                           18.898495\n",
       "in_port                                 0\n",
       "OP_CODE_NAME_SHORT                      4\n",
       "Name: 3000000, dtype: object"
      ]
     },
     "execution_count": 251,
     "metadata": {},
     "output_type": "execute_result"
    }
   ],
   "source": [
    "df_vessel.iloc[3000000]"
   ]
  },
  {
   "cell_type": "code",
   "execution_count": 252,
   "id": "e45709db",
   "metadata": {},
   "outputs": [
    {
     "data": {
      "text/html": [
       "<div>\n",
       "<style scoped>\n",
       "    .dataframe tbody tr th:only-of-type {\n",
       "        vertical-align: middle;\n",
       "    }\n",
       "\n",
       "    .dataframe tbody tr th {\n",
       "        vertical-align: top;\n",
       "    }\n",
       "\n",
       "    .dataframe thead th {\n",
       "        text-align: right;\n",
       "    }\n",
       "</style>\n",
       "<table border=\"1\" class=\"dataframe\">\n",
       "  <thead>\n",
       "    <tr style=\"text-align: right;\">\n",
       "      <th></th>\n",
       "      <th>name</th>\n",
       "      <th>timestamp</th>\n",
       "      <th>lat_deg</th>\n",
       "      <th>long_deg</th>\n",
       "      <th>course</th>\n",
       "      <th>speed</th>\n",
       "      <th>in_port</th>\n",
       "      <th>op_code</th>\n",
       "    </tr>\n",
       "  </thead>\n",
       "  <tbody>\n",
       "    <tr>\n",
       "      <th>0</th>\n",
       "      <td>False</td>\n",
       "      <td>False</td>\n",
       "      <td>False</td>\n",
       "      <td>False</td>\n",
       "      <td>False</td>\n",
       "      <td>False</td>\n",
       "      <td>False</td>\n",
       "      <td>False</td>\n",
       "    </tr>\n",
       "    <tr>\n",
       "      <th>1</th>\n",
       "      <td>False</td>\n",
       "      <td>False</td>\n",
       "      <td>False</td>\n",
       "      <td>False</td>\n",
       "      <td>False</td>\n",
       "      <td>False</td>\n",
       "      <td>False</td>\n",
       "      <td>False</td>\n",
       "    </tr>\n",
       "    <tr>\n",
       "      <th>2</th>\n",
       "      <td>False</td>\n",
       "      <td>False</td>\n",
       "      <td>False</td>\n",
       "      <td>False</td>\n",
       "      <td>False</td>\n",
       "      <td>False</td>\n",
       "      <td>False</td>\n",
       "      <td>False</td>\n",
       "    </tr>\n",
       "    <tr>\n",
       "      <th>3</th>\n",
       "      <td>False</td>\n",
       "      <td>False</td>\n",
       "      <td>False</td>\n",
       "      <td>False</td>\n",
       "      <td>False</td>\n",
       "      <td>False</td>\n",
       "      <td>False</td>\n",
       "      <td>False</td>\n",
       "    </tr>\n",
       "    <tr>\n",
       "      <th>4</th>\n",
       "      <td>False</td>\n",
       "      <td>False</td>\n",
       "      <td>False</td>\n",
       "      <td>False</td>\n",
       "      <td>False</td>\n",
       "      <td>False</td>\n",
       "      <td>False</td>\n",
       "      <td>False</td>\n",
       "    </tr>\n",
       "    <tr>\n",
       "      <th>...</th>\n",
       "      <td>...</td>\n",
       "      <td>...</td>\n",
       "      <td>...</td>\n",
       "      <td>...</td>\n",
       "      <td>...</td>\n",
       "      <td>...</td>\n",
       "      <td>...</td>\n",
       "      <td>...</td>\n",
       "    </tr>\n",
       "    <tr>\n",
       "      <th>3110187</th>\n",
       "      <td>False</td>\n",
       "      <td>False</td>\n",
       "      <td>False</td>\n",
       "      <td>False</td>\n",
       "      <td>False</td>\n",
       "      <td>False</td>\n",
       "      <td>False</td>\n",
       "      <td>False</td>\n",
       "    </tr>\n",
       "    <tr>\n",
       "      <th>3110188</th>\n",
       "      <td>False</td>\n",
       "      <td>False</td>\n",
       "      <td>False</td>\n",
       "      <td>False</td>\n",
       "      <td>False</td>\n",
       "      <td>False</td>\n",
       "      <td>False</td>\n",
       "      <td>False</td>\n",
       "    </tr>\n",
       "    <tr>\n",
       "      <th>3110189</th>\n",
       "      <td>False</td>\n",
       "      <td>False</td>\n",
       "      <td>False</td>\n",
       "      <td>False</td>\n",
       "      <td>False</td>\n",
       "      <td>False</td>\n",
       "      <td>False</td>\n",
       "      <td>False</td>\n",
       "    </tr>\n",
       "    <tr>\n",
       "      <th>3110190</th>\n",
       "      <td>False</td>\n",
       "      <td>False</td>\n",
       "      <td>False</td>\n",
       "      <td>False</td>\n",
       "      <td>False</td>\n",
       "      <td>False</td>\n",
       "      <td>False</td>\n",
       "      <td>False</td>\n",
       "    </tr>\n",
       "    <tr>\n",
       "      <th>3110191</th>\n",
       "      <td>False</td>\n",
       "      <td>False</td>\n",
       "      <td>False</td>\n",
       "      <td>False</td>\n",
       "      <td>False</td>\n",
       "      <td>False</td>\n",
       "      <td>False</td>\n",
       "      <td>False</td>\n",
       "    </tr>\n",
       "  </tbody>\n",
       "</table>\n",
       "<p>3108716 rows × 8 columns</p>\n",
       "</div>"
      ],
      "text/plain": [
       "          name  timestamp  lat_deg  long_deg  course  speed  in_port  op_code\n",
       "0        False      False    False     False   False  False    False    False\n",
       "1        False      False    False     False   False  False    False    False\n",
       "2        False      False    False     False   False  False    False    False\n",
       "3        False      False    False     False   False  False    False    False\n",
       "4        False      False    False     False   False  False    False    False\n",
       "...        ...        ...      ...       ...     ...    ...      ...      ...\n",
       "3110187  False      False    False     False   False  False    False    False\n",
       "3110188  False      False    False     False   False  False    False    False\n",
       "3110189  False      False    False     False   False  False    False    False\n",
       "3110190  False      False    False     False   False  False    False    False\n",
       "3110191  False      False    False     False   False  False    False    False\n",
       "\n",
       "[3108716 rows x 8 columns]"
      ]
     },
     "execution_count": 252,
     "metadata": {},
     "output_type": "execute_result"
    }
   ],
   "source": [
    "df_no_dupli.isnull()"
   ]
  },
  {
   "cell_type": "code",
   "execution_count": 253,
   "id": "29f5ce04",
   "metadata": {},
   "outputs": [
    {
     "data": {
      "text/plain": [
       "name                  0\n",
       "timestamp             0\n",
       "latitude_deg          0\n",
       "longitude_deg         0\n",
       "course                0\n",
       "speed                 0\n",
       "in_port               0\n",
       "OP_CODE_NAME_SHORT    0\n",
       "dtype: int64"
      ]
     },
     "execution_count": 253,
     "metadata": {},
     "output_type": "execute_result"
    }
   ],
   "source": [
    "df_vessel.isnull().sum()"
   ]
  },
  {
   "cell_type": "code",
   "execution_count": 254,
   "id": "b98d36d6",
   "metadata": {},
   "outputs": [
    {
     "data": {
      "text/plain": [
       "name                  0\n",
       "timestamp             0\n",
       "latitude_deg          0\n",
       "longitude_deg         0\n",
       "course                0\n",
       "speed                 0\n",
       "in_port               0\n",
       "OP_CODE_NAME_SHORT    0\n",
       "dtype: int64"
      ]
     },
     "execution_count": 254,
     "metadata": {},
     "output_type": "execute_result"
    }
   ],
   "source": [
    "df_vessel.isna().sum()"
   ]
  },
  {
   "cell_type": "code",
   "execution_count": 255,
   "id": "7e884d7d",
   "metadata": {},
   "outputs": [
    {
     "data": {
      "text/plain": [
       "name                  False\n",
       "timestamp             False\n",
       "latitude_deg          False\n",
       "longitude_deg         False\n",
       "course                False\n",
       "speed                 False\n",
       "in_port               False\n",
       "OP_CODE_NAME_SHORT    False\n",
       "dtype: bool"
      ]
     },
     "execution_count": 255,
     "metadata": {},
     "output_type": "execute_result"
    }
   ],
   "source": [
    "df_vessel.isnull().any()"
   ]
  },
  {
   "cell_type": "code",
   "execution_count": 256,
   "id": "68dff596",
   "metadata": {},
   "outputs": [
    {
     "data": {
      "text/plain": [
       "name              48\n",
       "timestamp     774291\n",
       "lat_deg       805374\n",
       "long_deg     1536036\n",
       "course           361\n",
       "speed            345\n",
       "in_port            2\n",
       "op_code            5\n",
       "dtype: int64"
      ]
     },
     "execution_count": 256,
     "metadata": {},
     "output_type": "execute_result"
    }
   ],
   "source": [
    "df_no_dupli.nunique()"
   ]
  },
  {
   "cell_type": "code",
   "execution_count": 257,
   "id": "52f194ce",
   "metadata": {},
   "outputs": [
    {
     "data": {
      "text/plain": [
       "array([0, 1])"
      ]
     },
     "execution_count": 257,
     "metadata": {},
     "output_type": "execute_result"
    }
   ],
   "source": [
    "df_no_dupli['in_port'].unique()"
   ]
  },
  {
   "cell_type": "code",
   "execution_count": 258,
   "id": "813182eb",
   "metadata": {},
   "outputs": [
    {
     "data": {
      "text/plain": [
       "array([4, 1, 3, 2, 0])"
      ]
     },
     "execution_count": 258,
     "metadata": {},
     "output_type": "execute_result"
    }
   ],
   "source": [
    "df_no_dupli['op_code'].unique()"
   ]
  },
  {
   "cell_type": "code",
   "execution_count": 259,
   "id": "28dce9a7",
   "metadata": {
    "scrolled": false
   },
   "outputs": [
    {
     "data": {
      "text/plain": [
       "0.000000     604190\n",
       "16.738667     42211\n",
       "15.658753     40027\n",
       "16.198710     37220\n",
       "17.278624     34450\n",
       "              ...  \n",
       "32.000000         2\n",
       "24.400000         2\n",
       "24.700000         1\n",
       "25.500000         1\n",
       "25.400000         1\n",
       "Name: speed, Length: 345, dtype: int64"
      ]
     },
     "execution_count": 259,
     "metadata": {},
     "output_type": "execute_result"
    }
   ],
   "source": [
    "df_no_dupli['speed'].value_counts()"
   ]
  },
  {
   "cell_type": "code",
   "execution_count": 260,
   "id": "b80ff32f",
   "metadata": {},
   "outputs": [
    {
     "data": {
      "text/html": [
       "<div>\n",
       "<style scoped>\n",
       "    .dataframe tbody tr th:only-of-type {\n",
       "        vertical-align: middle;\n",
       "    }\n",
       "\n",
       "    .dataframe tbody tr th {\n",
       "        vertical-align: top;\n",
       "    }\n",
       "\n",
       "    .dataframe thead th {\n",
       "        text-align: right;\n",
       "    }\n",
       "</style>\n",
       "<table border=\"1\" class=\"dataframe\">\n",
       "  <thead>\n",
       "    <tr style=\"text-align: right;\">\n",
       "      <th></th>\n",
       "      <th>name</th>\n",
       "      <th>timestamp</th>\n",
       "      <th>lat_deg</th>\n",
       "      <th>long_deg</th>\n",
       "      <th>course</th>\n",
       "      <th>speed</th>\n",
       "      <th>in_port</th>\n",
       "      <th>op_code</th>\n",
       "    </tr>\n",
       "  </thead>\n",
       "  <tbody>\n",
       "    <tr>\n",
       "      <th>3110191</th>\n",
       "      <td>Fidelio</td>\n",
       "      <td>2022-03-09 20:58:00</td>\n",
       "      <td>39.2402</td>\n",
       "      <td>-76.5340</td>\n",
       "      <td>359</td>\n",
       "      <td>0.0</td>\n",
       "      <td>1</td>\n",
       "      <td>1</td>\n",
       "    </tr>\n",
       "    <tr>\n",
       "      <th>923304</th>\n",
       "      <td>Toledo</td>\n",
       "      <td>2020-08-08 05:24:00</td>\n",
       "      <td>51.4926</td>\n",
       "      <td>-2.7186</td>\n",
       "      <td>170</td>\n",
       "      <td>0.0</td>\n",
       "      <td>1</td>\n",
       "      <td>3</td>\n",
       "    </tr>\n",
       "    <tr>\n",
       "      <th>923305</th>\n",
       "      <td>Torrens</td>\n",
       "      <td>2020-08-11 22:34:00</td>\n",
       "      <td>51.3137</td>\n",
       "      <td>3.2276</td>\n",
       "      <td>158</td>\n",
       "      <td>0.0</td>\n",
       "      <td>1</td>\n",
       "      <td>3</td>\n",
       "    </tr>\n",
       "    <tr>\n",
       "      <th>923306</th>\n",
       "      <td>Toledo</td>\n",
       "      <td>2020-08-08 05:54:00</td>\n",
       "      <td>51.4926</td>\n",
       "      <td>-2.7186</td>\n",
       "      <td>170</td>\n",
       "      <td>0.0</td>\n",
       "      <td>1</td>\n",
       "      <td>3</td>\n",
       "    </tr>\n",
       "    <tr>\n",
       "      <th>923307</th>\n",
       "      <td>Tirranna</td>\n",
       "      <td>2020-08-11 22:38:00</td>\n",
       "      <td>39.2403</td>\n",
       "      <td>-76.5341</td>\n",
       "      <td>161</td>\n",
       "      <td>0.0</td>\n",
       "      <td>1</td>\n",
       "      <td>3</td>\n",
       "    </tr>\n",
       "    <tr>\n",
       "      <th>...</th>\n",
       "      <td>...</td>\n",
       "      <td>...</td>\n",
       "      <td>...</td>\n",
       "      <td>...</td>\n",
       "      <td>...</td>\n",
       "      <td>...</td>\n",
       "      <td>...</td>\n",
       "      <td>...</td>\n",
       "    </tr>\n",
       "    <tr>\n",
       "      <th>706030</th>\n",
       "      <td>Talisman</td>\n",
       "      <td>2021-04-28 00:41:00</td>\n",
       "      <td>37.2227</td>\n",
       "      <td>-71.6316</td>\n",
       "      <td>83</td>\n",
       "      <td>25.3</td>\n",
       "      <td>0</td>\n",
       "      <td>4</td>\n",
       "    </tr>\n",
       "    <tr>\n",
       "      <th>706050</th>\n",
       "      <td>Talisman</td>\n",
       "      <td>2021-04-28 00:48:00</td>\n",
       "      <td>37.2292</td>\n",
       "      <td>-71.5659</td>\n",
       "      <td>83</td>\n",
       "      <td>25.4</td>\n",
       "      <td>0</td>\n",
       "      <td>4</td>\n",
       "    </tr>\n",
       "    <tr>\n",
       "      <th>1286532</th>\n",
       "      <td>Theben</td>\n",
       "      <td>2020-11-06 20:20:00</td>\n",
       "      <td>41.3516</td>\n",
       "      <td>140.3259</td>\n",
       "      <td>56</td>\n",
       "      <td>25.5</td>\n",
       "      <td>0</td>\n",
       "      <td>4</td>\n",
       "    </tr>\n",
       "    <tr>\n",
       "      <th>1437272</th>\n",
       "      <td>Tombarra</td>\n",
       "      <td>2021-06-14 15:01:00</td>\n",
       "      <td>36.9810</td>\n",
       "      <td>126.8255</td>\n",
       "      <td>173</td>\n",
       "      <td>32.0</td>\n",
       "      <td>1</td>\n",
       "      <td>3</td>\n",
       "    </tr>\n",
       "    <tr>\n",
       "      <th>2248088</th>\n",
       "      <td>Tannhauser</td>\n",
       "      <td>2021-09-28 06:11:00</td>\n",
       "      <td>51.3164</td>\n",
       "      <td>3.2252</td>\n",
       "      <td>117</td>\n",
       "      <td>32.0</td>\n",
       "      <td>1</td>\n",
       "      <td>3</td>\n",
       "    </tr>\n",
       "  </tbody>\n",
       "</table>\n",
       "<p>3108716 rows × 8 columns</p>\n",
       "</div>"
      ],
      "text/plain": [
       "               name            timestamp  lat_deg  long_deg  course  speed  \\\n",
       "3110191     Fidelio  2022-03-09 20:58:00  39.2402  -76.5340     359    0.0   \n",
       "923304       Toledo  2020-08-08 05:24:00  51.4926   -2.7186     170    0.0   \n",
       "923305      Torrens  2020-08-11 22:34:00  51.3137    3.2276     158    0.0   \n",
       "923306       Toledo  2020-08-08 05:54:00  51.4926   -2.7186     170    0.0   \n",
       "923307     Tirranna  2020-08-11 22:38:00  39.2403  -76.5341     161    0.0   \n",
       "...             ...                  ...      ...       ...     ...    ...   \n",
       "706030     Talisman  2021-04-28 00:41:00  37.2227  -71.6316      83   25.3   \n",
       "706050     Talisman  2021-04-28 00:48:00  37.2292  -71.5659      83   25.4   \n",
       "1286532      Theben  2020-11-06 20:20:00  41.3516  140.3259      56   25.5   \n",
       "1437272    Tombarra  2021-06-14 15:01:00  36.9810  126.8255     173   32.0   \n",
       "2248088  Tannhauser  2021-09-28 06:11:00  51.3164    3.2252     117   32.0   \n",
       "\n",
       "         in_port  op_code  \n",
       "3110191        1        1  \n",
       "923304         1        3  \n",
       "923305         1        3  \n",
       "923306         1        3  \n",
       "923307         1        3  \n",
       "...          ...      ...  \n",
       "706030         0        4  \n",
       "706050         0        4  \n",
       "1286532        0        4  \n",
       "1437272        1        3  \n",
       "2248088        1        3  \n",
       "\n",
       "[3108716 rows x 8 columns]"
      ]
     },
     "execution_count": 260,
     "metadata": {},
     "output_type": "execute_result"
    }
   ],
   "source": [
    "df_no_dupli.sort_values('speed')"
   ]
  },
  {
   "cell_type": "code",
   "execution_count": 261,
   "id": "9f6412c9",
   "metadata": {},
   "outputs": [
    {
     "data": {
      "text/html": [
       "<div>\n",
       "<style scoped>\n",
       "    .dataframe tbody tr th:only-of-type {\n",
       "        vertical-align: middle;\n",
       "    }\n",
       "\n",
       "    .dataframe tbody tr th {\n",
       "        vertical-align: top;\n",
       "    }\n",
       "\n",
       "    .dataframe thead th {\n",
       "        text-align: right;\n",
       "    }\n",
       "</style>\n",
       "<table border=\"1\" class=\"dataframe\">\n",
       "  <thead>\n",
       "    <tr style=\"text-align: right;\">\n",
       "      <th></th>\n",
       "      <th>name</th>\n",
       "      <th>timestamp</th>\n",
       "      <th>lat_deg</th>\n",
       "      <th>long_deg</th>\n",
       "      <th>course</th>\n",
       "      <th>speed</th>\n",
       "      <th>in_port</th>\n",
       "      <th>op_code</th>\n",
       "    </tr>\n",
       "  </thead>\n",
       "  <tbody>\n",
       "    <tr>\n",
       "      <th>706030</th>\n",
       "      <td>Talisman</td>\n",
       "      <td>2021-04-28 00:41:00</td>\n",
       "      <td>37.2227</td>\n",
       "      <td>-71.6316</td>\n",
       "      <td>83</td>\n",
       "      <td>25.3</td>\n",
       "      <td>0</td>\n",
       "      <td>4</td>\n",
       "    </tr>\n",
       "    <tr>\n",
       "      <th>706050</th>\n",
       "      <td>Talisman</td>\n",
       "      <td>2021-04-28 00:48:00</td>\n",
       "      <td>37.2292</td>\n",
       "      <td>-71.5659</td>\n",
       "      <td>83</td>\n",
       "      <td>25.4</td>\n",
       "      <td>0</td>\n",
       "      <td>4</td>\n",
       "    </tr>\n",
       "    <tr>\n",
       "      <th>706083</th>\n",
       "      <td>Talisman</td>\n",
       "      <td>2021-04-28 01:03:00</td>\n",
       "      <td>37.2440</td>\n",
       "      <td>-71.4344</td>\n",
       "      <td>81</td>\n",
       "      <td>25.3</td>\n",
       "      <td>0</td>\n",
       "      <td>4</td>\n",
       "    </tr>\n",
       "    <tr>\n",
       "      <th>713084</th>\n",
       "      <td>Talisman</td>\n",
       "      <td>2021-04-28 01:18:00</td>\n",
       "      <td>37.2593</td>\n",
       "      <td>-71.3031</td>\n",
       "      <td>83</td>\n",
       "      <td>25.2</td>\n",
       "      <td>0</td>\n",
       "      <td>4</td>\n",
       "    </tr>\n",
       "    <tr>\n",
       "      <th>713085</th>\n",
       "      <td>Talisman</td>\n",
       "      <td>2021-04-28 01:26:00</td>\n",
       "      <td>37.2664</td>\n",
       "      <td>-71.2380</td>\n",
       "      <td>82</td>\n",
       "      <td>25.2</td>\n",
       "      <td>0</td>\n",
       "      <td>4</td>\n",
       "    </tr>\n",
       "    <tr>\n",
       "      <th>1219350</th>\n",
       "      <td>Talisman</td>\n",
       "      <td>2020-12-13 01:43:00</td>\n",
       "      <td>48.1695</td>\n",
       "      <td>-122.7462</td>\n",
       "      <td>310</td>\n",
       "      <td>25.2</td>\n",
       "      <td>0</td>\n",
       "      <td>1</td>\n",
       "    </tr>\n",
       "    <tr>\n",
       "      <th>1286532</th>\n",
       "      <td>Theben</td>\n",
       "      <td>2020-11-06 20:20:00</td>\n",
       "      <td>41.3516</td>\n",
       "      <td>140.3259</td>\n",
       "      <td>56</td>\n",
       "      <td>25.5</td>\n",
       "      <td>0</td>\n",
       "      <td>4</td>\n",
       "    </tr>\n",
       "    <tr>\n",
       "      <th>1437272</th>\n",
       "      <td>Tombarra</td>\n",
       "      <td>2021-06-14 15:01:00</td>\n",
       "      <td>36.9810</td>\n",
       "      <td>126.8255</td>\n",
       "      <td>173</td>\n",
       "      <td>32.0</td>\n",
       "      <td>1</td>\n",
       "      <td>3</td>\n",
       "    </tr>\n",
       "    <tr>\n",
       "      <th>2248088</th>\n",
       "      <td>Tannhauser</td>\n",
       "      <td>2021-09-28 06:11:00</td>\n",
       "      <td>51.3164</td>\n",
       "      <td>3.2252</td>\n",
       "      <td>117</td>\n",
       "      <td>32.0</td>\n",
       "      <td>1</td>\n",
       "      <td>3</td>\n",
       "    </tr>\n",
       "  </tbody>\n",
       "</table>\n",
       "</div>"
      ],
      "text/plain": [
       "               name            timestamp  lat_deg  long_deg  course  speed  \\\n",
       "706030     Talisman  2021-04-28 00:41:00  37.2227  -71.6316      83   25.3   \n",
       "706050     Talisman  2021-04-28 00:48:00  37.2292  -71.5659      83   25.4   \n",
       "706083     Talisman  2021-04-28 01:03:00  37.2440  -71.4344      81   25.3   \n",
       "713084     Talisman  2021-04-28 01:18:00  37.2593  -71.3031      83   25.2   \n",
       "713085     Talisman  2021-04-28 01:26:00  37.2664  -71.2380      82   25.2   \n",
       "1219350    Talisman  2020-12-13 01:43:00  48.1695 -122.7462     310   25.2   \n",
       "1286532      Theben  2020-11-06 20:20:00  41.3516  140.3259      56   25.5   \n",
       "1437272    Tombarra  2021-06-14 15:01:00  36.9810  126.8255     173   32.0   \n",
       "2248088  Tannhauser  2021-09-28 06:11:00  51.3164    3.2252     117   32.0   \n",
       "\n",
       "         in_port  op_code  \n",
       "706030         0        4  \n",
       "706050         0        4  \n",
       "706083         0        4  \n",
       "713084         0        4  \n",
       "713085         0        4  \n",
       "1219350        0        1  \n",
       "1286532        0        4  \n",
       "1437272        1        3  \n",
       "2248088        1        3  "
      ]
     },
     "execution_count": 261,
     "metadata": {},
     "output_type": "execute_result"
    }
   ],
   "source": [
    "df_no_dupli[df_no_dupli.speed > 25]"
   ]
  },
  {
   "cell_type": "code",
   "execution_count": 262,
   "id": "dfa4e6ae",
   "metadata": {},
   "outputs": [
    {
     "data": {
      "text/html": [
       "<div>\n",
       "<style scoped>\n",
       "    .dataframe tbody tr th:only-of-type {\n",
       "        vertical-align: middle;\n",
       "    }\n",
       "\n",
       "    .dataframe tbody tr th {\n",
       "        vertical-align: top;\n",
       "    }\n",
       "\n",
       "    .dataframe thead th {\n",
       "        text-align: right;\n",
       "    }\n",
       "</style>\n",
       "<table border=\"1\" class=\"dataframe\">\n",
       "  <thead>\n",
       "    <tr style=\"text-align: right;\">\n",
       "      <th></th>\n",
       "      <th>name</th>\n",
       "      <th>timestamp</th>\n",
       "      <th>lat_deg</th>\n",
       "      <th>long_deg</th>\n",
       "      <th>course</th>\n",
       "      <th>speed</th>\n",
       "      <th>in_port</th>\n",
       "      <th>op_code</th>\n",
       "    </tr>\n",
       "  </thead>\n",
       "  <tbody>\n",
       "    <tr>\n",
       "      <th>0</th>\n",
       "      <td>Tamesis</td>\n",
       "      <td>2020-12-24 02:30:00</td>\n",
       "      <td>-32.3693</td>\n",
       "      <td>170.4633</td>\n",
       "      <td>252</td>\n",
       "      <td>18.8</td>\n",
       "      <td>0</td>\n",
       "      <td>4</td>\n",
       "    </tr>\n",
       "    <tr>\n",
       "      <th>1</th>\n",
       "      <td>Tamesis</td>\n",
       "      <td>2020-12-24 03:00:00</td>\n",
       "      <td>-32.4223</td>\n",
       "      <td>170.2852</td>\n",
       "      <td>252</td>\n",
       "      <td>18.9</td>\n",
       "      <td>0</td>\n",
       "      <td>4</td>\n",
       "    </tr>\n",
       "    <tr>\n",
       "      <th>2</th>\n",
       "      <td>Torrens</td>\n",
       "      <td>2020-12-24 00:02:00</td>\n",
       "      <td>30.5557</td>\n",
       "      <td>127.2458</td>\n",
       "      <td>290</td>\n",
       "      <td>16.6</td>\n",
       "      <td>0</td>\n",
       "      <td>4</td>\n",
       "    </tr>\n",
       "    <tr>\n",
       "      <th>3</th>\n",
       "      <td>Tortugas</td>\n",
       "      <td>2020-12-24 00:02:00</td>\n",
       "      <td>9.6135</td>\n",
       "      <td>-79.9599</td>\n",
       "      <td>339</td>\n",
       "      <td>16.8</td>\n",
       "      <td>0</td>\n",
       "      <td>4</td>\n",
       "    </tr>\n",
       "    <tr>\n",
       "      <th>4</th>\n",
       "      <td>Oberon</td>\n",
       "      <td>2020-12-24 00:01:00</td>\n",
       "      <td>-29.4287</td>\n",
       "      <td>73.7375</td>\n",
       "      <td>104</td>\n",
       "      <td>14.0</td>\n",
       "      <td>0</td>\n",
       "      <td>4</td>\n",
       "    </tr>\n",
       "    <tr>\n",
       "      <th>...</th>\n",
       "      <td>...</td>\n",
       "      <td>...</td>\n",
       "      <td>...</td>\n",
       "      <td>...</td>\n",
       "      <td>...</td>\n",
       "      <td>...</td>\n",
       "      <td>...</td>\n",
       "      <td>...</td>\n",
       "    </tr>\n",
       "    <tr>\n",
       "      <th>3110187</th>\n",
       "      <td>Tijuca</td>\n",
       "      <td>2022-03-09 20:33:00</td>\n",
       "      <td>32.1225</td>\n",
       "      <td>-117.5333</td>\n",
       "      <td>69</td>\n",
       "      <td>0.9</td>\n",
       "      <td>0</td>\n",
       "      <td>2</td>\n",
       "    </tr>\n",
       "    <tr>\n",
       "      <th>3110188</th>\n",
       "      <td>Fidelio</td>\n",
       "      <td>2022-03-09 20:43:00</td>\n",
       "      <td>39.2402</td>\n",
       "      <td>-76.5342</td>\n",
       "      <td>73</td>\n",
       "      <td>0.1</td>\n",
       "      <td>1</td>\n",
       "      <td>1</td>\n",
       "    </tr>\n",
       "    <tr>\n",
       "      <th>3110189</th>\n",
       "      <td>Tijuca</td>\n",
       "      <td>2022-03-09 20:48:00</td>\n",
       "      <td>32.1236</td>\n",
       "      <td>-117.5288</td>\n",
       "      <td>80</td>\n",
       "      <td>0.9</td>\n",
       "      <td>0</td>\n",
       "      <td>2</td>\n",
       "    </tr>\n",
       "    <tr>\n",
       "      <th>3110190</th>\n",
       "      <td>Tijuca</td>\n",
       "      <td>2022-03-09 20:56:00</td>\n",
       "      <td>32.1266</td>\n",
       "      <td>-117.5280</td>\n",
       "      <td>353</td>\n",
       "      <td>5.0</td>\n",
       "      <td>0</td>\n",
       "      <td>2</td>\n",
       "    </tr>\n",
       "    <tr>\n",
       "      <th>3110191</th>\n",
       "      <td>Fidelio</td>\n",
       "      <td>2022-03-09 20:58:00</td>\n",
       "      <td>39.2402</td>\n",
       "      <td>-76.5340</td>\n",
       "      <td>359</td>\n",
       "      <td>0.0</td>\n",
       "      <td>1</td>\n",
       "      <td>1</td>\n",
       "    </tr>\n",
       "  </tbody>\n",
       "</table>\n",
       "<p>3108714 rows × 8 columns</p>\n",
       "</div>"
      ],
      "text/plain": [
       "             name            timestamp  lat_deg  long_deg  course  speed  \\\n",
       "0         Tamesis  2020-12-24 02:30:00 -32.3693  170.4633     252   18.8   \n",
       "1         Tamesis  2020-12-24 03:00:00 -32.4223  170.2852     252   18.9   \n",
       "2         Torrens  2020-12-24 00:02:00  30.5557  127.2458     290   16.6   \n",
       "3        Tortugas  2020-12-24 00:02:00   9.6135  -79.9599     339   16.8   \n",
       "4          Oberon  2020-12-24 00:01:00 -29.4287   73.7375     104   14.0   \n",
       "...           ...                  ...      ...       ...     ...    ...   \n",
       "3110187    Tijuca  2022-03-09 20:33:00  32.1225 -117.5333      69    0.9   \n",
       "3110188   Fidelio  2022-03-09 20:43:00  39.2402  -76.5342      73    0.1   \n",
       "3110189    Tijuca  2022-03-09 20:48:00  32.1236 -117.5288      80    0.9   \n",
       "3110190    Tijuca  2022-03-09 20:56:00  32.1266 -117.5280     353    5.0   \n",
       "3110191   Fidelio  2022-03-09 20:58:00  39.2402  -76.5340     359    0.0   \n",
       "\n",
       "         in_port  op_code  \n",
       "0              0        4  \n",
       "1              0        4  \n",
       "2              0        4  \n",
       "3              0        4  \n",
       "4              0        4  \n",
       "...          ...      ...  \n",
       "3110187        0        2  \n",
       "3110188        1        1  \n",
       "3110189        0        2  \n",
       "3110190        0        2  \n",
       "3110191        1        1  \n",
       "\n",
       "[3108714 rows x 8 columns]"
      ]
     },
     "execution_count": 262,
     "metadata": {},
     "output_type": "execute_result"
    }
   ],
   "source": [
    "df_no_outlier = df_no_dupli[df_no_dupli.speed < 28]\n",
    "df_no_outlier"
   ]
  },
  {
   "cell_type": "code",
   "execution_count": 364,
   "id": "afda6174",
   "metadata": {},
   "outputs": [
    {
     "name": "stderr",
     "output_type": "stream",
     "text": [
      "/Users/eli/opt/anaconda3/lib/python3.8/site-packages/seaborn/distributions.py:2557: FutureWarning: `distplot` is a deprecated function and will be removed in a future version. Please adapt your code to use either `displot` (a figure-level function with similar flexibility) or `histplot` (an axes-level function for histograms).\n",
      "  warnings.warn(msg, FutureWarning)\n"
     ]
    },
    {
     "data": {
      "text/plain": [
       "<AxesSubplot:xlabel='speed'>"
      ]
     },
     "execution_count": 364,
     "metadata": {},
     "output_type": "execute_result"
    },
    {
     "data": {
      "image/png": "[encoded data removed]",
      "text/plain": [
       "<Figure size 432x288 with 1 Axes>"
      ]
     },
     "metadata": {},
     "output_type": "display_data"
    }
   ],
   "source": [
    "df_in_port_1 = df_no_outlier[df_no_outlier.in_port==1]\n",
    "sns.distplot(a=df_in_port_1[\"speed\"], hist=True, kde=False, rug=False, bins=40)"
   ]
  },
  {
   "cell_type": "code",
   "execution_count": 362,
   "id": "bc388a99",
   "metadata": {},
   "outputs": [
    {
     "data": {
      "text/html": [
       "<div>\n",
       "<style scoped>\n",
       "    .dataframe tbody tr th:only-of-type {\n",
       "        vertical-align: middle;\n",
       "    }\n",
       "\n",
       "    .dataframe tbody tr th {\n",
       "        vertical-align: top;\n",
       "    }\n",
       "\n",
       "    .dataframe thead th {\n",
       "        text-align: right;\n",
       "    }\n",
       "</style>\n",
       "<table border=\"1\" class=\"dataframe\">\n",
       "  <thead>\n",
       "    <tr style=\"text-align: right;\">\n",
       "      <th></th>\n",
       "      <th>name</th>\n",
       "      <th>timestamp</th>\n",
       "      <th>lat_deg</th>\n",
       "      <th>long_deg</th>\n",
       "      <th>course</th>\n",
       "      <th>speed</th>\n",
       "      <th>in_port</th>\n",
       "      <th>op_code</th>\n",
       "    </tr>\n",
       "  </thead>\n",
       "  <tbody>\n",
       "    <tr>\n",
       "      <th>1183</th>\n",
       "      <td>Torino</td>\n",
       "      <td>2020-12-24 06:00:00</td>\n",
       "      <td>38.9646</td>\n",
       "      <td>117.8248</td>\n",
       "      <td>283</td>\n",
       "      <td>11.000000</td>\n",
       "      <td>1</td>\n",
       "      <td>1</td>\n",
       "    </tr>\n",
       "    <tr>\n",
       "      <th>1212</th>\n",
       "      <td>Torino</td>\n",
       "      <td>2020-12-24 06:10:00</td>\n",
       "      <td>38.9792</td>\n",
       "      <td>117.7928</td>\n",
       "      <td>320</td>\n",
       "      <td>9.900000</td>\n",
       "      <td>1</td>\n",
       "      <td>1</td>\n",
       "    </tr>\n",
       "    <tr>\n",
       "      <th>1244</th>\n",
       "      <td>Torino</td>\n",
       "      <td>2020-12-24 06:16:00</td>\n",
       "      <td>38.9918</td>\n",
       "      <td>117.7838</td>\n",
       "      <td>340</td>\n",
       "      <td>8.400000</td>\n",
       "      <td>1</td>\n",
       "      <td>1</td>\n",
       "    </tr>\n",
       "    <tr>\n",
       "      <th>1281</th>\n",
       "      <td>Torino</td>\n",
       "      <td>2020-12-24 06:30:00</td>\n",
       "      <td>39.0157</td>\n",
       "      <td>117.7756</td>\n",
       "      <td>350</td>\n",
       "      <td>4.600000</td>\n",
       "      <td>1</td>\n",
       "      <td>1</td>\n",
       "    </tr>\n",
       "    <tr>\n",
       "      <th>1334</th>\n",
       "      <td>Morning Chorus</td>\n",
       "      <td>2020-12-24 06:46:00</td>\n",
       "      <td>8.9777</td>\n",
       "      <td>-79.5793</td>\n",
       "      <td>344</td>\n",
       "      <td>4.859610</td>\n",
       "      <td>1</td>\n",
       "      <td>1</td>\n",
       "    </tr>\n",
       "    <tr>\n",
       "      <th>...</th>\n",
       "      <td>...</td>\n",
       "      <td>...</td>\n",
       "      <td>...</td>\n",
       "      <td>...</td>\n",
       "      <td>...</td>\n",
       "      <td>...</td>\n",
       "      <td>...</td>\n",
       "      <td>...</td>\n",
       "    </tr>\n",
       "    <tr>\n",
       "      <th>3109110</th>\n",
       "      <td>Elektra</td>\n",
       "      <td>2022-03-08 19:06:00</td>\n",
       "      <td>40.6894</td>\n",
       "      <td>-74.1349</td>\n",
       "      <td>328</td>\n",
       "      <td>4.859613</td>\n",
       "      <td>1</td>\n",
       "      <td>1</td>\n",
       "    </tr>\n",
       "    <tr>\n",
       "      <th>3109143</th>\n",
       "      <td>Toreador</td>\n",
       "      <td>2022-03-09 07:33:00</td>\n",
       "      <td>39.0196</td>\n",
       "      <td>121.8721</td>\n",
       "      <td>307</td>\n",
       "      <td>7.000000</td>\n",
       "      <td>1</td>\n",
       "      <td>1</td>\n",
       "    </tr>\n",
       "    <tr>\n",
       "      <th>3109224</th>\n",
       "      <td>Tulane</td>\n",
       "      <td>2022-03-08 20:28:00</td>\n",
       "      <td>35.0154</td>\n",
       "      <td>136.8032</td>\n",
       "      <td>211</td>\n",
       "      <td>6.100000</td>\n",
       "      <td>1</td>\n",
       "      <td>1</td>\n",
       "    </tr>\n",
       "    <tr>\n",
       "      <th>3109290</th>\n",
       "      <td>Don Pasquale</td>\n",
       "      <td>2022-03-08 21:02:00</td>\n",
       "      <td>35.1772</td>\n",
       "      <td>128.5880</td>\n",
       "      <td>345</td>\n",
       "      <td>9.179269</td>\n",
       "      <td>1</td>\n",
       "      <td>1</td>\n",
       "    </tr>\n",
       "    <tr>\n",
       "      <th>3109934</th>\n",
       "      <td>Tugela</td>\n",
       "      <td>2022-03-09 10:38:00</td>\n",
       "      <td>40.6938</td>\n",
       "      <td>-74.1386</td>\n",
       "      <td>317</td>\n",
       "      <td>4.900000</td>\n",
       "      <td>1</td>\n",
       "      <td>1</td>\n",
       "    </tr>\n",
       "  </tbody>\n",
       "</table>\n",
       "<p>14869 rows × 8 columns</p>\n",
       "</div>"
      ],
      "text/plain": [
       "                   name            timestamp  lat_deg  long_deg  course  \\\n",
       "1183             Torino  2020-12-24 06:00:00  38.9646  117.8248     283   \n",
       "1212             Torino  2020-12-24 06:10:00  38.9792  117.7928     320   \n",
       "1244             Torino  2020-12-24 06:16:00  38.9918  117.7838     340   \n",
       "1281             Torino  2020-12-24 06:30:00  39.0157  117.7756     350   \n",
       "1334     Morning Chorus  2020-12-24 06:46:00   8.9777  -79.5793     344   \n",
       "...                 ...                  ...      ...       ...     ...   \n",
       "3109110         Elektra  2022-03-08 19:06:00  40.6894  -74.1349     328   \n",
       "3109143        Toreador  2022-03-09 07:33:00  39.0196  121.8721     307   \n",
       "3109224          Tulane  2022-03-08 20:28:00  35.0154  136.8032     211   \n",
       "3109290    Don Pasquale  2022-03-08 21:02:00  35.1772  128.5880     345   \n",
       "3109934          Tugela  2022-03-09 10:38:00  40.6938  -74.1386     317   \n",
       "\n",
       "             speed  in_port  op_code  \n",
       "1183     11.000000        1        1  \n",
       "1212      9.900000        1        1  \n",
       "1244      8.400000        1        1  \n",
       "1281      4.600000        1        1  \n",
       "1334      4.859610        1        1  \n",
       "...            ...      ...      ...  \n",
       "3109110   4.859613        1        1  \n",
       "3109143   7.000000        1        1  \n",
       "3109224   6.100000        1        1  \n",
       "3109290   9.179269        1        1  \n",
       "3109934   4.900000        1        1  \n",
       "\n",
       "[14869 rows x 8 columns]"
      ]
     },
     "execution_count": 362,
     "metadata": {},
     "output_type": "execute_result"
    }
   ],
   "source": [
    "#z-score\n",
    "df_in_port_1.speed.mean()\n",
    "df_in_port_1.speed.std()\n",
    "upper_limit = df_in_port_1.speed.mean() + 3*df_in_port_1.speed.std()\n",
    "lower_limit = df_in_port_1.speed.mean() - 3*df_in_port_1.speed.std()\n",
    "df_in_port_1[(df_in_port_1.speed<lower_limit) | (df_in_port_1.speed>upper_limit)]"
   ]
  },
  {
   "cell_type": "code",
   "execution_count": 363,
   "id": "6829875f",
   "metadata": {},
   "outputs": [
    {
     "data": {
      "text/html": [
       "<div>\n",
       "<style scoped>\n",
       "    .dataframe tbody tr th:only-of-type {\n",
       "        vertical-align: middle;\n",
       "    }\n",
       "\n",
       "    .dataframe tbody tr th {\n",
       "        vertical-align: top;\n",
       "    }\n",
       "\n",
       "    .dataframe thead th {\n",
       "        text-align: right;\n",
       "    }\n",
       "</style>\n",
       "<table border=\"1\" class=\"dataframe\">\n",
       "  <thead>\n",
       "    <tr style=\"text-align: right;\">\n",
       "      <th></th>\n",
       "      <th>name</th>\n",
       "      <th>timestamp</th>\n",
       "      <th>lat_deg</th>\n",
       "      <th>long_deg</th>\n",
       "      <th>course</th>\n",
       "      <th>speed</th>\n",
       "      <th>in_port</th>\n",
       "      <th>op_code</th>\n",
       "    </tr>\n",
       "  </thead>\n",
       "  <tbody>\n",
       "    <tr>\n",
       "      <th>43</th>\n",
       "      <td>Tulane</td>\n",
       "      <td>2020-12-24 00:10:00</td>\n",
       "      <td>47.2733</td>\n",
       "      <td>-122.4054</td>\n",
       "      <td>132</td>\n",
       "      <td>3.2</td>\n",
       "      <td>1</td>\n",
       "      <td>1</td>\n",
       "    </tr>\n",
       "    <tr>\n",
       "      <th>76</th>\n",
       "      <td>Tulane</td>\n",
       "      <td>2020-12-24 00:18:00</td>\n",
       "      <td>47.2688</td>\n",
       "      <td>-122.3980</td>\n",
       "      <td>132</td>\n",
       "      <td>3.1</td>\n",
       "      <td>1</td>\n",
       "      <td>1</td>\n",
       "    </tr>\n",
       "    <tr>\n",
       "      <th>102</th>\n",
       "      <td>Tulane</td>\n",
       "      <td>2020-12-24 00:33:00</td>\n",
       "      <td>47.2597</td>\n",
       "      <td>-122.3832</td>\n",
       "      <td>133</td>\n",
       "      <td>2.6</td>\n",
       "      <td>1</td>\n",
       "      <td>1</td>\n",
       "    </tr>\n",
       "    <tr>\n",
       "      <th>144</th>\n",
       "      <td>Tulane</td>\n",
       "      <td>2020-12-24 00:41:00</td>\n",
       "      <td>47.2577</td>\n",
       "      <td>-122.3783</td>\n",
       "      <td>334</td>\n",
       "      <td>1.3</td>\n",
       "      <td>1</td>\n",
       "      <td>1</td>\n",
       "    </tr>\n",
       "    <tr>\n",
       "      <th>147</th>\n",
       "      <td>Figaro</td>\n",
       "      <td>2020-12-24 00:51:00</td>\n",
       "      <td>50.8830</td>\n",
       "      <td>-1.3963</td>\n",
       "      <td>355</td>\n",
       "      <td>1.0</td>\n",
       "      <td>1</td>\n",
       "      <td>1</td>\n",
       "    </tr>\n",
       "    <tr>\n",
       "      <th>...</th>\n",
       "      <td>...</td>\n",
       "      <td>...</td>\n",
       "      <td>...</td>\n",
       "      <td>...</td>\n",
       "      <td>...</td>\n",
       "      <td>...</td>\n",
       "      <td>...</td>\n",
       "      <td>...</td>\n",
       "    </tr>\n",
       "    <tr>\n",
       "      <th>3109945</th>\n",
       "      <td>Tugela</td>\n",
       "      <td>2022-03-09 10:47:00</td>\n",
       "      <td>40.6976</td>\n",
       "      <td>-74.1459</td>\n",
       "      <td>302</td>\n",
       "      <td>0.1</td>\n",
       "      <td>1</td>\n",
       "      <td>1</td>\n",
       "    </tr>\n",
       "    <tr>\n",
       "      <th>3110092</th>\n",
       "      <td>Tirranna</td>\n",
       "      <td>2022-03-09 16:06:00</td>\n",
       "      <td>51.3127</td>\n",
       "      <td>3.2280</td>\n",
       "      <td>280</td>\n",
       "      <td>0.6</td>\n",
       "      <td>1</td>\n",
       "      <td>1</td>\n",
       "    </tr>\n",
       "    <tr>\n",
       "      <th>3110097</th>\n",
       "      <td>Tirranna</td>\n",
       "      <td>2022-03-09 16:17:00</td>\n",
       "      <td>51.3267</td>\n",
       "      <td>3.2232</td>\n",
       "      <td>347</td>\n",
       "      <td>3.8</td>\n",
       "      <td>1</td>\n",
       "      <td>1</td>\n",
       "    </tr>\n",
       "    <tr>\n",
       "      <th>3110186</th>\n",
       "      <td>Fidelio</td>\n",
       "      <td>2022-03-09 20:36:00</td>\n",
       "      <td>39.2382</td>\n",
       "      <td>-76.5343</td>\n",
       "      <td>357</td>\n",
       "      <td>2.4</td>\n",
       "      <td>1</td>\n",
       "      <td>1</td>\n",
       "    </tr>\n",
       "    <tr>\n",
       "      <th>3110188</th>\n",
       "      <td>Fidelio</td>\n",
       "      <td>2022-03-09 20:43:00</td>\n",
       "      <td>39.2402</td>\n",
       "      <td>-76.5342</td>\n",
       "      <td>73</td>\n",
       "      <td>0.1</td>\n",
       "      <td>1</td>\n",
       "      <td>1</td>\n",
       "    </tr>\n",
       "  </tbody>\n",
       "</table>\n",
       "<p>39604 rows × 8 columns</p>\n",
       "</div>"
      ],
      "text/plain": [
       "             name            timestamp  lat_deg  long_deg  course  speed  \\\n",
       "43         Tulane  2020-12-24 00:10:00  47.2733 -122.4054     132    3.2   \n",
       "76         Tulane  2020-12-24 00:18:00  47.2688 -122.3980     132    3.1   \n",
       "102        Tulane  2020-12-24 00:33:00  47.2597 -122.3832     133    2.6   \n",
       "144        Tulane  2020-12-24 00:41:00  47.2577 -122.3783     334    1.3   \n",
       "147        Figaro  2020-12-24 00:51:00  50.8830   -1.3963     355    1.0   \n",
       "...           ...                  ...      ...       ...     ...    ...   \n",
       "3109945    Tugela  2022-03-09 10:47:00  40.6976  -74.1459     302    0.1   \n",
       "3110092  Tirranna  2022-03-09 16:06:00  51.3127    3.2280     280    0.6   \n",
       "3110097  Tirranna  2022-03-09 16:17:00  51.3267    3.2232     347    3.8   \n",
       "3110186   Fidelio  2022-03-09 20:36:00  39.2382  -76.5343     357    2.4   \n",
       "3110188   Fidelio  2022-03-09 20:43:00  39.2402  -76.5342      73    0.1   \n",
       "\n",
       "         in_port  op_code  \n",
       "43             1        1  \n",
       "76             1        1  \n",
       "102            1        1  \n",
       "144            1        1  \n",
       "147            1        1  \n",
       "...          ...      ...  \n",
       "3109945        1        1  \n",
       "3110092        1        1  \n",
       "3110097        1        1  \n",
       "3110186        1        1  \n",
       "3110188        1        1  \n",
       "\n",
       "[39604 rows x 8 columns]"
      ]
     },
     "execution_count": 363,
     "metadata": {},
     "output_type": "execute_result"
    }
   ],
   "source": [
    "# IQR Interquartile range\n",
    "Q1 = df_in_port_1.speed.quantile(0.25)\n",
    "Q3 = df_in_port_1.speed.quantile(0.75)\n",
    "IQR = Q3 - Q1\n",
    "lower_limit_in_port_1 = Q1 - 1.5*IQR\n",
    "upper_limit_in_port_1 = Q3 + 1.5*IQR\n",
    "df_in_port_1[(df_in_port_1.speed<lower_limit_in_port_1) | (df_in_port_1.speed>upper_limit_in_port_1)]\n"
   ]
  },
  {
   "cell_type": "code",
   "execution_count": 359,
   "id": "40039a05",
   "metadata": {},
   "outputs": [
    {
     "name": "stderr",
     "output_type": "stream",
     "text": [
      "/Users/eli/opt/anaconda3/lib/python3.8/site-packages/seaborn/distributions.py:2557: FutureWarning: `distplot` is a deprecated function and will be removed in a future version. Please adapt your code to use either `displot` (a figure-level function with similar flexibility) or `histplot` (an axes-level function for histograms).\n",
      "  warnings.warn(msg, FutureWarning)\n"
     ]
    },
    {
     "data": {
      "text/plain": [
       "<AxesSubplot:xlabel='speed'>"
      ]
     },
     "execution_count": 359,
     "metadata": {},
     "output_type": "execute_result"
    },
    {
     "data": {
      "image/png": "[encoded data removed]",
      "text/plain": [
       "<Figure size 432x288 with 1 Axes>"
      ]
     },
     "metadata": {},
     "output_type": "display_data"
    }
   ],
   "source": [
    "df_in_port_0 = df_no_outlier[df_no_outlier.in_port==0]\n",
    "sns.distplot(a=df_in_port_0[\"speed\"], hist=True, kde=False, rug=False, bins=50)"
   ]
  },
  {
   "cell_type": "code",
   "execution_count": 367,
   "id": "b0ef64a8",
   "metadata": {},
   "outputs": [
    {
     "data": {
      "text/html": [
       "<div>\n",
       "<style scoped>\n",
       "    .dataframe tbody tr th:only-of-type {\n",
       "        vertical-align: middle;\n",
       "    }\n",
       "\n",
       "    .dataframe tbody tr th {\n",
       "        vertical-align: top;\n",
       "    }\n",
       "\n",
       "    .dataframe thead th {\n",
       "        text-align: right;\n",
       "    }\n",
       "</style>\n",
       "<table border=\"1\" class=\"dataframe\">\n",
       "  <thead>\n",
       "    <tr style=\"text-align: right;\">\n",
       "      <th></th>\n",
       "      <th>name</th>\n",
       "      <th>timestamp</th>\n",
       "      <th>lat_deg</th>\n",
       "      <th>long_deg</th>\n",
       "      <th>course</th>\n",
       "      <th>speed</th>\n",
       "      <th>in_port</th>\n",
       "      <th>op_code</th>\n",
       "    </tr>\n",
       "  </thead>\n",
       "  <tbody>\n",
       "  </tbody>\n",
       "</table>\n",
       "</div>"
      ],
      "text/plain": [
       "Empty DataFrame\n",
       "Columns: [name, timestamp, lat_deg, long_deg, course, speed, in_port, op_code]\n",
       "Index: []"
      ]
     },
     "execution_count": 367,
     "metadata": {},
     "output_type": "execute_result"
    }
   ],
   "source": [
    "#z-score\n",
    "df_in_port_0.speed.mean()\n",
    "df_in_port_0.speed.std()\n",
    "upper_limit = df_in_port_0.speed.mean() + 3*df_in_port_0.speed.std()\n",
    "lower_limit = df_in_port_0.speed.mean() - 3*df_in_port_0.speed.std()\n",
    "df_in_port_0[(df_in_port_0.speed<lower_limit) | (df_in_port_0.speed>upper_limit)]"
   ]
  },
  {
   "cell_type": "code",
   "execution_count": 368,
   "id": "1286c28a",
   "metadata": {},
   "outputs": [
    {
     "data": {
      "text/html": [
       "<div>\n",
       "<style scoped>\n",
       "    .dataframe tbody tr th:only-of-type {\n",
       "        vertical-align: middle;\n",
       "    }\n",
       "\n",
       "    .dataframe tbody tr th {\n",
       "        vertical-align: top;\n",
       "    }\n",
       "\n",
       "    .dataframe thead th {\n",
       "        text-align: right;\n",
       "    }\n",
       "</style>\n",
       "<table border=\"1\" class=\"dataframe\">\n",
       "  <thead>\n",
       "    <tr style=\"text-align: right;\">\n",
       "      <th></th>\n",
       "      <th>name</th>\n",
       "      <th>timestamp</th>\n",
       "      <th>lat_deg</th>\n",
       "      <th>long_deg</th>\n",
       "      <th>course</th>\n",
       "      <th>speed</th>\n",
       "      <th>in_port</th>\n",
       "      <th>op_code</th>\n",
       "    </tr>\n",
       "  </thead>\n",
       "  <tbody>\n",
       "    <tr>\n",
       "      <th>9</th>\n",
       "      <td>Undine</td>\n",
       "      <td>2020-12-24 02:53:00</td>\n",
       "      <td>58.1139</td>\n",
       "      <td>7.0401</td>\n",
       "      <td>88</td>\n",
       "      <td>0.0</td>\n",
       "      <td>0</td>\n",
       "      <td>3</td>\n",
       "    </tr>\n",
       "    <tr>\n",
       "      <th>15</th>\n",
       "      <td>Morning Chorus</td>\n",
       "      <td>2020-12-24 00:03:00</td>\n",
       "      <td>8.8661</td>\n",
       "      <td>-79.5344</td>\n",
       "      <td>139</td>\n",
       "      <td>0.0</td>\n",
       "      <td>0</td>\n",
       "      <td>3</td>\n",
       "    </tr>\n",
       "    <tr>\n",
       "      <th>24</th>\n",
       "      <td>Tongala</td>\n",
       "      <td>2020-12-24 00:08:00</td>\n",
       "      <td>24.9888</td>\n",
       "      <td>-94.9773</td>\n",
       "      <td>344</td>\n",
       "      <td>0.9</td>\n",
       "      <td>0</td>\n",
       "      <td>4</td>\n",
       "    </tr>\n",
       "    <tr>\n",
       "      <th>30</th>\n",
       "      <td>Undine</td>\n",
       "      <td>2020-12-24 00:08:00</td>\n",
       "      <td>58.1140</td>\n",
       "      <td>7.0402</td>\n",
       "      <td>88</td>\n",
       "      <td>0.0</td>\n",
       "      <td>0</td>\n",
       "      <td>3</td>\n",
       "    </tr>\n",
       "    <tr>\n",
       "      <th>37</th>\n",
       "      <td>Morning Chorus</td>\n",
       "      <td>2020-12-24 02:49:00</td>\n",
       "      <td>8.8659</td>\n",
       "      <td>-79.5343</td>\n",
       "      <td>139</td>\n",
       "      <td>0.0</td>\n",
       "      <td>0</td>\n",
       "      <td>3</td>\n",
       "    </tr>\n",
       "    <tr>\n",
       "      <th>...</th>\n",
       "      <td>...</td>\n",
       "      <td>...</td>\n",
       "      <td>...</td>\n",
       "      <td>...</td>\n",
       "      <td>...</td>\n",
       "      <td>...</td>\n",
       "      <td>...</td>\n",
       "      <td>...</td>\n",
       "    </tr>\n",
       "    <tr>\n",
       "      <th>3110183</th>\n",
       "      <td>Tijuca</td>\n",
       "      <td>2022-03-09 20:18:00</td>\n",
       "      <td>32.1215</td>\n",
       "      <td>-117.5372</td>\n",
       "      <td>77</td>\n",
       "      <td>0.1</td>\n",
       "      <td>0</td>\n",
       "      <td>2</td>\n",
       "    </tr>\n",
       "    <tr>\n",
       "      <th>3110184</th>\n",
       "      <td>Fidelio</td>\n",
       "      <td>2022-03-09 20:27:00</td>\n",
       "      <td>39.2305</td>\n",
       "      <td>-76.5397</td>\n",
       "      <td>20</td>\n",
       "      <td>3.9</td>\n",
       "      <td>0</td>\n",
       "      <td>1</td>\n",
       "    </tr>\n",
       "    <tr>\n",
       "      <th>3110185</th>\n",
       "      <td>Tijuca</td>\n",
       "      <td>2022-03-09 20:26:00</td>\n",
       "      <td>32.1219</td>\n",
       "      <td>-117.5353</td>\n",
       "      <td>66</td>\n",
       "      <td>1.0</td>\n",
       "      <td>0</td>\n",
       "      <td>2</td>\n",
       "    </tr>\n",
       "    <tr>\n",
       "      <th>3110187</th>\n",
       "      <td>Tijuca</td>\n",
       "      <td>2022-03-09 20:33:00</td>\n",
       "      <td>32.1225</td>\n",
       "      <td>-117.5333</td>\n",
       "      <td>69</td>\n",
       "      <td>0.9</td>\n",
       "      <td>0</td>\n",
       "      <td>2</td>\n",
       "    </tr>\n",
       "    <tr>\n",
       "      <th>3110189</th>\n",
       "      <td>Tijuca</td>\n",
       "      <td>2022-03-09 20:48:00</td>\n",
       "      <td>32.1236</td>\n",
       "      <td>-117.5288</td>\n",
       "      <td>80</td>\n",
       "      <td>0.9</td>\n",
       "      <td>0</td>\n",
       "      <td>2</td>\n",
       "    </tr>\n",
       "  </tbody>\n",
       "</table>\n",
       "<p>332402 rows × 8 columns</p>\n",
       "</div>"
      ],
      "text/plain": [
       "                   name            timestamp  lat_deg  long_deg  course  \\\n",
       "9                Undine  2020-12-24 02:53:00  58.1139    7.0401      88   \n",
       "15       Morning Chorus  2020-12-24 00:03:00   8.8661  -79.5344     139   \n",
       "24              Tongala  2020-12-24 00:08:00  24.9888  -94.9773     344   \n",
       "30               Undine  2020-12-24 00:08:00  58.1140    7.0402      88   \n",
       "37       Morning Chorus  2020-12-24 02:49:00   8.8659  -79.5343     139   \n",
       "...                 ...                  ...      ...       ...     ...   \n",
       "3110183          Tijuca  2022-03-09 20:18:00  32.1215 -117.5372      77   \n",
       "3110184         Fidelio  2022-03-09 20:27:00  39.2305  -76.5397      20   \n",
       "3110185          Tijuca  2022-03-09 20:26:00  32.1219 -117.5353      66   \n",
       "3110187          Tijuca  2022-03-09 20:33:00  32.1225 -117.5333      69   \n",
       "3110189          Tijuca  2022-03-09 20:48:00  32.1236 -117.5288      80   \n",
       "\n",
       "         speed  in_port  op_code  \n",
       "9          0.0        0        3  \n",
       "15         0.0        0        3  \n",
       "24         0.9        0        4  \n",
       "30         0.0        0        3  \n",
       "37         0.0        0        3  \n",
       "...        ...      ...      ...  \n",
       "3110183    0.1        0        2  \n",
       "3110184    3.9        0        1  \n",
       "3110185    1.0        0        2  \n",
       "3110187    0.9        0        2  \n",
       "3110189    0.9        0        2  \n",
       "\n",
       "[332402 rows x 8 columns]"
      ]
     },
     "execution_count": 368,
     "metadata": {},
     "output_type": "execute_result"
    }
   ],
   "source": [
    "# IQR Interquartile range\n",
    "Q1 = df_in_port_0.speed.quantile(0.25)\n",
    "Q3 = df_in_port_0.speed.quantile(0.75)\n",
    "IQR = Q3 - Q1\n",
    "lower_limit_in_port_0 = Q1 - 1.5*IQR\n",
    "upper_limit_in_port_0 = Q3 + 1.5*IQR\n",
    "df_in_port_0[(df_in_port_0.speed<lower_limit_in_port_0) | (df_in_port_0.speed>upper_limit_in_port_0)]\n"
   ]
  },
  {
   "cell_type": "code",
   "execution_count": 300,
   "id": "a32e2f53",
   "metadata": {
    "scrolled": false
   },
   "outputs": [
    {
     "name": "stderr",
     "output_type": "stream",
     "text": [
      "/Users/eli/opt/anaconda3/lib/python3.8/site-packages/seaborn/distributions.py:2557: FutureWarning: `distplot` is a deprecated function and will be removed in a future version. Please adapt your code to use either `displot` (a figure-level function with similar flexibility) or `histplot` (an axes-level function for histograms).\n",
      "  warnings.warn(msg, FutureWarning)\n"
     ]
    },
    {
     "data": {
      "text/plain": [
       "<AxesSubplot:xlabel='speed'>"
      ]
     },
     "execution_count": 300,
     "metadata": {},
     "output_type": "execute_result"
    },
    {
     "data": {
      "image/png": "[encoded data removed]",
      "text/plain": [
       "<Figure size 432x288 with 1 Axes>"
      ]
     },
     "metadata": {},
     "output_type": "display_data"
    }
   ],
   "source": [
    "df_op_code_0 = df_no_outlier[df_no_outlier.op_code==0]\n",
    "sns.distplot(a=df_op_code_0[\"speed\"], hist=True, kde=False, rug=False, bins=50)"
   ]
  },
  {
   "cell_type": "code",
   "execution_count": 270,
   "id": "a7e56a49",
   "metadata": {},
   "outputs": [
    {
     "data": {
      "text/html": [
       "<div>\n",
       "<style scoped>\n",
       "    .dataframe tbody tr th:only-of-type {\n",
       "        vertical-align: middle;\n",
       "    }\n",
       "\n",
       "    .dataframe tbody tr th {\n",
       "        vertical-align: top;\n",
       "    }\n",
       "\n",
       "    .dataframe thead th {\n",
       "        text-align: right;\n",
       "    }\n",
       "</style>\n",
       "<table border=\"1\" class=\"dataframe\">\n",
       "  <thead>\n",
       "    <tr style=\"text-align: right;\">\n",
       "      <th></th>\n",
       "      <th>name</th>\n",
       "      <th>timestamp</th>\n",
       "      <th>lat_deg</th>\n",
       "      <th>long_deg</th>\n",
       "      <th>course</th>\n",
       "      <th>speed</th>\n",
       "      <th>in_port</th>\n",
       "      <th>op_code</th>\n",
       "    </tr>\n",
       "  </thead>\n",
       "  <tbody>\n",
       "    <tr>\n",
       "      <th>330112</th>\n",
       "      <td>Tosca</td>\n",
       "      <td>2021-02-19 20:55:00</td>\n",
       "      <td>9.0014</td>\n",
       "      <td>-79.5960</td>\n",
       "      <td>125</td>\n",
       "      <td>0.0</td>\n",
       "      <td>1</td>\n",
       "      <td>0</td>\n",
       "    </tr>\n",
       "    <tr>\n",
       "      <th>942838</th>\n",
       "      <td>Toreador</td>\n",
       "      <td>2020-08-28 12:09:00</td>\n",
       "      <td>9.2265</td>\n",
       "      <td>-79.9295</td>\n",
       "      <td>89</td>\n",
       "      <td>0.0</td>\n",
       "      <td>1</td>\n",
       "      <td>0</td>\n",
       "    </tr>\n",
       "    <tr>\n",
       "      <th>337635</th>\n",
       "      <td>Tysla</td>\n",
       "      <td>2021-02-24 21:01:00</td>\n",
       "      <td>9.0011</td>\n",
       "      <td>-79.5962</td>\n",
       "      <td>146</td>\n",
       "      <td>0.0</td>\n",
       "      <td>1</td>\n",
       "      <td>0</td>\n",
       "    </tr>\n",
       "    <tr>\n",
       "      <th>337667</th>\n",
       "      <td>Tysla</td>\n",
       "      <td>2021-02-24 21:39:00</td>\n",
       "      <td>8.9960</td>\n",
       "      <td>-79.5912</td>\n",
       "      <td>149</td>\n",
       "      <td>0.0</td>\n",
       "      <td>1</td>\n",
       "      <td>0</td>\n",
       "    </tr>\n",
       "    <tr>\n",
       "      <th>942827</th>\n",
       "      <td>Toreador</td>\n",
       "      <td>2020-08-28 11:39:00</td>\n",
       "      <td>9.2267</td>\n",
       "      <td>-79.9298</td>\n",
       "      <td>89</td>\n",
       "      <td>0.0</td>\n",
       "      <td>1</td>\n",
       "      <td>0</td>\n",
       "    </tr>\n",
       "    <tr>\n",
       "      <th>...</th>\n",
       "      <td>...</td>\n",
       "      <td>...</td>\n",
       "      <td>...</td>\n",
       "      <td>...</td>\n",
       "      <td>...</td>\n",
       "      <td>...</td>\n",
       "      <td>...</td>\n",
       "      <td>...</td>\n",
       "    </tr>\n",
       "    <tr>\n",
       "      <th>719418</th>\n",
       "      <td>Tysla</td>\n",
       "      <td>2021-04-30 06:31:00</td>\n",
       "      <td>33.6310</td>\n",
       "      <td>131.7850</td>\n",
       "      <td>153</td>\n",
       "      <td>19.5</td>\n",
       "      <td>0</td>\n",
       "      <td>0</td>\n",
       "    </tr>\n",
       "    <tr>\n",
       "      <th>719345</th>\n",
       "      <td>Tysla</td>\n",
       "      <td>2021-04-30 06:00:00</td>\n",
       "      <td>33.7639</td>\n",
       "      <td>131.6701</td>\n",
       "      <td>104</td>\n",
       "      <td>19.6</td>\n",
       "      <td>0</td>\n",
       "      <td>0</td>\n",
       "    </tr>\n",
       "    <tr>\n",
       "      <th>719433</th>\n",
       "      <td>Tysla</td>\n",
       "      <td>2021-04-30 06:39:00</td>\n",
       "      <td>33.5942</td>\n",
       "      <td>131.8071</td>\n",
       "      <td>154</td>\n",
       "      <td>19.7</td>\n",
       "      <td>0</td>\n",
       "      <td>0</td>\n",
       "    </tr>\n",
       "    <tr>\n",
       "      <th>719463</th>\n",
       "      <td>Tysla</td>\n",
       "      <td>2021-04-30 06:46:00</td>\n",
       "      <td>33.5570</td>\n",
       "      <td>131.8287</td>\n",
       "      <td>155</td>\n",
       "      <td>19.8</td>\n",
       "      <td>0</td>\n",
       "      <td>0</td>\n",
       "    </tr>\n",
       "    <tr>\n",
       "      <th>719527</th>\n",
       "      <td>Tysla</td>\n",
       "      <td>2021-04-30 07:01:00</td>\n",
       "      <td>33.4803</td>\n",
       "      <td>131.8697</td>\n",
       "      <td>154</td>\n",
       "      <td>19.9</td>\n",
       "      <td>0</td>\n",
       "      <td>0</td>\n",
       "    </tr>\n",
       "  </tbody>\n",
       "</table>\n",
       "<p>21368 rows × 8 columns</p>\n",
       "</div>"
      ],
      "text/plain": [
       "            name            timestamp  lat_deg  long_deg  course  speed  \\\n",
       "330112     Tosca  2021-02-19 20:55:00   9.0014  -79.5960     125    0.0   \n",
       "942838  Toreador  2020-08-28 12:09:00   9.2265  -79.9295      89    0.0   \n",
       "337635     Tysla  2021-02-24 21:01:00   9.0011  -79.5962     146    0.0   \n",
       "337667     Tysla  2021-02-24 21:39:00   8.9960  -79.5912     149    0.0   \n",
       "942827  Toreador  2020-08-28 11:39:00   9.2267  -79.9298      89    0.0   \n",
       "...          ...                  ...      ...       ...     ...    ...   \n",
       "719418     Tysla  2021-04-30 06:31:00  33.6310  131.7850     153   19.5   \n",
       "719345     Tysla  2021-04-30 06:00:00  33.7639  131.6701     104   19.6   \n",
       "719433     Tysla  2021-04-30 06:39:00  33.5942  131.8071     154   19.7   \n",
       "719463     Tysla  2021-04-30 06:46:00  33.5570  131.8287     155   19.8   \n",
       "719527     Tysla  2021-04-30 07:01:00  33.4803  131.8697     154   19.9   \n",
       "\n",
       "        in_port  op_code  \n",
       "330112        1        0  \n",
       "942838        1        0  \n",
       "337635        1        0  \n",
       "337667        1        0  \n",
       "942827        1        0  \n",
       "...         ...      ...  \n",
       "719418        0        0  \n",
       "719345        0        0  \n",
       "719433        0        0  \n",
       "719463        0        0  \n",
       "719527        0        0  \n",
       "\n",
       "[21368 rows x 8 columns]"
      ]
     },
     "execution_count": 270,
     "metadata": {},
     "output_type": "execute_result"
    }
   ],
   "source": [
    "df_op_code_0.sort_values('speed')"
   ]
  },
  {
   "cell_type": "code",
   "execution_count": 273,
   "id": "93508a24",
   "metadata": {},
   "outputs": [
    {
     "data": {
      "text/html": [
       "<div>\n",
       "<style scoped>\n",
       "    .dataframe tbody tr th:only-of-type {\n",
       "        vertical-align: middle;\n",
       "    }\n",
       "\n",
       "    .dataframe tbody tr th {\n",
       "        vertical-align: top;\n",
       "    }\n",
       "\n",
       "    .dataframe thead th {\n",
       "        text-align: right;\n",
       "    }\n",
       "</style>\n",
       "<table border=\"1\" class=\"dataframe\">\n",
       "  <thead>\n",
       "    <tr style=\"text-align: right;\">\n",
       "      <th></th>\n",
       "      <th>name</th>\n",
       "      <th>timestamp</th>\n",
       "      <th>lat_deg</th>\n",
       "      <th>long_deg</th>\n",
       "      <th>course</th>\n",
       "      <th>speed</th>\n",
       "      <th>in_port</th>\n",
       "      <th>op_code</th>\n",
       "    </tr>\n",
       "  </thead>\n",
       "  <tbody>\n",
       "    <tr>\n",
       "      <th>714745</th>\n",
       "      <td>Tysla</td>\n",
       "      <td>2021-04-30 05:00:00</td>\n",
       "      <td>33.8326</td>\n",
       "      <td>131.2947</td>\n",
       "      <td>106</td>\n",
       "      <td>18.50000</td>\n",
       "      <td>0</td>\n",
       "      <td>0</td>\n",
       "    </tr>\n",
       "    <tr>\n",
       "      <th>719107</th>\n",
       "      <td>Tysla</td>\n",
       "      <td>2021-04-30 04:43:00</td>\n",
       "      <td>33.8573</td>\n",
       "      <td>131.1995</td>\n",
       "      <td>124</td>\n",
       "      <td>17.80000</td>\n",
       "      <td>0</td>\n",
       "      <td>0</td>\n",
       "    </tr>\n",
       "    <tr>\n",
       "      <th>719154</th>\n",
       "      <td>Tysla</td>\n",
       "      <td>2021-04-30 04:52:00</td>\n",
       "      <td>33.8447</td>\n",
       "      <td>131.2503</td>\n",
       "      <td>106</td>\n",
       "      <td>18.50000</td>\n",
       "      <td>0</td>\n",
       "      <td>0</td>\n",
       "    </tr>\n",
       "    <tr>\n",
       "      <th>719220</th>\n",
       "      <td>Tysla</td>\n",
       "      <td>2021-04-30 05:22:00</td>\n",
       "      <td>33.8068</td>\n",
       "      <td>131.4339</td>\n",
       "      <td>103</td>\n",
       "      <td>19.00000</td>\n",
       "      <td>0</td>\n",
       "      <td>0</td>\n",
       "    </tr>\n",
       "    <tr>\n",
       "      <th>719243</th>\n",
       "      <td>Tysla</td>\n",
       "      <td>2021-04-30 05:30:00</td>\n",
       "      <td>33.7983</td>\n",
       "      <td>131.4804</td>\n",
       "      <td>103</td>\n",
       "      <td>19.00000</td>\n",
       "      <td>0</td>\n",
       "      <td>0</td>\n",
       "    </tr>\n",
       "    <tr>\n",
       "      <th>719282</th>\n",
       "      <td>Tysla</td>\n",
       "      <td>2021-04-30 05:40:00</td>\n",
       "      <td>33.7862</td>\n",
       "      <td>131.5465</td>\n",
       "      <td>102</td>\n",
       "      <td>19.10000</td>\n",
       "      <td>0</td>\n",
       "      <td>0</td>\n",
       "    </tr>\n",
       "    <tr>\n",
       "      <th>719306</th>\n",
       "      <td>Tysla</td>\n",
       "      <td>2021-04-30 05:52:00</td>\n",
       "      <td>33.7730</td>\n",
       "      <td>131.6219</td>\n",
       "      <td>101</td>\n",
       "      <td>19.50000</td>\n",
       "      <td>0</td>\n",
       "      <td>0</td>\n",
       "    </tr>\n",
       "    <tr>\n",
       "      <th>719345</th>\n",
       "      <td>Tysla</td>\n",
       "      <td>2021-04-30 06:00:00</td>\n",
       "      <td>33.7639</td>\n",
       "      <td>131.6701</td>\n",
       "      <td>104</td>\n",
       "      <td>19.60000</td>\n",
       "      <td>0</td>\n",
       "      <td>0</td>\n",
       "    </tr>\n",
       "    <tr>\n",
       "      <th>719377</th>\n",
       "      <td>Tysla</td>\n",
       "      <td>2021-04-30 06:16:00</td>\n",
       "      <td>33.7038</td>\n",
       "      <td>131.7407</td>\n",
       "      <td>154</td>\n",
       "      <td>19.50000</td>\n",
       "      <td>0</td>\n",
       "      <td>0</td>\n",
       "    </tr>\n",
       "    <tr>\n",
       "      <th>719418</th>\n",
       "      <td>Tysla</td>\n",
       "      <td>2021-04-30 06:31:00</td>\n",
       "      <td>33.6310</td>\n",
       "      <td>131.7850</td>\n",
       "      <td>153</td>\n",
       "      <td>19.50000</td>\n",
       "      <td>0</td>\n",
       "      <td>0</td>\n",
       "    </tr>\n",
       "    <tr>\n",
       "      <th>719433</th>\n",
       "      <td>Tysla</td>\n",
       "      <td>2021-04-30 06:39:00</td>\n",
       "      <td>33.5942</td>\n",
       "      <td>131.8071</td>\n",
       "      <td>154</td>\n",
       "      <td>19.70000</td>\n",
       "      <td>0</td>\n",
       "      <td>0</td>\n",
       "    </tr>\n",
       "    <tr>\n",
       "      <th>719463</th>\n",
       "      <td>Tysla</td>\n",
       "      <td>2021-04-30 06:46:00</td>\n",
       "      <td>33.5570</td>\n",
       "      <td>131.8287</td>\n",
       "      <td>155</td>\n",
       "      <td>19.80000</td>\n",
       "      <td>0</td>\n",
       "      <td>0</td>\n",
       "    </tr>\n",
       "    <tr>\n",
       "      <th>719527</th>\n",
       "      <td>Tysla</td>\n",
       "      <td>2021-04-30 07:01:00</td>\n",
       "      <td>33.4803</td>\n",
       "      <td>131.8697</td>\n",
       "      <td>154</td>\n",
       "      <td>19.90000</td>\n",
       "      <td>0</td>\n",
       "      <td>0</td>\n",
       "    </tr>\n",
       "    <tr>\n",
       "      <th>1505683</th>\n",
       "      <td>Morning Chorus</td>\n",
       "      <td>2021-06-23 11:44:00</td>\n",
       "      <td>33.9469</td>\n",
       "      <td>130.9424</td>\n",
       "      <td>211</td>\n",
       "      <td>17.81858</td>\n",
       "      <td>0</td>\n",
       "      <td>0</td>\n",
       "    </tr>\n",
       "    <tr>\n",
       "      <th>1763903</th>\n",
       "      <td>Tombarra</td>\n",
       "      <td>2021-07-26 04:05:00</td>\n",
       "      <td>33.2802</td>\n",
       "      <td>132.0032</td>\n",
       "      <td>151</td>\n",
       "      <td>18.40000</td>\n",
       "      <td>0</td>\n",
       "      <td>0</td>\n",
       "    </tr>\n",
       "    <tr>\n",
       "      <th>2952900</th>\n",
       "      <td>Torino</td>\n",
       "      <td>2022-02-05 02:48:00</td>\n",
       "      <td>33.7373</td>\n",
       "      <td>131.7262</td>\n",
       "      <td>150</td>\n",
       "      <td>17.90000</td>\n",
       "      <td>0</td>\n",
       "      <td>0</td>\n",
       "    </tr>\n",
       "    <tr>\n",
       "      <th>2952947</th>\n",
       "      <td>Torino</td>\n",
       "      <td>2022-02-05 02:56:00</td>\n",
       "      <td>33.6984</td>\n",
       "      <td>131.7470</td>\n",
       "      <td>152</td>\n",
       "      <td>18.00000</td>\n",
       "      <td>0</td>\n",
       "      <td>0</td>\n",
       "    </tr>\n",
       "    <tr>\n",
       "      <th>2953010</th>\n",
       "      <td>Torino</td>\n",
       "      <td>2022-02-05 03:04:00</td>\n",
       "      <td>33.6645</td>\n",
       "      <td>131.7674</td>\n",
       "      <td>154</td>\n",
       "      <td>18.00000</td>\n",
       "      <td>0</td>\n",
       "      <td>0</td>\n",
       "    </tr>\n",
       "    <tr>\n",
       "      <th>2953055</th>\n",
       "      <td>Torino</td>\n",
       "      <td>2022-02-05 03:19:00</td>\n",
       "      <td>33.5969</td>\n",
       "      <td>131.8078</td>\n",
       "      <td>153</td>\n",
       "      <td>18.00000</td>\n",
       "      <td>0</td>\n",
       "      <td>0</td>\n",
       "    </tr>\n",
       "    <tr>\n",
       "      <th>2953086</th>\n",
       "      <td>Torino</td>\n",
       "      <td>2022-02-05 03:26:00</td>\n",
       "      <td>33.5634</td>\n",
       "      <td>131.8283</td>\n",
       "      <td>154</td>\n",
       "      <td>18.00000</td>\n",
       "      <td>0</td>\n",
       "      <td>0</td>\n",
       "    </tr>\n",
       "    <tr>\n",
       "      <th>2953141</th>\n",
       "      <td>Torino</td>\n",
       "      <td>2022-02-05 03:34:00</td>\n",
       "      <td>33.5295</td>\n",
       "      <td>131.8479</td>\n",
       "      <td>153</td>\n",
       "      <td>17.90000</td>\n",
       "      <td>0</td>\n",
       "      <td>0</td>\n",
       "    </tr>\n",
       "    <tr>\n",
       "      <th>2953191</th>\n",
       "      <td>Torino</td>\n",
       "      <td>2022-02-05 03:49:00</td>\n",
       "      <td>33.4620</td>\n",
       "      <td>131.8875</td>\n",
       "      <td>154</td>\n",
       "      <td>18.00000</td>\n",
       "      <td>0</td>\n",
       "      <td>0</td>\n",
       "    </tr>\n",
       "  </tbody>\n",
       "</table>\n",
       "</div>"
      ],
      "text/plain": [
       "                   name            timestamp  lat_deg  long_deg  course  \\\n",
       "714745            Tysla  2021-04-30 05:00:00  33.8326  131.2947     106   \n",
       "719107            Tysla  2021-04-30 04:43:00  33.8573  131.1995     124   \n",
       "719154            Tysla  2021-04-30 04:52:00  33.8447  131.2503     106   \n",
       "719220            Tysla  2021-04-30 05:22:00  33.8068  131.4339     103   \n",
       "719243            Tysla  2021-04-30 05:30:00  33.7983  131.4804     103   \n",
       "719282            Tysla  2021-04-30 05:40:00  33.7862  131.5465     102   \n",
       "719306            Tysla  2021-04-30 05:52:00  33.7730  131.6219     101   \n",
       "719345            Tysla  2021-04-30 06:00:00  33.7639  131.6701     104   \n",
       "719377            Tysla  2021-04-30 06:16:00  33.7038  131.7407     154   \n",
       "719418            Tysla  2021-04-30 06:31:00  33.6310  131.7850     153   \n",
       "719433            Tysla  2021-04-30 06:39:00  33.5942  131.8071     154   \n",
       "719463            Tysla  2021-04-30 06:46:00  33.5570  131.8287     155   \n",
       "719527            Tysla  2021-04-30 07:01:00  33.4803  131.8697     154   \n",
       "1505683  Morning Chorus  2021-06-23 11:44:00  33.9469  130.9424     211   \n",
       "1763903        Tombarra  2021-07-26 04:05:00  33.2802  132.0032     151   \n",
       "2952900          Torino  2022-02-05 02:48:00  33.7373  131.7262     150   \n",
       "2952947          Torino  2022-02-05 02:56:00  33.6984  131.7470     152   \n",
       "2953010          Torino  2022-02-05 03:04:00  33.6645  131.7674     154   \n",
       "2953055          Torino  2022-02-05 03:19:00  33.5969  131.8078     153   \n",
       "2953086          Torino  2022-02-05 03:26:00  33.5634  131.8283     154   \n",
       "2953141          Torino  2022-02-05 03:34:00  33.5295  131.8479     153   \n",
       "2953191          Torino  2022-02-05 03:49:00  33.4620  131.8875     154   \n",
       "\n",
       "            speed  in_port  op_code  \n",
       "714745   18.50000        0        0  \n",
       "719107   17.80000        0        0  \n",
       "719154   18.50000        0        0  \n",
       "719220   19.00000        0        0  \n",
       "719243   19.00000        0        0  \n",
       "719282   19.10000        0        0  \n",
       "719306   19.50000        0        0  \n",
       "719345   19.60000        0        0  \n",
       "719377   19.50000        0        0  \n",
       "719418   19.50000        0        0  \n",
       "719433   19.70000        0        0  \n",
       "719463   19.80000        0        0  \n",
       "719527   19.90000        0        0  \n",
       "1505683  17.81858        0        0  \n",
       "1763903  18.40000        0        0  \n",
       "2952900  17.90000        0        0  \n",
       "2952947  18.00000        0        0  \n",
       "2953010  18.00000        0        0  \n",
       "2953055  18.00000        0        0  \n",
       "2953086  18.00000        0        0  \n",
       "2953141  17.90000        0        0  \n",
       "2953191  18.00000        0        0  "
      ]
     },
     "execution_count": 273,
     "metadata": {},
     "output_type": "execute_result"
    }
   ],
   "source": [
    "#z-score\n",
    "df_op_code_0.speed.mean()\n",
    "df_op_code_0.speed.std()\n",
    "upper_limit = df_op_code_0.speed.mean() + 3*df_op_code_0.speed.std()\n",
    "lower_limit = df_op_code_0.speed.mean() - 3*df_op_code_0.speed.std()\n",
    "df_op_code_0[(df_op_code_0.speed<lower_limit) | (df_op_code_0.speed>upper_limit)]"
   ]
  },
  {
   "cell_type": "code",
   "execution_count": 274,
   "id": "c594c75f",
   "metadata": {},
   "outputs": [
    {
     "data": {
      "text/html": [
       "<div>\n",
       "<style scoped>\n",
       "    .dataframe tbody tr th:only-of-type {\n",
       "        vertical-align: middle;\n",
       "    }\n",
       "\n",
       "    .dataframe tbody tr th {\n",
       "        vertical-align: top;\n",
       "    }\n",
       "\n",
       "    .dataframe thead th {\n",
       "        text-align: right;\n",
       "    }\n",
       "</style>\n",
       "<table border=\"1\" class=\"dataframe\">\n",
       "  <thead>\n",
       "    <tr style=\"text-align: right;\">\n",
       "      <th></th>\n",
       "      <th>name</th>\n",
       "      <th>timestamp</th>\n",
       "      <th>lat_deg</th>\n",
       "      <th>long_deg</th>\n",
       "      <th>course</th>\n",
       "      <th>speed</th>\n",
       "      <th>in_port</th>\n",
       "      <th>op_code</th>\n",
       "    </tr>\n",
       "  </thead>\n",
       "  <tbody>\n",
       "    <tr>\n",
       "      <th>719463</th>\n",
       "      <td>Tysla</td>\n",
       "      <td>2021-04-30 06:46:00</td>\n",
       "      <td>33.5570</td>\n",
       "      <td>131.8287</td>\n",
       "      <td>155</td>\n",
       "      <td>19.8</td>\n",
       "      <td>0</td>\n",
       "      <td>0</td>\n",
       "    </tr>\n",
       "    <tr>\n",
       "      <th>719527</th>\n",
       "      <td>Tysla</td>\n",
       "      <td>2021-04-30 07:01:00</td>\n",
       "      <td>33.4803</td>\n",
       "      <td>131.8697</td>\n",
       "      <td>154</td>\n",
       "      <td>19.9</td>\n",
       "      <td>0</td>\n",
       "      <td>0</td>\n",
       "    </tr>\n",
       "  </tbody>\n",
       "</table>\n",
       "</div>"
      ],
      "text/plain": [
       "         name            timestamp  lat_deg  long_deg  course  speed  in_port  \\\n",
       "719463  Tysla  2021-04-30 06:46:00  33.5570  131.8287     155   19.8        0   \n",
       "719527  Tysla  2021-04-30 07:01:00  33.4803  131.8697     154   19.9        0   \n",
       "\n",
       "        op_code  \n",
       "719463        0  \n",
       "719527        0  "
      ]
     },
     "execution_count": 274,
     "metadata": {},
     "output_type": "execute_result"
    }
   ],
   "source": [
    "# IQR Interquartile range\n",
    "Q1 = df_op_code_0.speed.quantile(0.25)\n",
    "Q3 = df_op_code_0.speed.quantile(0.75)\n",
    "IQR = Q3 - Q1\n",
    "lower_limit_op_code_0 = Q1 - 1.5*IQR\n",
    "upper_limit_op_code_0 = Q3 + 1.5*IQR\n",
    "df_op_code_0[(df_op_code_0.speed<lower_limit_op_code_0) | (df_op_code_0.speed>upper_limit_op_code_0)]\n"
   ]
  },
  {
   "cell_type": "code",
   "execution_count": 302,
   "id": "3ef2b644",
   "metadata": {},
   "outputs": [
    {
     "data": {
      "text/plain": [
       "(21366, 8)"
      ]
     },
     "execution_count": 302,
     "metadata": {},
     "output_type": "execute_result"
    }
   ],
   "source": [
    "#No Outlier op_code_0 using IQR\n",
    "df_op_code_0_no_outlier = df_op_code_0[(df_op_code_0.speed>lower_limit_op_code_0) & (df_op_code_0.speed<upper_limit_op_code_0)]\n",
    "df_op_code_0_no_outlier.shape\n"
   ]
  },
  {
   "cell_type": "code",
   "execution_count": 303,
   "id": "572f34bf",
   "metadata": {},
   "outputs": [
    {
     "name": "stderr",
     "output_type": "stream",
     "text": [
      "/Users/eli/opt/anaconda3/lib/python3.8/site-packages/seaborn/distributions.py:2557: FutureWarning: `distplot` is a deprecated function and will be removed in a future version. Please adapt your code to use either `displot` (a figure-level function with similar flexibility) or `histplot` (an axes-level function for histograms).\n",
      "  warnings.warn(msg, FutureWarning)\n"
     ]
    },
    {
     "data": {
      "text/plain": [
       "<AxesSubplot:xlabel='speed'>"
      ]
     },
     "execution_count": 303,
     "metadata": {},
     "output_type": "execute_result"
    },
    {
     "data": {
      "image/png": "[encoded data removed]",
      "text/plain": [
       "<Figure size 432x288 with 1 Axes>"
      ]
     },
     "metadata": {},
     "output_type": "display_data"
    }
   ],
   "source": [
    "df_op_code_0 = df_op_code_0_no_outlier[df_op_code_0_no_outlier.op_code==0]\n",
    "sns.distplot(a=df_op_code_0[\"speed\"], hist=True, kde=False, rug=False, bins=50)"
   ]
  },
  {
   "cell_type": "code",
   "execution_count": 306,
   "id": "06cefda8",
   "metadata": {
    "scrolled": false
   },
   "outputs": [
    {
     "name": "stderr",
     "output_type": "stream",
     "text": [
      "/Users/eli/opt/anaconda3/lib/python3.8/site-packages/seaborn/distributions.py:2557: FutureWarning: `distplot` is a deprecated function and will be removed in a future version. Please adapt your code to use either `displot` (a figure-level function with similar flexibility) or `histplot` (an axes-level function for histograms).\n",
      "  warnings.warn(msg, FutureWarning)\n"
     ]
    },
    {
     "data": {
      "text/plain": [
       "<AxesSubplot:xlabel='speed'>"
      ]
     },
     "execution_count": 306,
     "metadata": {},
     "output_type": "execute_result"
    },
    {
     "data": {
      "image/png": "[encoded data removed]",
      "text/plain": [
       "<Figure size 432x288 with 1 Axes>"
      ]
     },
     "metadata": {},
     "output_type": "display_data"
    }
   ],
   "source": [
    "df_op_code_1 = df_no_outlier[df_no_outlier.op_code==1]\n",
    "sns.distplot(a=df_op_code_1[\"speed\"], hist=True, kde=False, rug=False)"
   ]
  },
  {
   "cell_type": "code",
   "execution_count": 307,
   "id": "9a1f1719",
   "metadata": {
    "scrolled": true
   },
   "outputs": [
    {
     "data": {
      "text/html": [
       "<div>\n",
       "<style scoped>\n",
       "    .dataframe tbody tr th:only-of-type {\n",
       "        vertical-align: middle;\n",
       "    }\n",
       "\n",
       "    .dataframe tbody tr th {\n",
       "        vertical-align: top;\n",
       "    }\n",
       "\n",
       "    .dataframe thead th {\n",
       "        text-align: right;\n",
       "    }\n",
       "</style>\n",
       "<table border=\"1\" class=\"dataframe\">\n",
       "  <thead>\n",
       "    <tr style=\"text-align: right;\">\n",
       "      <th></th>\n",
       "      <th>name</th>\n",
       "      <th>timestamp</th>\n",
       "      <th>lat_deg</th>\n",
       "      <th>long_deg</th>\n",
       "      <th>course</th>\n",
       "      <th>speed</th>\n",
       "      <th>in_port</th>\n",
       "      <th>op_code</th>\n",
       "    </tr>\n",
       "  </thead>\n",
       "  <tbody>\n",
       "    <tr>\n",
       "      <th>5</th>\n",
       "      <td>Figaro</td>\n",
       "      <td>2020-12-24 00:00:00</td>\n",
       "      <td>50.8084</td>\n",
       "      <td>-1.2912</td>\n",
       "      <td>3</td>\n",
       "      <td>11.2</td>\n",
       "      <td>0</td>\n",
       "      <td>1</td>\n",
       "    </tr>\n",
       "    <tr>\n",
       "      <th>12</th>\n",
       "      <td>Figaro</td>\n",
       "      <td>2020-12-24 00:10:00</td>\n",
       "      <td>50.8312</td>\n",
       "      <td>-1.3129</td>\n",
       "      <td>325</td>\n",
       "      <td>7.0</td>\n",
       "      <td>0</td>\n",
       "      <td>1</td>\n",
       "    </tr>\n",
       "    <tr>\n",
       "      <th>32</th>\n",
       "      <td>Figaro</td>\n",
       "      <td>2020-12-24 00:22:00</td>\n",
       "      <td>50.8498</td>\n",
       "      <td>-1.3386</td>\n",
       "      <td>312</td>\n",
       "      <td>10.6</td>\n",
       "      <td>0</td>\n",
       "      <td>1</td>\n",
       "    </tr>\n",
       "    <tr>\n",
       "      <th>43</th>\n",
       "      <td>Tulane</td>\n",
       "      <td>2020-12-24 00:10:00</td>\n",
       "      <td>47.2733</td>\n",
       "      <td>-122.4054</td>\n",
       "      <td>132</td>\n",
       "      <td>3.2</td>\n",
       "      <td>1</td>\n",
       "      <td>1</td>\n",
       "    </tr>\n",
       "    <tr>\n",
       "      <th>76</th>\n",
       "      <td>Tulane</td>\n",
       "      <td>2020-12-24 00:18:00</td>\n",
       "      <td>47.2688</td>\n",
       "      <td>-122.3980</td>\n",
       "      <td>132</td>\n",
       "      <td>3.1</td>\n",
       "      <td>1</td>\n",
       "      <td>1</td>\n",
       "    </tr>\n",
       "    <tr>\n",
       "      <th>...</th>\n",
       "      <td>...</td>\n",
       "      <td>...</td>\n",
       "      <td>...</td>\n",
       "      <td>...</td>\n",
       "      <td>...</td>\n",
       "      <td>...</td>\n",
       "      <td>...</td>\n",
       "      <td>...</td>\n",
       "    </tr>\n",
       "    <tr>\n",
       "      <th>3110182</th>\n",
       "      <td>Fidelio</td>\n",
       "      <td>2022-03-09 20:12:00</td>\n",
       "      <td>39.2124</td>\n",
       "      <td>-76.5234</td>\n",
       "      <td>318</td>\n",
       "      <td>5.5</td>\n",
       "      <td>0</td>\n",
       "      <td>1</td>\n",
       "    </tr>\n",
       "    <tr>\n",
       "      <th>3110184</th>\n",
       "      <td>Fidelio</td>\n",
       "      <td>2022-03-09 20:27:00</td>\n",
       "      <td>39.2305</td>\n",
       "      <td>-76.5397</td>\n",
       "      <td>20</td>\n",
       "      <td>3.9</td>\n",
       "      <td>0</td>\n",
       "      <td>1</td>\n",
       "    </tr>\n",
       "    <tr>\n",
       "      <th>3110186</th>\n",
       "      <td>Fidelio</td>\n",
       "      <td>2022-03-09 20:36:00</td>\n",
       "      <td>39.2382</td>\n",
       "      <td>-76.5343</td>\n",
       "      <td>357</td>\n",
       "      <td>2.4</td>\n",
       "      <td>1</td>\n",
       "      <td>1</td>\n",
       "    </tr>\n",
       "    <tr>\n",
       "      <th>3110188</th>\n",
       "      <td>Fidelio</td>\n",
       "      <td>2022-03-09 20:43:00</td>\n",
       "      <td>39.2402</td>\n",
       "      <td>-76.5342</td>\n",
       "      <td>73</td>\n",
       "      <td>0.1</td>\n",
       "      <td>1</td>\n",
       "      <td>1</td>\n",
       "    </tr>\n",
       "    <tr>\n",
       "      <th>3110191</th>\n",
       "      <td>Fidelio</td>\n",
       "      <td>2022-03-09 20:58:00</td>\n",
       "      <td>39.2402</td>\n",
       "      <td>-76.5340</td>\n",
       "      <td>359</td>\n",
       "      <td>0.0</td>\n",
       "      <td>1</td>\n",
       "      <td>1</td>\n",
       "    </tr>\n",
       "  </tbody>\n",
       "</table>\n",
       "<p>131871 rows × 8 columns</p>\n",
       "</div>"
      ],
      "text/plain": [
       "            name            timestamp  lat_deg  long_deg  course  speed  \\\n",
       "5         Figaro  2020-12-24 00:00:00  50.8084   -1.2912       3   11.2   \n",
       "12        Figaro  2020-12-24 00:10:00  50.8312   -1.3129     325    7.0   \n",
       "32        Figaro  2020-12-24 00:22:00  50.8498   -1.3386     312   10.6   \n",
       "43        Tulane  2020-12-24 00:10:00  47.2733 -122.4054     132    3.2   \n",
       "76        Tulane  2020-12-24 00:18:00  47.2688 -122.3980     132    3.1   \n",
       "...          ...                  ...      ...       ...     ...    ...   \n",
       "3110182  Fidelio  2022-03-09 20:12:00  39.2124  -76.5234     318    5.5   \n",
       "3110184  Fidelio  2022-03-09 20:27:00  39.2305  -76.5397      20    3.9   \n",
       "3110186  Fidelio  2022-03-09 20:36:00  39.2382  -76.5343     357    2.4   \n",
       "3110188  Fidelio  2022-03-09 20:43:00  39.2402  -76.5342      73    0.1   \n",
       "3110191  Fidelio  2022-03-09 20:58:00  39.2402  -76.5340     359    0.0   \n",
       "\n",
       "         in_port  op_code  \n",
       "5              0        1  \n",
       "12             0        1  \n",
       "32             0        1  \n",
       "43             1        1  \n",
       "76             1        1  \n",
       "...          ...      ...  \n",
       "3110182        0        1  \n",
       "3110184        0        1  \n",
       "3110186        1        1  \n",
       "3110188        1        1  \n",
       "3110191        1        1  \n",
       "\n",
       "[131871 rows x 8 columns]"
      ]
     },
     "execution_count": 307,
     "metadata": {},
     "output_type": "execute_result"
    }
   ],
   "source": [
    "df_op_code_1"
   ]
  },
  {
   "cell_type": "code",
   "execution_count": 308,
   "id": "25718c99",
   "metadata": {},
   "outputs": [
    {
     "data": {
      "text/plain": [
       "(131871, 8)"
      ]
     },
     "execution_count": 308,
     "metadata": {},
     "output_type": "execute_result"
    }
   ],
   "source": [
    "df_op_code_1.shape"
   ]
  },
  {
   "cell_type": "code",
   "execution_count": 309,
   "id": "984db5d3",
   "metadata": {},
   "outputs": [
    {
     "name": "stderr",
     "output_type": "stream",
     "text": [
      "<ipython-input-309-edd5d4f77e71>:3: UserWarning: Boolean Series key will be reindexed to match DataFrame index.\n",
      "  df_op_code_1_no_outlier = df_op_code_1[df_no_dupli.speed < 22]\n"
     ]
    },
    {
     "data": {
      "text/plain": [
       "(131809, 8)"
      ]
     },
     "execution_count": 309,
     "metadata": {},
     "output_type": "execute_result"
    }
   ],
   "source": [
    "#Considered as Outlier because way more than mean of Sea Passage Speed\n",
    "#No Outlier op_code_1\n",
    "df_op_code_1_no_outlier = df_op_code_1[df_no_dupli.speed < 22]\n",
    "df_op_code_1_no_outlier.shape"
   ]
  },
  {
   "cell_type": "code",
   "execution_count": 310,
   "id": "7ad72dca",
   "metadata": {},
   "outputs": [
    {
     "data": {
      "text/html": [
       "<div>\n",
       "<style scoped>\n",
       "    .dataframe tbody tr th:only-of-type {\n",
       "        vertical-align: middle;\n",
       "    }\n",
       "\n",
       "    .dataframe tbody tr th {\n",
       "        vertical-align: top;\n",
       "    }\n",
       "\n",
       "    .dataframe thead th {\n",
       "        text-align: right;\n",
       "    }\n",
       "</style>\n",
       "<table border=\"1\" class=\"dataframe\">\n",
       "  <thead>\n",
       "    <tr style=\"text-align: right;\">\n",
       "      <th></th>\n",
       "      <th>name</th>\n",
       "      <th>timestamp</th>\n",
       "      <th>lat_deg</th>\n",
       "      <th>long_deg</th>\n",
       "      <th>course</th>\n",
       "      <th>speed</th>\n",
       "      <th>in_port</th>\n",
       "      <th>op_code</th>\n",
       "    </tr>\n",
       "  </thead>\n",
       "  <tbody>\n",
       "  </tbody>\n",
       "</table>\n",
       "</div>"
      ],
      "text/plain": [
       "Empty DataFrame\n",
       "Columns: [name, timestamp, lat_deg, long_deg, course, speed, in_port, op_code]\n",
       "Index: []"
      ]
     },
     "execution_count": 310,
     "metadata": {},
     "output_type": "execute_result"
    }
   ],
   "source": [
    "#z-score\n",
    "df_op_code_1.speed.mean()\n",
    "df_op_code_1.speed.std()\n",
    "upper_limit = df_op_code_1.speed.mean() + 3*df_op_code_1.speed.std()\n",
    "lower_limit = df_op_code_1.speed.mean() - 3*df_op_code_1.speed.std()\n",
    "df_op_code_1[(df_op_code_1.speed<lower_limit) | (df_op_code_1.speed>upper_limit)]"
   ]
  },
  {
   "cell_type": "code",
   "execution_count": 311,
   "id": "b77a780d",
   "metadata": {},
   "outputs": [
    {
     "data": {
      "text/plain": [
       "28.67923397370877"
      ]
     },
     "execution_count": 311,
     "metadata": {},
     "output_type": "execute_result"
    }
   ],
   "source": [
    "upper_limit"
   ]
  },
  {
   "cell_type": "code",
   "execution_count": 312,
   "id": "bd8bd1c1",
   "metadata": {},
   "outputs": [
    {
     "data": {
      "text/html": [
       "<div>\n",
       "<style scoped>\n",
       "    .dataframe tbody tr th:only-of-type {\n",
       "        vertical-align: middle;\n",
       "    }\n",
       "\n",
       "    .dataframe tbody tr th {\n",
       "        vertical-align: top;\n",
       "    }\n",
       "\n",
       "    .dataframe thead th {\n",
       "        text-align: right;\n",
       "    }\n",
       "</style>\n",
       "<table border=\"1\" class=\"dataframe\">\n",
       "  <thead>\n",
       "    <tr style=\"text-align: right;\">\n",
       "      <th></th>\n",
       "      <th>name</th>\n",
       "      <th>timestamp</th>\n",
       "      <th>lat_deg</th>\n",
       "      <th>long_deg</th>\n",
       "      <th>course</th>\n",
       "      <th>speed</th>\n",
       "      <th>in_port</th>\n",
       "      <th>op_code</th>\n",
       "    </tr>\n",
       "  </thead>\n",
       "  <tbody>\n",
       "  </tbody>\n",
       "</table>\n",
       "</div>"
      ],
      "text/plain": [
       "Empty DataFrame\n",
       "Columns: [name, timestamp, lat_deg, long_deg, course, speed, in_port, op_code]\n",
       "Index: []"
      ]
     },
     "execution_count": 312,
     "metadata": {},
     "output_type": "execute_result"
    }
   ],
   "source": [
    "# IQR\n",
    "Q1 = df_op_code_1.speed.quantile(0.25)\n",
    "Q3 = df_op_code_1.speed.quantile(0.75)\n",
    "IQR = Q3 - Q1\n",
    "lower_limit_op_code_1 = Q1 - 1.5*IQR\n",
    "upper_limit_op_code_1 = Q3 + 1.5*IQR\n",
    "df_op_code_1[(df_op_code_1.speed<lower_limit_op_code_1) | (df_op_code_1.speed>upper_limit_op_code_1)]\n"
   ]
  },
  {
   "cell_type": "code",
   "execution_count": 313,
   "id": "03174306",
   "metadata": {},
   "outputs": [
    {
     "data": {
      "text/plain": [
       "31.4"
      ]
     },
     "execution_count": 313,
     "metadata": {},
     "output_type": "execute_result"
    }
   ],
   "source": [
    "upper_limit_op_code_1"
   ]
  },
  {
   "cell_type": "code",
   "execution_count": 316,
   "id": "34a0be41",
   "metadata": {},
   "outputs": [
    {
     "data": {
      "text/html": [
       "<div>\n",
       "<style scoped>\n",
       "    .dataframe tbody tr th:only-of-type {\n",
       "        vertical-align: middle;\n",
       "    }\n",
       "\n",
       "    .dataframe tbody tr th {\n",
       "        vertical-align: top;\n",
       "    }\n",
       "\n",
       "    .dataframe thead th {\n",
       "        text-align: right;\n",
       "    }\n",
       "</style>\n",
       "<table border=\"1\" class=\"dataframe\">\n",
       "  <thead>\n",
       "    <tr style=\"text-align: right;\">\n",
       "      <th></th>\n",
       "      <th>name</th>\n",
       "      <th>timestamp</th>\n",
       "      <th>lat_deg</th>\n",
       "      <th>long_deg</th>\n",
       "      <th>course</th>\n",
       "      <th>speed</th>\n",
       "      <th>in_port</th>\n",
       "      <th>op_code</th>\n",
       "    </tr>\n",
       "  </thead>\n",
       "  <tbody>\n",
       "    <tr>\n",
       "      <th>1462821</th>\n",
       "      <td>Salome</td>\n",
       "      <td>2021-06-17 01:51:00</td>\n",
       "      <td>29.9070</td>\n",
       "      <td>122.2252</td>\n",
       "      <td>182</td>\n",
       "      <td>0.0</td>\n",
       "      <td>0</td>\n",
       "      <td>2</td>\n",
       "    </tr>\n",
       "    <tr>\n",
       "      <th>2905617</th>\n",
       "      <td>Tirranna</td>\n",
       "      <td>2022-01-27 02:55:00</td>\n",
       "      <td>1.2915</td>\n",
       "      <td>104.0041</td>\n",
       "      <td>125</td>\n",
       "      <td>0.0</td>\n",
       "      <td>1</td>\n",
       "      <td>2</td>\n",
       "    </tr>\n",
       "    <tr>\n",
       "      <th>1416188</th>\n",
       "      <td>Turandot</td>\n",
       "      <td>2021-06-10 21:14:00</td>\n",
       "      <td>31.1448</td>\n",
       "      <td>122.7233</td>\n",
       "      <td>176</td>\n",
       "      <td>0.0</td>\n",
       "      <td>0</td>\n",
       "      <td>2</td>\n",
       "    </tr>\n",
       "    <tr>\n",
       "      <th>1416140</th>\n",
       "      <td>Turandot</td>\n",
       "      <td>2021-06-10 20:59:00</td>\n",
       "      <td>31.1450</td>\n",
       "      <td>122.7234</td>\n",
       "      <td>176</td>\n",
       "      <td>0.0</td>\n",
       "      <td>0</td>\n",
       "      <td>2</td>\n",
       "    </tr>\n",
       "    <tr>\n",
       "      <th>1416122</th>\n",
       "      <td>Don Juan</td>\n",
       "      <td>2021-06-10 21:03:00</td>\n",
       "      <td>-36.6983</td>\n",
       "      <td>174.8580</td>\n",
       "      <td>174</td>\n",
       "      <td>0.0</td>\n",
       "      <td>0</td>\n",
       "      <td>2</td>\n",
       "    </tr>\n",
       "    <tr>\n",
       "      <th>...</th>\n",
       "      <td>...</td>\n",
       "      <td>...</td>\n",
       "      <td>...</td>\n",
       "      <td>...</td>\n",
       "      <td>...</td>\n",
       "      <td>...</td>\n",
       "      <td>...</td>\n",
       "      <td>...</td>\n",
       "    </tr>\n",
       "    <tr>\n",
       "      <th>2525109</th>\n",
       "      <td>Toledo</td>\n",
       "      <td>2021-11-17 08:24:00</td>\n",
       "      <td>54.1191</td>\n",
       "      <td>7.4888</td>\n",
       "      <td>152</td>\n",
       "      <td>18.7</td>\n",
       "      <td>0</td>\n",
       "      <td>2</td>\n",
       "    </tr>\n",
       "    <tr>\n",
       "      <th>2525256</th>\n",
       "      <td>Toledo</td>\n",
       "      <td>2021-11-17 08:52:00</td>\n",
       "      <td>53.9935</td>\n",
       "      <td>7.6094</td>\n",
       "      <td>152</td>\n",
       "      <td>18.7</td>\n",
       "      <td>0</td>\n",
       "      <td>2</td>\n",
       "    </tr>\n",
       "    <tr>\n",
       "      <th>2525194</th>\n",
       "      <td>Toledo</td>\n",
       "      <td>2021-11-17 08:44:00</td>\n",
       "      <td>54.0278</td>\n",
       "      <td>7.5760</td>\n",
       "      <td>149</td>\n",
       "      <td>18.8</td>\n",
       "      <td>0</td>\n",
       "      <td>2</td>\n",
       "    </tr>\n",
       "    <tr>\n",
       "      <th>2525020</th>\n",
       "      <td>Toledo</td>\n",
       "      <td>2021-11-17 08:07:00</td>\n",
       "      <td>54.2015</td>\n",
       "      <td>7.4222</td>\n",
       "      <td>157</td>\n",
       "      <td>18.8</td>\n",
       "      <td>0</td>\n",
       "      <td>2</td>\n",
       "    </tr>\n",
       "    <tr>\n",
       "      <th>2525153</th>\n",
       "      <td>Toledo</td>\n",
       "      <td>2021-11-17 08:37:00</td>\n",
       "      <td>54.0618</td>\n",
       "      <td>7.5420</td>\n",
       "      <td>151</td>\n",
       "      <td>18.8</td>\n",
       "      <td>0</td>\n",
       "      <td>2</td>\n",
       "    </tr>\n",
       "  </tbody>\n",
       "</table>\n",
       "<p>240380 rows × 8 columns</p>\n",
       "</div>"
      ],
      "text/plain": [
       "              name            timestamp  lat_deg  long_deg  course  speed  \\\n",
       "1462821     Salome  2021-06-17 01:51:00  29.9070  122.2252     182    0.0   \n",
       "2905617   Tirranna  2022-01-27 02:55:00   1.2915  104.0041     125    0.0   \n",
       "1416188   Turandot  2021-06-10 21:14:00  31.1448  122.7233     176    0.0   \n",
       "1416140   Turandot  2021-06-10 20:59:00  31.1450  122.7234     176    0.0   \n",
       "1416122  Don Juan   2021-06-10 21:03:00 -36.6983  174.8580     174    0.0   \n",
       "...            ...                  ...      ...       ...     ...    ...   \n",
       "2525109     Toledo  2021-11-17 08:24:00  54.1191    7.4888     152   18.7   \n",
       "2525256     Toledo  2021-11-17 08:52:00  53.9935    7.6094     152   18.7   \n",
       "2525194     Toledo  2021-11-17 08:44:00  54.0278    7.5760     149   18.8   \n",
       "2525020     Toledo  2021-11-17 08:07:00  54.2015    7.4222     157   18.8   \n",
       "2525153     Toledo  2021-11-17 08:37:00  54.0618    7.5420     151   18.8   \n",
       "\n",
       "         in_port  op_code  \n",
       "1462821        0        2  \n",
       "2905617        1        2  \n",
       "1416188        0        2  \n",
       "1416140        0        2  \n",
       "1416122        0        2  \n",
       "...          ...      ...  \n",
       "2525109        0        2  \n",
       "2525256        0        2  \n",
       "2525194        0        2  \n",
       "2525020        0        2  \n",
       "2525153        0        2  \n",
       "\n",
       "[240380 rows x 8 columns]"
      ]
     },
     "execution_count": 316,
     "metadata": {},
     "output_type": "execute_result"
    }
   ],
   "source": [
    "df_op_code_2 = df_no_outlier[df_no_outlier.op_code==2]\n",
    "df_op_code_2.sort_values('speed')"
   ]
  },
  {
   "cell_type": "code",
   "execution_count": 321,
   "id": "38bcbed4",
   "metadata": {},
   "outputs": [
    {
     "data": {
      "text/plain": [
       "<AxesSubplot:xlabel='speed'>"
      ]
     },
     "execution_count": 321,
     "metadata": {},
     "output_type": "execute_result"
    },
    {
     "data": {
      "image/png": "[encoded data removed]",
      "text/plain": [
       "<Figure size 432x288 with 1 Axes>"
      ]
     },
     "metadata": {},
     "output_type": "display_data"
    }
   ],
   "source": [
    "sns.distplot( a=df_op_code_2[\"speed\"], hist=True, kde=False, rug=False,bins=40)"
   ]
  },
  {
   "cell_type": "code",
   "execution_count": 322,
   "id": "f752588b",
   "metadata": {
    "scrolled": true
   },
   "outputs": [
    {
     "data": {
      "text/html": [
       "<div>\n",
       "<style scoped>\n",
       "    .dataframe tbody tr th:only-of-type {\n",
       "        vertical-align: middle;\n",
       "    }\n",
       "\n",
       "    .dataframe tbody tr th {\n",
       "        vertical-align: top;\n",
       "    }\n",
       "\n",
       "    .dataframe thead th {\n",
       "        text-align: right;\n",
       "    }\n",
       "</style>\n",
       "<table border=\"1\" class=\"dataframe\">\n",
       "  <thead>\n",
       "    <tr style=\"text-align: right;\">\n",
       "      <th></th>\n",
       "      <th>name</th>\n",
       "      <th>timestamp</th>\n",
       "      <th>lat_deg</th>\n",
       "      <th>long_deg</th>\n",
       "      <th>course</th>\n",
       "      <th>speed</th>\n",
       "      <th>in_port</th>\n",
       "      <th>op_code</th>\n",
       "    </tr>\n",
       "  </thead>\n",
       "  <tbody>\n",
       "    <tr>\n",
       "      <th>1187</th>\n",
       "      <td>Toscana</td>\n",
       "      <td>2020-12-24 05:56:00</td>\n",
       "      <td>-29.8577</td>\n",
       "      <td>31.1599</td>\n",
       "      <td>97</td>\n",
       "      <td>14.8</td>\n",
       "      <td>0</td>\n",
       "      <td>2</td>\n",
       "    </tr>\n",
       "    <tr>\n",
       "      <th>1217</th>\n",
       "      <td>Toscana</td>\n",
       "      <td>2020-12-24 06:11:00</td>\n",
       "      <td>-29.8589</td>\n",
       "      <td>31.2370</td>\n",
       "      <td>94</td>\n",
       "      <td>16.2</td>\n",
       "      <td>0</td>\n",
       "      <td>2</td>\n",
       "    </tr>\n",
       "    <tr>\n",
       "      <th>1249</th>\n",
       "      <td>Toscana</td>\n",
       "      <td>2020-12-24 06:19:00</td>\n",
       "      <td>-29.8602</td>\n",
       "      <td>31.2763</td>\n",
       "      <td>93</td>\n",
       "      <td>16.6</td>\n",
       "      <td>0</td>\n",
       "      <td>2</td>\n",
       "    </tr>\n",
       "    <tr>\n",
       "      <th>1285</th>\n",
       "      <td>Toscana</td>\n",
       "      <td>2020-12-24 06:26:00</td>\n",
       "      <td>-29.8595</td>\n",
       "      <td>31.3154</td>\n",
       "      <td>88</td>\n",
       "      <td>16.1</td>\n",
       "      <td>0</td>\n",
       "      <td>2</td>\n",
       "    </tr>\n",
       "    <tr>\n",
       "      <th>1320</th>\n",
       "      <td>Toscana</td>\n",
       "      <td>2020-12-24 06:41:00</td>\n",
       "      <td>-29.8568</td>\n",
       "      <td>31.3886</td>\n",
       "      <td>87</td>\n",
       "      <td>12.6</td>\n",
       "      <td>0</td>\n",
       "      <td>2</td>\n",
       "    </tr>\n",
       "    <tr>\n",
       "      <th>...</th>\n",
       "      <td>...</td>\n",
       "      <td>...</td>\n",
       "      <td>...</td>\n",
       "      <td>...</td>\n",
       "      <td>...</td>\n",
       "      <td>...</td>\n",
       "      <td>...</td>\n",
       "      <td>...</td>\n",
       "    </tr>\n",
       "    <tr>\n",
       "      <th>3100725</th>\n",
       "      <td>Tirranna</td>\n",
       "      <td>2022-03-05 23:44:00</td>\n",
       "      <td>51.3621</td>\n",
       "      <td>2.7018</td>\n",
       "      <td>96</td>\n",
       "      <td>10.8</td>\n",
       "      <td>0</td>\n",
       "      <td>2</td>\n",
       "    </tr>\n",
       "    <tr>\n",
       "      <th>3109547</th>\n",
       "      <td>Toreador</td>\n",
       "      <td>2022-03-09 00:36:00</td>\n",
       "      <td>38.6873</td>\n",
       "      <td>121.9889</td>\n",
       "      <td>11</td>\n",
       "      <td>13.3</td>\n",
       "      <td>0</td>\n",
       "      <td>2</td>\n",
       "    </tr>\n",
       "    <tr>\n",
       "      <th>3109561</th>\n",
       "      <td>Toreador</td>\n",
       "      <td>2022-03-09 00:44:00</td>\n",
       "      <td>38.7179</td>\n",
       "      <td>121.9984</td>\n",
       "      <td>18</td>\n",
       "      <td>13.3</td>\n",
       "      <td>0</td>\n",
       "      <td>2</td>\n",
       "    </tr>\n",
       "    <tr>\n",
       "      <th>3109571</th>\n",
       "      <td>Toreador</td>\n",
       "      <td>2022-03-09 00:52:00</td>\n",
       "      <td>38.7444</td>\n",
       "      <td>122.0094</td>\n",
       "      <td>22</td>\n",
       "      <td>13.3</td>\n",
       "      <td>0</td>\n",
       "      <td>2</td>\n",
       "    </tr>\n",
       "    <tr>\n",
       "      <th>3109580</th>\n",
       "      <td>Toreador</td>\n",
       "      <td>2022-03-09 01:09:00</td>\n",
       "      <td>38.8026</td>\n",
       "      <td>122.0423</td>\n",
       "      <td>27</td>\n",
       "      <td>11.0</td>\n",
       "      <td>0</td>\n",
       "      <td>2</td>\n",
       "    </tr>\n",
       "  </tbody>\n",
       "</table>\n",
       "<p>7607 rows × 8 columns</p>\n",
       "</div>"
      ],
      "text/plain": [
       "             name            timestamp  lat_deg  long_deg  course  speed  \\\n",
       "1187      Toscana  2020-12-24 05:56:00 -29.8577   31.1599      97   14.8   \n",
       "1217      Toscana  2020-12-24 06:11:00 -29.8589   31.2370      94   16.2   \n",
       "1249      Toscana  2020-12-24 06:19:00 -29.8602   31.2763      93   16.6   \n",
       "1285      Toscana  2020-12-24 06:26:00 -29.8595   31.3154      88   16.1   \n",
       "1320      Toscana  2020-12-24 06:41:00 -29.8568   31.3886      87   12.6   \n",
       "...           ...                  ...      ...       ...     ...    ...   \n",
       "3100725  Tirranna  2022-03-05 23:44:00  51.3621    2.7018      96   10.8   \n",
       "3109547  Toreador  2022-03-09 00:36:00  38.6873  121.9889      11   13.3   \n",
       "3109561  Toreador  2022-03-09 00:44:00  38.7179  121.9984      18   13.3   \n",
       "3109571  Toreador  2022-03-09 00:52:00  38.7444  122.0094      22   13.3   \n",
       "3109580  Toreador  2022-03-09 01:09:00  38.8026  122.0423      27   11.0   \n",
       "\n",
       "         in_port  op_code  \n",
       "1187           0        2  \n",
       "1217           0        2  \n",
       "1249           0        2  \n",
       "1285           0        2  \n",
       "1320           0        2  \n",
       "...          ...      ...  \n",
       "3100725        0        2  \n",
       "3109547        0        2  \n",
       "3109561        0        2  \n",
       "3109571        0        2  \n",
       "3109580        0        2  \n",
       "\n",
       "[7607 rows x 8 columns]"
      ]
     },
     "execution_count": 322,
     "metadata": {},
     "output_type": "execute_result"
    }
   ],
   "source": [
    "#z-score\n",
    "df_op_code_2.speed.mean()\n",
    "df_op_code_2.speed.std()\n",
    "upper_limit = df_op_code_2.speed.mean() + 3*df_op_code_2.speed.std()\n",
    "lower_limit = df_op_code_2.speed.mean() - 3*df_op_code_2.speed.std()\n",
    "df_op_code_2[(df_op_code_2.speed<lower_limit) | (df_op_code_2.speed>upper_limit)]"
   ]
  },
  {
   "cell_type": "code",
   "execution_count": 323,
   "id": "477177e6",
   "metadata": {},
   "outputs": [
    {
     "data": {
      "text/plain": [
       "9.700353111657241"
      ]
     },
     "execution_count": 323,
     "metadata": {},
     "output_type": "execute_result"
    }
   ],
   "source": [
    "upper_limit"
   ]
  },
  {
   "cell_type": "code",
   "execution_count": 324,
   "id": "ee03ca6b",
   "metadata": {},
   "outputs": [
    {
     "data": {
      "text/plain": [
       "-6.449434878068539"
      ]
     },
     "execution_count": 324,
     "metadata": {},
     "output_type": "execute_result"
    }
   ],
   "source": [
    "lower_limit"
   ]
  },
  {
   "cell_type": "code",
   "execution_count": 325,
   "id": "80289f5b",
   "metadata": {},
   "outputs": [
    {
     "data": {
      "text/html": [
       "<div>\n",
       "<style scoped>\n",
       "    .dataframe tbody tr th:only-of-type {\n",
       "        vertical-align: middle;\n",
       "    }\n",
       "\n",
       "    .dataframe tbody tr th {\n",
       "        vertical-align: top;\n",
       "    }\n",
       "\n",
       "    .dataframe thead th {\n",
       "        text-align: right;\n",
       "    }\n",
       "</style>\n",
       "<table border=\"1\" class=\"dataframe\">\n",
       "  <thead>\n",
       "    <tr style=\"text-align: right;\">\n",
       "      <th></th>\n",
       "      <th>name</th>\n",
       "      <th>timestamp</th>\n",
       "      <th>lat_deg</th>\n",
       "      <th>long_deg</th>\n",
       "      <th>course</th>\n",
       "      <th>speed</th>\n",
       "      <th>in_port</th>\n",
       "      <th>op_code</th>\n",
       "    </tr>\n",
       "  </thead>\n",
       "  <tbody>\n",
       "    <tr>\n",
       "      <th>1021</th>\n",
       "      <td>Toscana</td>\n",
       "      <td>2020-12-24 05:12:00</td>\n",
       "      <td>-29.9031</td>\n",
       "      <td>31.1456</td>\n",
       "      <td>323</td>\n",
       "      <td>7.9</td>\n",
       "      <td>0</td>\n",
       "      <td>2</td>\n",
       "    </tr>\n",
       "    <tr>\n",
       "      <th>1055</th>\n",
       "      <td>Toscana</td>\n",
       "      <td>2020-12-24 05:21:00</td>\n",
       "      <td>-29.8918</td>\n",
       "      <td>31.1361</td>\n",
       "      <td>329</td>\n",
       "      <td>5.6</td>\n",
       "      <td>0</td>\n",
       "      <td>2</td>\n",
       "    </tr>\n",
       "    <tr>\n",
       "      <th>1116</th>\n",
       "      <td>Toscana</td>\n",
       "      <td>2020-12-24 05:38:00</td>\n",
       "      <td>-29.8690</td>\n",
       "      <td>31.1284</td>\n",
       "      <td>337</td>\n",
       "      <td>4.9</td>\n",
       "      <td>0</td>\n",
       "      <td>2</td>\n",
       "    </tr>\n",
       "    <tr>\n",
       "      <th>1156</th>\n",
       "      <td>Toscana</td>\n",
       "      <td>2020-12-24 05:48:00</td>\n",
       "      <td>-29.8567</td>\n",
       "      <td>31.1276</td>\n",
       "      <td>67</td>\n",
       "      <td>7.3</td>\n",
       "      <td>0</td>\n",
       "      <td>2</td>\n",
       "    </tr>\n",
       "    <tr>\n",
       "      <th>1187</th>\n",
       "      <td>Toscana</td>\n",
       "      <td>2020-12-24 05:56:00</td>\n",
       "      <td>-29.8577</td>\n",
       "      <td>31.1599</td>\n",
       "      <td>97</td>\n",
       "      <td>14.8</td>\n",
       "      <td>0</td>\n",
       "      <td>2</td>\n",
       "    </tr>\n",
       "    <tr>\n",
       "      <th>...</th>\n",
       "      <td>...</td>\n",
       "      <td>...</td>\n",
       "      <td>...</td>\n",
       "      <td>...</td>\n",
       "      <td>...</td>\n",
       "      <td>...</td>\n",
       "      <td>...</td>\n",
       "      <td>...</td>\n",
       "    </tr>\n",
       "    <tr>\n",
       "      <th>3109889</th>\n",
       "      <td>Carmen</td>\n",
       "      <td>2022-03-09 05:47:00</td>\n",
       "      <td>-39.1188</td>\n",
       "      <td>147.4874</td>\n",
       "      <td>76</td>\n",
       "      <td>6.9</td>\n",
       "      <td>0</td>\n",
       "      <td>2</td>\n",
       "    </tr>\n",
       "    <tr>\n",
       "      <th>3109903</th>\n",
       "      <td>Carmen</td>\n",
       "      <td>2022-03-09 05:54:00</td>\n",
       "      <td>-39.1156</td>\n",
       "      <td>147.5056</td>\n",
       "      <td>76</td>\n",
       "      <td>6.3</td>\n",
       "      <td>0</td>\n",
       "      <td>2</td>\n",
       "    </tr>\n",
       "    <tr>\n",
       "      <th>3109912</th>\n",
       "      <td>Carmen</td>\n",
       "      <td>2022-03-09 06:05:00</td>\n",
       "      <td>-39.1095</td>\n",
       "      <td>147.5328</td>\n",
       "      <td>59</td>\n",
       "      <td>8.5</td>\n",
       "      <td>0</td>\n",
       "      <td>2</td>\n",
       "    </tr>\n",
       "    <tr>\n",
       "      <th>3110170</th>\n",
       "      <td>Tijuca</td>\n",
       "      <td>2022-03-09 19:15:00</td>\n",
       "      <td>32.0991</td>\n",
       "      <td>-117.5389</td>\n",
       "      <td>14</td>\n",
       "      <td>7.1</td>\n",
       "      <td>0</td>\n",
       "      <td>2</td>\n",
       "    </tr>\n",
       "    <tr>\n",
       "      <th>3110190</th>\n",
       "      <td>Tijuca</td>\n",
       "      <td>2022-03-09 20:56:00</td>\n",
       "      <td>32.1266</td>\n",
       "      <td>-117.5280</td>\n",
       "      <td>353</td>\n",
       "      <td>5.0</td>\n",
       "      <td>0</td>\n",
       "      <td>2</td>\n",
       "    </tr>\n",
       "  </tbody>\n",
       "</table>\n",
       "<p>22343 rows × 8 columns</p>\n",
       "</div>"
      ],
      "text/plain": [
       "            name            timestamp  lat_deg  long_deg  course  speed  \\\n",
       "1021     Toscana  2020-12-24 05:12:00 -29.9031   31.1456     323    7.9   \n",
       "1055     Toscana  2020-12-24 05:21:00 -29.8918   31.1361     329    5.6   \n",
       "1116     Toscana  2020-12-24 05:38:00 -29.8690   31.1284     337    4.9   \n",
       "1156     Toscana  2020-12-24 05:48:00 -29.8567   31.1276      67    7.3   \n",
       "1187     Toscana  2020-12-24 05:56:00 -29.8577   31.1599      97   14.8   \n",
       "...          ...                  ...      ...       ...     ...    ...   \n",
       "3109889   Carmen  2022-03-09 05:47:00 -39.1188  147.4874      76    6.9   \n",
       "3109903   Carmen  2022-03-09 05:54:00 -39.1156  147.5056      76    6.3   \n",
       "3109912   Carmen  2022-03-09 06:05:00 -39.1095  147.5328      59    8.5   \n",
       "3110170   Tijuca  2022-03-09 19:15:00  32.0991 -117.5389      14    7.1   \n",
       "3110190   Tijuca  2022-03-09 20:56:00  32.1266 -117.5280     353    5.0   \n",
       "\n",
       "         in_port  op_code  \n",
       "1021           0        2  \n",
       "1055           0        2  \n",
       "1116           0        2  \n",
       "1156           0        2  \n",
       "1187           0        2  \n",
       "...          ...      ...  \n",
       "3109889        0        2  \n",
       "3109903        0        2  \n",
       "3109912        0        2  \n",
       "3110170        0        2  \n",
       "3110190        0        2  \n",
       "\n",
       "[22343 rows x 8 columns]"
      ]
     },
     "execution_count": 325,
     "metadata": {},
     "output_type": "execute_result"
    }
   ],
   "source": [
    "# IQR\n",
    "Q1 = df_op_code_2.speed.quantile(0.25)\n",
    "Q3 = df_op_code_2.speed.quantile(0.75)\n",
    "IQR = Q3 - Q1\n",
    "lower_limit_op_code_2 = Q1 - 1.5*IQR\n",
    "upper_limit_op_code_2 = Q3 + 1.5*IQR\n",
    "df_op_code_2[(df_op_code_2.speed<lower_limit_op_code_2) | (df_op_code_2.speed>upper_limit_op_code_2)]\n"
   ]
  },
  {
   "cell_type": "code",
   "execution_count": 326,
   "id": "2add0799",
   "metadata": {},
   "outputs": [
    {
     "data": {
      "text/plain": [
       "-2.8499999999999996"
      ]
     },
     "execution_count": 326,
     "metadata": {},
     "output_type": "execute_result"
    }
   ],
   "source": [
    "lower_limit_op_code_2"
   ]
  },
  {
   "cell_type": "code",
   "execution_count": 327,
   "id": "465cefb2",
   "metadata": {},
   "outputs": [
    {
     "data": {
      "text/plain": [
       "4.75"
      ]
     },
     "execution_count": 327,
     "metadata": {},
     "output_type": "execute_result"
    }
   ],
   "source": [
    "upper_limit_op_code_2"
   ]
  },
  {
   "cell_type": "code",
   "execution_count": 328,
   "id": "f35dd914",
   "metadata": {},
   "outputs": [
    {
     "data": {
      "text/plain": [
       "(240380, 8)"
      ]
     },
     "execution_count": 328,
     "metadata": {},
     "output_type": "execute_result"
    }
   ],
   "source": [
    "df_op_code_2.shape"
   ]
  },
  {
   "cell_type": "code",
   "execution_count": 329,
   "id": "81f40487",
   "metadata": {},
   "outputs": [
    {
     "data": {
      "text/plain": [
       "(232773, 8)"
      ]
     },
     "execution_count": 329,
     "metadata": {},
     "output_type": "execute_result"
    }
   ],
   "source": [
    "# No Outlier op_code_2 (considered z-score becasue it removes less data, e.g. maybe vessels move around while waitng)\n",
    "df_op_code_2_no_outlier = df_op_code_2[(df_op_code_2.speed>lower_limit) & (df_op_code_2.speed<upper_limit)]\n",
    "df_op_code_2_no_outlier.shape"
   ]
  },
  {
   "cell_type": "code",
   "execution_count": 296,
   "id": "63453b01",
   "metadata": {
    "scrolled": true
   },
   "outputs": [
    {
     "name": "stderr",
     "output_type": "stream",
     "text": [
      "/Users/eli/opt/anaconda3/lib/python3.8/site-packages/seaborn/distributions.py:2557: FutureWarning: `distplot` is a deprecated function and will be removed in a future version. Please adapt your code to use either `displot` (a figure-level function with similar flexibility) or `histplot` (an axes-level function for histograms).\n",
      "  warnings.warn(msg, FutureWarning)\n"
     ]
    },
    {
     "data": {
      "text/plain": [
       "<AxesSubplot:xlabel='speed'>"
      ]
     },
     "execution_count": 296,
     "metadata": {},
     "output_type": "execute_result"
    },
    {
     "data": {
      "image/png": "[encoded data removed]",
      "text/plain": [
       "<Figure size 432x288 with 1 Axes>"
      ]
     },
     "metadata": {},
     "output_type": "display_data"
    }
   ],
   "source": [
    "df_op_code_3 = df_no_outlier[df_no_outlier.op_code==3]\n",
    "sns.distplot( a=df_op_code_3[\"speed\"], hist=True, kde=False, rug=False, bins=25)"
   ]
  },
  {
   "cell_type": "code",
   "execution_count": 330,
   "id": "f376e38b",
   "metadata": {},
   "outputs": [
    {
     "data": {
      "text/html": [
       "<div>\n",
       "<style scoped>\n",
       "    .dataframe tbody tr th:only-of-type {\n",
       "        vertical-align: middle;\n",
       "    }\n",
       "\n",
       "    .dataframe tbody tr th {\n",
       "        vertical-align: top;\n",
       "    }\n",
       "\n",
       "    .dataframe thead th {\n",
       "        text-align: right;\n",
       "    }\n",
       "</style>\n",
       "<table border=\"1\" class=\"dataframe\">\n",
       "  <thead>\n",
       "    <tr style=\"text-align: right;\">\n",
       "      <th></th>\n",
       "      <th>name</th>\n",
       "      <th>timestamp</th>\n",
       "      <th>lat_deg</th>\n",
       "      <th>long_deg</th>\n",
       "      <th>course</th>\n",
       "      <th>speed</th>\n",
       "      <th>in_port</th>\n",
       "      <th>op_code</th>\n",
       "    </tr>\n",
       "  </thead>\n",
       "  <tbody>\n",
       "    <tr>\n",
       "      <th>9</th>\n",
       "      <td>Undine</td>\n",
       "      <td>2020-12-24 02:53:00</td>\n",
       "      <td>58.1139</td>\n",
       "      <td>7.0401</td>\n",
       "      <td>88</td>\n",
       "      <td>0.0</td>\n",
       "      <td>0</td>\n",
       "      <td>3</td>\n",
       "    </tr>\n",
       "    <tr>\n",
       "      <th>13</th>\n",
       "      <td>Don Pasquale</td>\n",
       "      <td>2020-12-24 00:01:00</td>\n",
       "      <td>53.5747</td>\n",
       "      <td>8.5582</td>\n",
       "      <td>67</td>\n",
       "      <td>0.0</td>\n",
       "      <td>1</td>\n",
       "      <td>3</td>\n",
       "    </tr>\n",
       "    <tr>\n",
       "      <th>15</th>\n",
       "      <td>Morning Chorus</td>\n",
       "      <td>2020-12-24 00:03:00</td>\n",
       "      <td>8.8661</td>\n",
       "      <td>-79.5344</td>\n",
       "      <td>139</td>\n",
       "      <td>0.0</td>\n",
       "      <td>0</td>\n",
       "      <td>3</td>\n",
       "    </tr>\n",
       "    <tr>\n",
       "      <th>25</th>\n",
       "      <td>Tonsberg</td>\n",
       "      <td>2020-12-24 00:03:00</td>\n",
       "      <td>51.3143</td>\n",
       "      <td>3.2272</td>\n",
       "      <td>124</td>\n",
       "      <td>0.0</td>\n",
       "      <td>1</td>\n",
       "      <td>3</td>\n",
       "    </tr>\n",
       "    <tr>\n",
       "      <th>30</th>\n",
       "      <td>Undine</td>\n",
       "      <td>2020-12-24 00:08:00</td>\n",
       "      <td>58.1140</td>\n",
       "      <td>7.0402</td>\n",
       "      <td>88</td>\n",
       "      <td>0.0</td>\n",
       "      <td>0</td>\n",
       "      <td>3</td>\n",
       "    </tr>\n",
       "    <tr>\n",
       "      <th>...</th>\n",
       "      <td>...</td>\n",
       "      <td>...</td>\n",
       "      <td>...</td>\n",
       "      <td>...</td>\n",
       "      <td>...</td>\n",
       "      <td>...</td>\n",
       "      <td>...</td>\n",
       "      <td>...</td>\n",
       "    </tr>\n",
       "    <tr>\n",
       "      <th>3110059</th>\n",
       "      <td>Tirranna</td>\n",
       "      <td>2022-03-09 14:49:00</td>\n",
       "      <td>51.3140</td>\n",
       "      <td>3.2272</td>\n",
       "      <td>167</td>\n",
       "      <td>0.0</td>\n",
       "      <td>1</td>\n",
       "      <td>3</td>\n",
       "    </tr>\n",
       "    <tr>\n",
       "      <th>3110064</th>\n",
       "      <td>Tirranna</td>\n",
       "      <td>2022-03-09 15:04:00</td>\n",
       "      <td>51.3128</td>\n",
       "      <td>3.2284</td>\n",
       "      <td>182</td>\n",
       "      <td>0.0</td>\n",
       "      <td>1</td>\n",
       "      <td>3</td>\n",
       "    </tr>\n",
       "    <tr>\n",
       "      <th>3110073</th>\n",
       "      <td>Tirranna</td>\n",
       "      <td>2022-03-09 15:19:00</td>\n",
       "      <td>51.3128</td>\n",
       "      <td>3.2284</td>\n",
       "      <td>182</td>\n",
       "      <td>0.0</td>\n",
       "      <td>1</td>\n",
       "      <td>3</td>\n",
       "    </tr>\n",
       "    <tr>\n",
       "      <th>3110082</th>\n",
       "      <td>Tirranna</td>\n",
       "      <td>2022-03-09 15:34:00</td>\n",
       "      <td>51.3128</td>\n",
       "      <td>3.2284</td>\n",
       "      <td>182</td>\n",
       "      <td>0.0</td>\n",
       "      <td>1</td>\n",
       "      <td>3</td>\n",
       "    </tr>\n",
       "    <tr>\n",
       "      <th>3110087</th>\n",
       "      <td>Tirranna</td>\n",
       "      <td>2022-03-09 15:49:00</td>\n",
       "      <td>51.3128</td>\n",
       "      <td>3.2284</td>\n",
       "      <td>182</td>\n",
       "      <td>0.0</td>\n",
       "      <td>1</td>\n",
       "      <td>3</td>\n",
       "    </tr>\n",
       "  </tbody>\n",
       "</table>\n",
       "<p>526313 rows × 8 columns</p>\n",
       "</div>"
      ],
      "text/plain": [
       "                   name            timestamp  lat_deg  long_deg  course  \\\n",
       "9                Undine  2020-12-24 02:53:00  58.1139    7.0401      88   \n",
       "13         Don Pasquale  2020-12-24 00:01:00  53.5747    8.5582      67   \n",
       "15       Morning Chorus  2020-12-24 00:03:00   8.8661  -79.5344     139   \n",
       "25             Tonsberg  2020-12-24 00:03:00  51.3143    3.2272     124   \n",
       "30               Undine  2020-12-24 00:08:00  58.1140    7.0402      88   \n",
       "...                 ...                  ...      ...       ...     ...   \n",
       "3110059        Tirranna  2022-03-09 14:49:00  51.3140    3.2272     167   \n",
       "3110064        Tirranna  2022-03-09 15:04:00  51.3128    3.2284     182   \n",
       "3110073        Tirranna  2022-03-09 15:19:00  51.3128    3.2284     182   \n",
       "3110082        Tirranna  2022-03-09 15:34:00  51.3128    3.2284     182   \n",
       "3110087        Tirranna  2022-03-09 15:49:00  51.3128    3.2284     182   \n",
       "\n",
       "         speed  in_port  op_code  \n",
       "9          0.0        0        3  \n",
       "13         0.0        1        3  \n",
       "15         0.0        0        3  \n",
       "25         0.0        1        3  \n",
       "30         0.0        0        3  \n",
       "...        ...      ...      ...  \n",
       "3110059    0.0        1        3  \n",
       "3110064    0.0        1        3  \n",
       "3110073    0.0        1        3  \n",
       "3110082    0.0        1        3  \n",
       "3110087    0.0        1        3  \n",
       "\n",
       "[526313 rows x 8 columns]"
      ]
     },
     "execution_count": 330,
     "metadata": {},
     "output_type": "execute_result"
    }
   ],
   "source": [
    "df_op_code_3"
   ]
  },
  {
   "cell_type": "code",
   "execution_count": 331,
   "id": "a3f0d106",
   "metadata": {},
   "outputs": [
    {
     "data": {
      "text/html": [
       "<div>\n",
       "<style scoped>\n",
       "    .dataframe tbody tr th:only-of-type {\n",
       "        vertical-align: middle;\n",
       "    }\n",
       "\n",
       "    .dataframe tbody tr th {\n",
       "        vertical-align: top;\n",
       "    }\n",
       "\n",
       "    .dataframe thead th {\n",
       "        text-align: right;\n",
       "    }\n",
       "</style>\n",
       "<table border=\"1\" class=\"dataframe\">\n",
       "  <thead>\n",
       "    <tr style=\"text-align: right;\">\n",
       "      <th></th>\n",
       "      <th>name</th>\n",
       "      <th>timestamp</th>\n",
       "      <th>lat_deg</th>\n",
       "      <th>long_deg</th>\n",
       "      <th>course</th>\n",
       "      <th>speed</th>\n",
       "      <th>in_port</th>\n",
       "      <th>op_code</th>\n",
       "    </tr>\n",
       "  </thead>\n",
       "  <tbody>\n",
       "    <tr>\n",
       "      <th>5660</th>\n",
       "      <td>Parsifal</td>\n",
       "      <td>2020-12-25 05:40:00</td>\n",
       "      <td>35.2014</td>\n",
       "      <td>128.5887</td>\n",
       "      <td>206</td>\n",
       "      <td>3.239740</td>\n",
       "      <td>1</td>\n",
       "      <td>3</td>\n",
       "    </tr>\n",
       "    <tr>\n",
       "      <th>5686</th>\n",
       "      <td>Tiger</td>\n",
       "      <td>2020-12-25 05:49:00</td>\n",
       "      <td>35.1862</td>\n",
       "      <td>128.5890</td>\n",
       "      <td>355</td>\n",
       "      <td>8.000000</td>\n",
       "      <td>1</td>\n",
       "      <td>3</td>\n",
       "    </tr>\n",
       "    <tr>\n",
       "      <th>5693</th>\n",
       "      <td>Parsifal</td>\n",
       "      <td>2020-12-25 05:52:00</td>\n",
       "      <td>35.1805</td>\n",
       "      <td>128.5872</td>\n",
       "      <td>182</td>\n",
       "      <td>4.859610</td>\n",
       "      <td>1</td>\n",
       "      <td>3</td>\n",
       "    </tr>\n",
       "    <tr>\n",
       "      <th>14677</th>\n",
       "      <td>Tarago</td>\n",
       "      <td>2020-12-27 04:59:00</td>\n",
       "      <td>39.2410</td>\n",
       "      <td>-76.5469</td>\n",
       "      <td>277</td>\n",
       "      <td>5.000000</td>\n",
       "      <td>0</td>\n",
       "      <td>3</td>\n",
       "    </tr>\n",
       "    <tr>\n",
       "      <th>14697</th>\n",
       "      <td>Tarago</td>\n",
       "      <td>2020-12-27 05:04:00</td>\n",
       "      <td>39.2437</td>\n",
       "      <td>-76.5560</td>\n",
       "      <td>313</td>\n",
       "      <td>5.400000</td>\n",
       "      <td>0</td>\n",
       "      <td>3</td>\n",
       "    </tr>\n",
       "    <tr>\n",
       "      <th>...</th>\n",
       "      <td>...</td>\n",
       "      <td>...</td>\n",
       "      <td>...</td>\n",
       "      <td>...</td>\n",
       "      <td>...</td>\n",
       "      <td>...</td>\n",
       "      <td>...</td>\n",
       "      <td>...</td>\n",
       "    </tr>\n",
       "    <tr>\n",
       "      <th>3103598</th>\n",
       "      <td>Elektra</td>\n",
       "      <td>2022-03-06 16:38:00</td>\n",
       "      <td>44.6303</td>\n",
       "      <td>-63.5313</td>\n",
       "      <td>127</td>\n",
       "      <td>3.239742</td>\n",
       "      <td>1</td>\n",
       "      <td>3</td>\n",
       "    </tr>\n",
       "    <tr>\n",
       "      <th>3104121</th>\n",
       "      <td>Tulane</td>\n",
       "      <td>2022-03-07 07:28:00</td>\n",
       "      <td>35.4649</td>\n",
       "      <td>139.7012</td>\n",
       "      <td>43</td>\n",
       "      <td>4.200000</td>\n",
       "      <td>1</td>\n",
       "      <td>3</td>\n",
       "    </tr>\n",
       "    <tr>\n",
       "      <th>3104297</th>\n",
       "      <td>Tulane</td>\n",
       "      <td>2022-03-07 07:37:00</td>\n",
       "      <td>35.4742</td>\n",
       "      <td>139.6963</td>\n",
       "      <td>277</td>\n",
       "      <td>4.400000</td>\n",
       "      <td>0</td>\n",
       "      <td>3</td>\n",
       "    </tr>\n",
       "    <tr>\n",
       "      <th>3105549</th>\n",
       "      <td>Don Pasquale</td>\n",
       "      <td>2022-03-07 21:24:00</td>\n",
       "      <td>35.5204</td>\n",
       "      <td>129.3882</td>\n",
       "      <td>258</td>\n",
       "      <td>3.239742</td>\n",
       "      <td>1</td>\n",
       "      <td>3</td>\n",
       "    </tr>\n",
       "    <tr>\n",
       "      <th>3108408</th>\n",
       "      <td>Don Pasquale</td>\n",
       "      <td>2022-03-08 08:15:00</td>\n",
       "      <td>35.5184</td>\n",
       "      <td>129.3794</td>\n",
       "      <td>86</td>\n",
       "      <td>3.239742</td>\n",
       "      <td>1</td>\n",
       "      <td>3</td>\n",
       "    </tr>\n",
       "  </tbody>\n",
       "</table>\n",
       "<p>2487 rows × 8 columns</p>\n",
       "</div>"
      ],
      "text/plain": [
       "                 name            timestamp  lat_deg  long_deg  course  \\\n",
       "5660         Parsifal  2020-12-25 05:40:00  35.2014  128.5887     206   \n",
       "5686            Tiger  2020-12-25 05:49:00  35.1862  128.5890     355   \n",
       "5693         Parsifal  2020-12-25 05:52:00  35.1805  128.5872     182   \n",
       "14677          Tarago  2020-12-27 04:59:00  39.2410  -76.5469     277   \n",
       "14697          Tarago  2020-12-27 05:04:00  39.2437  -76.5560     313   \n",
       "...               ...                  ...      ...       ...     ...   \n",
       "3103598       Elektra  2022-03-06 16:38:00  44.6303  -63.5313     127   \n",
       "3104121        Tulane  2022-03-07 07:28:00  35.4649  139.7012      43   \n",
       "3104297        Tulane  2022-03-07 07:37:00  35.4742  139.6963     277   \n",
       "3105549  Don Pasquale  2022-03-07 21:24:00  35.5204  129.3882     258   \n",
       "3108408  Don Pasquale  2022-03-08 08:15:00  35.5184  129.3794      86   \n",
       "\n",
       "            speed  in_port  op_code  \n",
       "5660     3.239740        1        3  \n",
       "5686     8.000000        1        3  \n",
       "5693     4.859610        1        3  \n",
       "14677    5.000000        0        3  \n",
       "14697    5.400000        0        3  \n",
       "...           ...      ...      ...  \n",
       "3103598  3.239742        1        3  \n",
       "3104121  4.200000        1        3  \n",
       "3104297  4.400000        0        3  \n",
       "3105549  3.239742        1        3  \n",
       "3108408  3.239742        1        3  \n",
       "\n",
       "[2487 rows x 8 columns]"
      ]
     },
     "execution_count": 331,
     "metadata": {},
     "output_type": "execute_result"
    }
   ],
   "source": [
    "#z-score\n",
    "df_op_code_3.speed.mean()\n",
    "df_op_code_3.speed.std()\n",
    "upper_limit_op_code_3 = df_op_code_3.speed.mean() + 3*df_op_code_3.speed.std()\n",
    "lower_limit_op_code_3 = df_op_code_3.speed.mean() - 3*df_op_code_3.speed.std()\n",
    "df_op_code_3[(df_op_code_3.speed<lower_limit_op_code_3) | (df_op_code_3.speed>upper_limit_op_code_3)]\n"
   ]
  },
  {
   "cell_type": "code",
   "execution_count": 332,
   "id": "9af2950e",
   "metadata": {},
   "outputs": [
    {
     "data": {
      "text/plain": [
       "2.7767868563906015"
      ]
     },
     "execution_count": 332,
     "metadata": {},
     "output_type": "execute_result"
    }
   ],
   "source": [
    "upper_limit_op_code_3"
   ]
  },
  {
   "cell_type": "code",
   "execution_count": 333,
   "id": "ba4082eb",
   "metadata": {},
   "outputs": [
    {
     "data": {
      "text/plain": [
       "-2.651296504235141"
      ]
     },
     "execution_count": 333,
     "metadata": {},
     "output_type": "execute_result"
    }
   ],
   "source": [
    "lower_limit_op_code_3"
   ]
  },
  {
   "cell_type": "code",
   "execution_count": 334,
   "id": "cedfb5a4",
   "metadata": {},
   "outputs": [
    {
     "data": {
      "text/html": [
       "<div>\n",
       "<style scoped>\n",
       "    .dataframe tbody tr th:only-of-type {\n",
       "        vertical-align: middle;\n",
       "    }\n",
       "\n",
       "    .dataframe tbody tr th {\n",
       "        vertical-align: top;\n",
       "    }\n",
       "\n",
       "    .dataframe thead th {\n",
       "        text-align: right;\n",
       "    }\n",
       "</style>\n",
       "<table border=\"1\" class=\"dataframe\">\n",
       "  <thead>\n",
       "    <tr style=\"text-align: right;\">\n",
       "      <th></th>\n",
       "      <th>name</th>\n",
       "      <th>timestamp</th>\n",
       "      <th>lat_deg</th>\n",
       "      <th>long_deg</th>\n",
       "      <th>course</th>\n",
       "      <th>speed</th>\n",
       "      <th>in_port</th>\n",
       "      <th>op_code</th>\n",
       "    </tr>\n",
       "  </thead>\n",
       "  <tbody>\n",
       "    <tr>\n",
       "      <th>518</th>\n",
       "      <td>Tarago</td>\n",
       "      <td>2020-12-27 04:47:00</td>\n",
       "      <td>39.2407</td>\n",
       "      <td>-76.5358</td>\n",
       "      <td>308</td>\n",
       "      <td>1.600000</td>\n",
       "      <td>1</td>\n",
       "      <td>3</td>\n",
       "    </tr>\n",
       "    <tr>\n",
       "      <th>994</th>\n",
       "      <td>Morning Chorus</td>\n",
       "      <td>2020-12-24 05:04:00</td>\n",
       "      <td>8.8665</td>\n",
       "      <td>-79.5341</td>\n",
       "      <td>352</td>\n",
       "      <td>0.539957</td>\n",
       "      <td>0</td>\n",
       "      <td>3</td>\n",
       "    </tr>\n",
       "    <tr>\n",
       "      <th>1332</th>\n",
       "      <td>Tarago</td>\n",
       "      <td>2020-12-27 05:28:00</td>\n",
       "      <td>39.2551</td>\n",
       "      <td>-76.5773</td>\n",
       "      <td>199</td>\n",
       "      <td>1.300000</td>\n",
       "      <td>0</td>\n",
       "      <td>3</td>\n",
       "    </tr>\n",
       "    <tr>\n",
       "      <th>2749</th>\n",
       "      <td>Torino</td>\n",
       "      <td>2020-12-24 13:54:00</td>\n",
       "      <td>39.0211</td>\n",
       "      <td>117.7684</td>\n",
       "      <td>188</td>\n",
       "      <td>0.100000</td>\n",
       "      <td>1</td>\n",
       "      <td>3</td>\n",
       "    </tr>\n",
       "    <tr>\n",
       "      <th>5569</th>\n",
       "      <td>Tiger</td>\n",
       "      <td>2020-12-25 05:05:00</td>\n",
       "      <td>35.1677</td>\n",
       "      <td>128.5877</td>\n",
       "      <td>212</td>\n",
       "      <td>0.100000</td>\n",
       "      <td>1</td>\n",
       "      <td>3</td>\n",
       "    </tr>\n",
       "    <tr>\n",
       "      <th>...</th>\n",
       "      <td>...</td>\n",
       "      <td>...</td>\n",
       "      <td>...</td>\n",
       "      <td>...</td>\n",
       "      <td>...</td>\n",
       "      <td>...</td>\n",
       "      <td>...</td>\n",
       "      <td>...</td>\n",
       "    </tr>\n",
       "    <tr>\n",
       "      <th>3106291</th>\n",
       "      <td>Don Carlos</td>\n",
       "      <td>2022-03-07 13:33:00</td>\n",
       "      <td>-32.0415</td>\n",
       "      <td>115.7493</td>\n",
       "      <td>22</td>\n",
       "      <td>1.079914</td>\n",
       "      <td>1</td>\n",
       "      <td>3</td>\n",
       "    </tr>\n",
       "    <tr>\n",
       "      <th>3108408</th>\n",
       "      <td>Don Pasquale</td>\n",
       "      <td>2022-03-08 08:15:00</td>\n",
       "      <td>35.5184</td>\n",
       "      <td>129.3794</td>\n",
       "      <td>86</td>\n",
       "      <td>3.239742</td>\n",
       "      <td>1</td>\n",
       "      <td>3</td>\n",
       "    </tr>\n",
       "    <tr>\n",
       "      <th>3108425</th>\n",
       "      <td>Don Pasquale</td>\n",
       "      <td>2022-03-08 08:23:00</td>\n",
       "      <td>35.5214</td>\n",
       "      <td>129.3898</td>\n",
       "      <td>4</td>\n",
       "      <td>2.699785</td>\n",
       "      <td>1</td>\n",
       "      <td>3</td>\n",
       "    </tr>\n",
       "    <tr>\n",
       "      <th>3108441</th>\n",
       "      <td>Don Pasquale</td>\n",
       "      <td>2022-03-08 08:30:00</td>\n",
       "      <td>35.5228</td>\n",
       "      <td>129.3904</td>\n",
       "      <td>49</td>\n",
       "      <td>0.200000</td>\n",
       "      <td>1</td>\n",
       "      <td>3</td>\n",
       "    </tr>\n",
       "    <tr>\n",
       "      <th>3109451</th>\n",
       "      <td>Toronto</td>\n",
       "      <td>2022-03-08 23:13:00</td>\n",
       "      <td>37.4581</td>\n",
       "      <td>126.6235</td>\n",
       "      <td>94</td>\n",
       "      <td>0.100000</td>\n",
       "      <td>1</td>\n",
       "      <td>3</td>\n",
       "    </tr>\n",
       "  </tbody>\n",
       "</table>\n",
       "<p>10237 rows × 8 columns</p>\n",
       "</div>"
      ],
      "text/plain": [
       "                   name            timestamp  lat_deg  long_deg  course  \\\n",
       "518              Tarago  2020-12-27 04:47:00  39.2407  -76.5358     308   \n",
       "994      Morning Chorus  2020-12-24 05:04:00   8.8665  -79.5341     352   \n",
       "1332             Tarago  2020-12-27 05:28:00  39.2551  -76.5773     199   \n",
       "2749             Torino  2020-12-24 13:54:00  39.0211  117.7684     188   \n",
       "5569              Tiger  2020-12-25 05:05:00  35.1677  128.5877     212   \n",
       "...                 ...                  ...      ...       ...     ...   \n",
       "3106291      Don Carlos  2022-03-07 13:33:00 -32.0415  115.7493      22   \n",
       "3108408    Don Pasquale  2022-03-08 08:15:00  35.5184  129.3794      86   \n",
       "3108425    Don Pasquale  2022-03-08 08:23:00  35.5214  129.3898       4   \n",
       "3108441    Don Pasquale  2022-03-08 08:30:00  35.5228  129.3904      49   \n",
       "3109451         Toronto  2022-03-08 23:13:00  37.4581  126.6235      94   \n",
       "\n",
       "            speed  in_port  op_code  \n",
       "518      1.600000        1        3  \n",
       "994      0.539957        0        3  \n",
       "1332     1.300000        0        3  \n",
       "2749     0.100000        1        3  \n",
       "5569     0.100000        1        3  \n",
       "...           ...      ...      ...  \n",
       "3106291  1.079914        1        3  \n",
       "3108408  3.239742        1        3  \n",
       "3108425  2.699785        1        3  \n",
       "3108441  0.200000        1        3  \n",
       "3109451  0.100000        1        3  \n",
       "\n",
       "[10237 rows x 8 columns]"
      ]
     },
     "execution_count": 334,
     "metadata": {},
     "output_type": "execute_result"
    }
   ],
   "source": [
    "# IQR \n",
    "Q1 = df_op_code_3.speed.quantile(0.25)\n",
    "Q3 = df_op_code_3.speed.quantile(0.75)\n",
    "IQR = Q3 - Q1\n",
    "lower_limit = Q1 - 1.5*IQR\n",
    "upper_limit = Q3 + 1.5*IQR\n",
    "df_op_code_3[(df_op_code_3.speed<lower_limit) | (df_op_code_3.speed>upper_limit)]"
   ]
  },
  {
   "cell_type": "code",
   "execution_count": 335,
   "id": "ebc81d84",
   "metadata": {},
   "outputs": [
    {
     "data": {
      "text/plain": [
       "0.0"
      ]
     },
     "execution_count": 335,
     "metadata": {},
     "output_type": "execute_result"
    }
   ],
   "source": [
    "upper_limit"
   ]
  },
  {
   "cell_type": "code",
   "execution_count": 336,
   "id": "bdb4efdb",
   "metadata": {},
   "outputs": [
    {
     "data": {
      "text/plain": [
       "0.0"
      ]
     },
     "execution_count": 336,
     "metadata": {},
     "output_type": "execute_result"
    }
   ],
   "source": [
    "lower_limit"
   ]
  },
  {
   "cell_type": "code",
   "execution_count": 337,
   "id": "f9577c5f",
   "metadata": {},
   "outputs": [
    {
     "data": {
      "text/plain": [
       "(526313, 8)"
      ]
     },
     "execution_count": 337,
     "metadata": {},
     "output_type": "execute_result"
    }
   ],
   "source": [
    "df_op_code_3.shape"
   ]
  },
  {
   "cell_type": "code",
   "execution_count": 339,
   "id": "4e17ecb5",
   "metadata": {},
   "outputs": [
    {
     "data": {
      "text/plain": [
       "(523826, 8)"
      ]
     },
     "execution_count": 339,
     "metadata": {},
     "output_type": "execute_result"
    }
   ],
   "source": [
    "# No Outlier op_code_3 based on z-score\n",
    "df_op_code_3_no_outlier = df_op_code_3[(df_op_code_3.speed>lower_limit_op_code_3) & (df_op_code_3.speed<upper_limit_op_code_3)]\n",
    "df_op_code_3_no_outlier.shape"
   ]
  },
  {
   "cell_type": "code",
   "execution_count": 340,
   "id": "6ee5ad40",
   "metadata": {
    "scrolled": true
   },
   "outputs": [
    {
     "data": {
      "text/html": [
       "<div>\n",
       "<style scoped>\n",
       "    .dataframe tbody tr th:only-of-type {\n",
       "        vertical-align: middle;\n",
       "    }\n",
       "\n",
       "    .dataframe tbody tr th {\n",
       "        vertical-align: top;\n",
       "    }\n",
       "\n",
       "    .dataframe thead th {\n",
       "        text-align: right;\n",
       "    }\n",
       "</style>\n",
       "<table border=\"1\" class=\"dataframe\">\n",
       "  <thead>\n",
       "    <tr style=\"text-align: right;\">\n",
       "      <th></th>\n",
       "      <th>name</th>\n",
       "      <th>timestamp</th>\n",
       "      <th>lat_deg</th>\n",
       "      <th>long_deg</th>\n",
       "      <th>course</th>\n",
       "      <th>speed</th>\n",
       "      <th>in_port</th>\n",
       "      <th>op_code</th>\n",
       "    </tr>\n",
       "  </thead>\n",
       "  <tbody>\n",
       "    <tr>\n",
       "      <th>527494</th>\n",
       "      <td>Tortugas</td>\n",
       "      <td>2021-03-25 16:39:00</td>\n",
       "      <td>8.8917</td>\n",
       "      <td>-79.4749</td>\n",
       "      <td>315</td>\n",
       "      <td>0.0</td>\n",
       "      <td>0</td>\n",
       "      <td>4</td>\n",
       "    </tr>\n",
       "    <tr>\n",
       "      <th>604217</th>\n",
       "      <td>Tirranna</td>\n",
       "      <td>2021-04-09 01:34:00</td>\n",
       "      <td>53.5768</td>\n",
       "      <td>8.5588</td>\n",
       "      <td>234</td>\n",
       "      <td>0.0</td>\n",
       "      <td>1</td>\n",
       "      <td>4</td>\n",
       "    </tr>\n",
       "    <tr>\n",
       "      <th>464865</th>\n",
       "      <td>Turandot</td>\n",
       "      <td>2021-03-14 02:35:00</td>\n",
       "      <td>35.5200</td>\n",
       "      <td>129.3924</td>\n",
       "      <td>13</td>\n",
       "      <td>0.0</td>\n",
       "      <td>1</td>\n",
       "      <td>4</td>\n",
       "    </tr>\n",
       "    <tr>\n",
       "      <th>604177</th>\n",
       "      <td>Tirranna</td>\n",
       "      <td>2021-04-09 01:19:00</td>\n",
       "      <td>53.5768</td>\n",
       "      <td>8.5588</td>\n",
       "      <td>234</td>\n",
       "      <td>0.0</td>\n",
       "      <td>1</td>\n",
       "      <td>4</td>\n",
       "    </tr>\n",
       "    <tr>\n",
       "      <th>630770</th>\n",
       "      <td>Tirranna</td>\n",
       "      <td>2021-04-14 19:09:00</td>\n",
       "      <td>50.8839</td>\n",
       "      <td>-1.3960</td>\n",
       "      <td>167</td>\n",
       "      <td>0.0</td>\n",
       "      <td>1</td>\n",
       "      <td>4</td>\n",
       "    </tr>\n",
       "    <tr>\n",
       "      <th>...</th>\n",
       "      <td>...</td>\n",
       "      <td>...</td>\n",
       "      <td>...</td>\n",
       "      <td>...</td>\n",
       "      <td>...</td>\n",
       "      <td>...</td>\n",
       "      <td>...</td>\n",
       "      <td>...</td>\n",
       "    </tr>\n",
       "    <tr>\n",
       "      <th>713084</th>\n",
       "      <td>Talisman</td>\n",
       "      <td>2021-04-28 01:18:00</td>\n",
       "      <td>37.2593</td>\n",
       "      <td>-71.3031</td>\n",
       "      <td>83</td>\n",
       "      <td>25.2</td>\n",
       "      <td>0</td>\n",
       "      <td>4</td>\n",
       "    </tr>\n",
       "    <tr>\n",
       "      <th>706030</th>\n",
       "      <td>Talisman</td>\n",
       "      <td>2021-04-28 00:41:00</td>\n",
       "      <td>37.2227</td>\n",
       "      <td>-71.6316</td>\n",
       "      <td>83</td>\n",
       "      <td>25.3</td>\n",
       "      <td>0</td>\n",
       "      <td>4</td>\n",
       "    </tr>\n",
       "    <tr>\n",
       "      <th>706083</th>\n",
       "      <td>Talisman</td>\n",
       "      <td>2021-04-28 01:03:00</td>\n",
       "      <td>37.2440</td>\n",
       "      <td>-71.4344</td>\n",
       "      <td>81</td>\n",
       "      <td>25.3</td>\n",
       "      <td>0</td>\n",
       "      <td>4</td>\n",
       "    </tr>\n",
       "    <tr>\n",
       "      <th>706050</th>\n",
       "      <td>Talisman</td>\n",
       "      <td>2021-04-28 00:48:00</td>\n",
       "      <td>37.2292</td>\n",
       "      <td>-71.5659</td>\n",
       "      <td>83</td>\n",
       "      <td>25.4</td>\n",
       "      <td>0</td>\n",
       "      <td>4</td>\n",
       "    </tr>\n",
       "    <tr>\n",
       "      <th>1286532</th>\n",
       "      <td>Theben</td>\n",
       "      <td>2020-11-06 20:20:00</td>\n",
       "      <td>41.3516</td>\n",
       "      <td>140.3259</td>\n",
       "      <td>56</td>\n",
       "      <td>25.5</td>\n",
       "      <td>0</td>\n",
       "      <td>4</td>\n",
       "    </tr>\n",
       "  </tbody>\n",
       "</table>\n",
       "<p>2188782 rows × 8 columns</p>\n",
       "</div>"
      ],
      "text/plain": [
       "             name            timestamp  lat_deg  long_deg  course  speed  \\\n",
       "527494   Tortugas  2021-03-25 16:39:00   8.8917  -79.4749     315    0.0   \n",
       "604217   Tirranna  2021-04-09 01:34:00  53.5768    8.5588     234    0.0   \n",
       "464865   Turandot  2021-03-14 02:35:00  35.5200  129.3924      13    0.0   \n",
       "604177   Tirranna  2021-04-09 01:19:00  53.5768    8.5588     234    0.0   \n",
       "630770   Tirranna  2021-04-14 19:09:00  50.8839   -1.3960     167    0.0   \n",
       "...           ...                  ...      ...       ...     ...    ...   \n",
       "713084   Talisman  2021-04-28 01:18:00  37.2593  -71.3031      83   25.2   \n",
       "706030   Talisman  2021-04-28 00:41:00  37.2227  -71.6316      83   25.3   \n",
       "706083   Talisman  2021-04-28 01:03:00  37.2440  -71.4344      81   25.3   \n",
       "706050   Talisman  2021-04-28 00:48:00  37.2292  -71.5659      83   25.4   \n",
       "1286532    Theben  2020-11-06 20:20:00  41.3516  140.3259      56   25.5   \n",
       "\n",
       "         in_port  op_code  \n",
       "527494         0        4  \n",
       "604217         1        4  \n",
       "464865         1        4  \n",
       "604177         1        4  \n",
       "630770         1        4  \n",
       "...          ...      ...  \n",
       "713084         0        4  \n",
       "706030         0        4  \n",
       "706083         0        4  \n",
       "706050         0        4  \n",
       "1286532        0        4  \n",
       "\n",
       "[2188782 rows x 8 columns]"
      ]
     },
     "execution_count": 340,
     "metadata": {},
     "output_type": "execute_result"
    }
   ],
   "source": [
    "df_op_code_4 = df_no_outlier[df_no_outlier.op_code==4]\n",
    "df_op_code_4.sort_values('speed')"
   ]
  },
  {
   "cell_type": "code",
   "execution_count": 341,
   "id": "6a3a0738",
   "metadata": {},
   "outputs": [
    {
     "data": {
      "text/plain": [
       "15.726237947879444"
      ]
     },
     "execution_count": 341,
     "metadata": {},
     "output_type": "execute_result"
    }
   ],
   "source": [
    "mean_speed_df_op_code_4 = df_op_code_4['speed'].mean()\n",
    "mean_speed_df_op_code_4"
   ]
  },
  {
   "cell_type": "code",
   "execution_count": 342,
   "id": "1adec057",
   "metadata": {
    "scrolled": true
   },
   "outputs": [
    {
     "name": "stderr",
     "output_type": "stream",
     "text": [
      "/Users/eli/opt/anaconda3/lib/python3.8/site-packages/seaborn/distributions.py:2557: FutureWarning: `distplot` is a deprecated function and will be removed in a future version. Please adapt your code to use either `displot` (a figure-level function with similar flexibility) or `histplot` (an axes-level function for histograms).\n",
      "  warnings.warn(msg, FutureWarning)\n"
     ]
    },
    {
     "data": {
      "text/plain": [
       "<AxesSubplot:xlabel='speed'>"
      ]
     },
     "execution_count": 342,
     "metadata": {},
     "output_type": "execute_result"
    },
    {
     "data": {
      "image/png": "[encoded data removed]",
      "text/plain": [
       "<Figure size 432x288 with 1 Axes>"
      ]
     },
     "metadata": {},
     "output_type": "display_data"
    }
   ],
   "source": [
    "sns.distplot( a=df_op_code_4[\"speed\"], hist=True, kde=False, rug=False,bins=50)"
   ]
  },
  {
   "cell_type": "code",
   "execution_count": 343,
   "id": "6e010076",
   "metadata": {
    "scrolled": true
   },
   "outputs": [
    {
     "data": {
      "text/html": [
       "<div>\n",
       "<style scoped>\n",
       "    .dataframe tbody tr th:only-of-type {\n",
       "        vertical-align: middle;\n",
       "    }\n",
       "\n",
       "    .dataframe tbody tr th {\n",
       "        vertical-align: top;\n",
       "    }\n",
       "\n",
       "    .dataframe thead th {\n",
       "        text-align: right;\n",
       "    }\n",
       "</style>\n",
       "<table border=\"1\" class=\"dataframe\">\n",
       "  <thead>\n",
       "    <tr style=\"text-align: right;\">\n",
       "      <th></th>\n",
       "      <th>name</th>\n",
       "      <th>timestamp</th>\n",
       "      <th>lat_deg</th>\n",
       "      <th>long_deg</th>\n",
       "      <th>course</th>\n",
       "      <th>speed</th>\n",
       "      <th>in_port</th>\n",
       "      <th>op_code</th>\n",
       "    </tr>\n",
       "  </thead>\n",
       "  <tbody>\n",
       "    <tr>\n",
       "      <th>24</th>\n",
       "      <td>Tongala</td>\n",
       "      <td>2020-12-24 00:08:00</td>\n",
       "      <td>24.9888</td>\n",
       "      <td>-94.9773</td>\n",
       "      <td>344</td>\n",
       "      <td>0.9</td>\n",
       "      <td>0</td>\n",
       "      <td>4</td>\n",
       "    </tr>\n",
       "    <tr>\n",
       "      <th>60</th>\n",
       "      <td>Tongala</td>\n",
       "      <td>2020-12-24 00:23:00</td>\n",
       "      <td>24.9934</td>\n",
       "      <td>-94.9775</td>\n",
       "      <td>353</td>\n",
       "      <td>1.1</td>\n",
       "      <td>0</td>\n",
       "      <td>4</td>\n",
       "    </tr>\n",
       "    <tr>\n",
       "      <th>93</th>\n",
       "      <td>Tongala</td>\n",
       "      <td>2020-12-24 00:30:00</td>\n",
       "      <td>24.9956</td>\n",
       "      <td>-94.9778</td>\n",
       "      <td>351</td>\n",
       "      <td>0.9</td>\n",
       "      <td>0</td>\n",
       "      <td>4</td>\n",
       "    </tr>\n",
       "    <tr>\n",
       "      <th>128</th>\n",
       "      <td>Tongala</td>\n",
       "      <td>2020-12-24 00:38:00</td>\n",
       "      <td>24.9976</td>\n",
       "      <td>-94.9780</td>\n",
       "      <td>353</td>\n",
       "      <td>1.1</td>\n",
       "      <td>0</td>\n",
       "      <td>4</td>\n",
       "    </tr>\n",
       "    <tr>\n",
       "      <th>170</th>\n",
       "      <td>Tongala</td>\n",
       "      <td>2020-12-24 00:46:00</td>\n",
       "      <td>24.9993</td>\n",
       "      <td>-94.9782</td>\n",
       "      <td>357</td>\n",
       "      <td>0.6</td>\n",
       "      <td>0</td>\n",
       "      <td>4</td>\n",
       "    </tr>\n",
       "    <tr>\n",
       "      <th>...</th>\n",
       "      <td>...</td>\n",
       "      <td>...</td>\n",
       "      <td>...</td>\n",
       "      <td>...</td>\n",
       "      <td>...</td>\n",
       "      <td>...</td>\n",
       "      <td>...</td>\n",
       "      <td>...</td>\n",
       "    </tr>\n",
       "    <tr>\n",
       "      <th>3109899</th>\n",
       "      <td>Tysla</td>\n",
       "      <td>2022-03-09 05:49:00</td>\n",
       "      <td>33.7106</td>\n",
       "      <td>136.9599</td>\n",
       "      <td>236</td>\n",
       "      <td>1.5</td>\n",
       "      <td>0</td>\n",
       "      <td>4</td>\n",
       "    </tr>\n",
       "    <tr>\n",
       "      <th>3109911</th>\n",
       "      <td>Tysla</td>\n",
       "      <td>2022-03-09 05:57:00</td>\n",
       "      <td>33.7088</td>\n",
       "      <td>136.9566</td>\n",
       "      <td>238</td>\n",
       "      <td>1.4</td>\n",
       "      <td>0</td>\n",
       "      <td>4</td>\n",
       "    </tr>\n",
       "    <tr>\n",
       "      <th>3109921</th>\n",
       "      <td>Tysla</td>\n",
       "      <td>2022-03-09 06:04:00</td>\n",
       "      <td>33.7071</td>\n",
       "      <td>136.9533</td>\n",
       "      <td>239</td>\n",
       "      <td>1.5</td>\n",
       "      <td>0</td>\n",
       "      <td>4</td>\n",
       "    </tr>\n",
       "    <tr>\n",
       "      <th>3110062</th>\n",
       "      <td>Thermopylae</td>\n",
       "      <td>2022-03-09 15:06:00</td>\n",
       "      <td>-26.6064</td>\n",
       "      <td>153.4685</td>\n",
       "      <td>354</td>\n",
       "      <td>2.9</td>\n",
       "      <td>0</td>\n",
       "      <td>4</td>\n",
       "    </tr>\n",
       "    <tr>\n",
       "      <th>3110067</th>\n",
       "      <td>Thermopylae</td>\n",
       "      <td>2022-03-09 15:16:00</td>\n",
       "      <td>-26.5944</td>\n",
       "      <td>153.4693</td>\n",
       "      <td>323</td>\n",
       "      <td>6.0</td>\n",
       "      <td>0</td>\n",
       "      <td>4</td>\n",
       "    </tr>\n",
       "  </tbody>\n",
       "</table>\n",
       "<p>37794 rows × 8 columns</p>\n",
       "</div>"
      ],
      "text/plain": [
       "                name            timestamp  lat_deg  long_deg  course  speed  \\\n",
       "24           Tongala  2020-12-24 00:08:00  24.9888  -94.9773     344    0.9   \n",
       "60           Tongala  2020-12-24 00:23:00  24.9934  -94.9775     353    1.1   \n",
       "93           Tongala  2020-12-24 00:30:00  24.9956  -94.9778     351    0.9   \n",
       "128          Tongala  2020-12-24 00:38:00  24.9976  -94.9780     353    1.1   \n",
       "170          Tongala  2020-12-24 00:46:00  24.9993  -94.9782     357    0.6   \n",
       "...              ...                  ...      ...       ...     ...    ...   \n",
       "3109899        Tysla  2022-03-09 05:49:00  33.7106  136.9599     236    1.5   \n",
       "3109911        Tysla  2022-03-09 05:57:00  33.7088  136.9566     238    1.4   \n",
       "3109921        Tysla  2022-03-09 06:04:00  33.7071  136.9533     239    1.5   \n",
       "3110062  Thermopylae  2022-03-09 15:06:00 -26.6064  153.4685     354    2.9   \n",
       "3110067  Thermopylae  2022-03-09 15:16:00 -26.5944  153.4693     323    6.0   \n",
       "\n",
       "         in_port  op_code  \n",
       "24             0        4  \n",
       "60             0        4  \n",
       "93             0        4  \n",
       "128            0        4  \n",
       "170            0        4  \n",
       "...          ...      ...  \n",
       "3109899        0        4  \n",
       "3109911        0        4  \n",
       "3109921        0        4  \n",
       "3110062        0        4  \n",
       "3110067        0        4  \n",
       "\n",
       "[37794 rows x 8 columns]"
      ]
     },
     "execution_count": 343,
     "metadata": {},
     "output_type": "execute_result"
    }
   ],
   "source": [
    "#z-score\n",
    "df_op_code_4.speed.mean()\n",
    "df_op_code_4.speed.std()\n",
    "upper_limit_op_code_4 = df_op_code_4.speed.mean() + 3*df_op_code_4.speed.std()\n",
    "lower_limit_op_code_4 = df_op_code_4.speed.mean() - 3*df_op_code_4.speed.std()\n",
    "df_op_code_4[(df_op_code_4.speed<lower_limit_op_code_4) | (df_op_code_4.speed>upper_limit_op_code_4)]\n"
   ]
  },
  {
   "cell_type": "code",
   "execution_count": 344,
   "id": "3ca5b5ee",
   "metadata": {},
   "outputs": [
    {
     "data": {
      "text/plain": [
       "25.221318844450273"
      ]
     },
     "execution_count": 344,
     "metadata": {},
     "output_type": "execute_result"
    }
   ],
   "source": [
    "upper_limit_op_code_4"
   ]
  },
  {
   "cell_type": "code",
   "execution_count": 345,
   "id": "38df4c74",
   "metadata": {},
   "outputs": [
    {
     "name": "stderr",
     "output_type": "stream",
     "text": [
      "/Users/eli/opt/anaconda3/lib/python3.8/site-packages/seaborn/distributions.py:2557: FutureWarning: `distplot` is a deprecated function and will be removed in a future version. Please adapt your code to use either `displot` (a figure-level function with similar flexibility) or `histplot` (an axes-level function for histograms).\n",
      "  warnings.warn(msg, FutureWarning)\n"
     ]
    },
    {
     "data": {
      "text/plain": [
       "<AxesSubplot:xlabel='speed'>"
      ]
     },
     "execution_count": 345,
     "metadata": {},
     "output_type": "execute_result"
    },
    {
     "data": {
      "image/png": "[encoded data removed]",
      "text/plain": [
       "<Figure size 432x288 with 1 Axes>"
      ]
     },
     "metadata": {},
     "output_type": "display_data"
    }
   ],
   "source": [
    "df_no_outlier_op_code_4 = df_op_code_4[(df_op_code_4.speed>lower_limit_op_code_4) & (df_op_code_4.speed<upper_limit_op_code_4)]\n",
    "sns.distplot(a=df_no_outlier_op_code_4[\"speed\"], hist=True, kde=False, rug=False, bins=50)"
   ]
  },
  {
   "cell_type": "code",
   "execution_count": 346,
   "id": "d4a5dd03",
   "metadata": {},
   "outputs": [
    {
     "data": {
      "text/html": [
       "<div>\n",
       "<style scoped>\n",
       "    .dataframe tbody tr th:only-of-type {\n",
       "        vertical-align: middle;\n",
       "    }\n",
       "\n",
       "    .dataframe tbody tr th {\n",
       "        vertical-align: top;\n",
       "    }\n",
       "\n",
       "    .dataframe thead th {\n",
       "        text-align: right;\n",
       "    }\n",
       "</style>\n",
       "<table border=\"1\" class=\"dataframe\">\n",
       "  <thead>\n",
       "    <tr style=\"text-align: right;\">\n",
       "      <th></th>\n",
       "      <th>name</th>\n",
       "      <th>timestamp</th>\n",
       "      <th>lat_deg</th>\n",
       "      <th>long_deg</th>\n",
       "      <th>course</th>\n",
       "      <th>speed</th>\n",
       "      <th>in_port</th>\n",
       "      <th>op_code</th>\n",
       "    </tr>\n",
       "  </thead>\n",
       "  <tbody>\n",
       "    <tr>\n",
       "      <th>7</th>\n",
       "      <td>Tamerlane</td>\n",
       "      <td>2020-12-24 00:01:00</td>\n",
       "      <td>39.5127</td>\n",
       "      <td>-124.9311</td>\n",
       "      <td>338</td>\n",
       "      <td>9.6</td>\n",
       "      <td>0</td>\n",
       "      <td>4</td>\n",
       "    </tr>\n",
       "    <tr>\n",
       "      <th>24</th>\n",
       "      <td>Tongala</td>\n",
       "      <td>2020-12-24 00:08:00</td>\n",
       "      <td>24.9888</td>\n",
       "      <td>-94.9773</td>\n",
       "      <td>344</td>\n",
       "      <td>0.9</td>\n",
       "      <td>0</td>\n",
       "      <td>4</td>\n",
       "    </tr>\n",
       "    <tr>\n",
       "      <th>41</th>\n",
       "      <td>Tamerlane</td>\n",
       "      <td>2020-12-24 00:09:00</td>\n",
       "      <td>39.5318</td>\n",
       "      <td>-124.9408</td>\n",
       "      <td>340</td>\n",
       "      <td>9.6</td>\n",
       "      <td>0</td>\n",
       "      <td>4</td>\n",
       "    </tr>\n",
       "    <tr>\n",
       "      <th>60</th>\n",
       "      <td>Tongala</td>\n",
       "      <td>2020-12-24 00:23:00</td>\n",
       "      <td>24.9934</td>\n",
       "      <td>-94.9775</td>\n",
       "      <td>353</td>\n",
       "      <td>1.1</td>\n",
       "      <td>0</td>\n",
       "      <td>4</td>\n",
       "    </tr>\n",
       "    <tr>\n",
       "      <th>93</th>\n",
       "      <td>Tongala</td>\n",
       "      <td>2020-12-24 00:30:00</td>\n",
       "      <td>24.9956</td>\n",
       "      <td>-94.9778</td>\n",
       "      <td>351</td>\n",
       "      <td>0.9</td>\n",
       "      <td>0</td>\n",
       "      <td>4</td>\n",
       "    </tr>\n",
       "    <tr>\n",
       "      <th>...</th>\n",
       "      <td>...</td>\n",
       "      <td>...</td>\n",
       "      <td>...</td>\n",
       "      <td>...</td>\n",
       "      <td>...</td>\n",
       "      <td>...</td>\n",
       "      <td>...</td>\n",
       "      <td>...</td>\n",
       "    </tr>\n",
       "    <tr>\n",
       "      <th>3110127</th>\n",
       "      <td>Thermopylae</td>\n",
       "      <td>2022-03-09 17:22:00</td>\n",
       "      <td>-26.7060</td>\n",
       "      <td>153.1930</td>\n",
       "      <td>231</td>\n",
       "      <td>9.0</td>\n",
       "      <td>0</td>\n",
       "      <td>4</td>\n",
       "    </tr>\n",
       "    <tr>\n",
       "      <th>3110162</th>\n",
       "      <td>Tysla</td>\n",
       "      <td>2022-03-09 18:48:00</td>\n",
       "      <td>34.0695</td>\n",
       "      <td>134.9706</td>\n",
       "      <td>358</td>\n",
       "      <td>8.7</td>\n",
       "      <td>0</td>\n",
       "      <td>4</td>\n",
       "    </tr>\n",
       "    <tr>\n",
       "      <th>3110165</th>\n",
       "      <td>Tysla</td>\n",
       "      <td>2022-03-09 18:55:00</td>\n",
       "      <td>34.0857</td>\n",
       "      <td>134.9700</td>\n",
       "      <td>3</td>\n",
       "      <td>8.6</td>\n",
       "      <td>0</td>\n",
       "      <td>4</td>\n",
       "    </tr>\n",
       "    <tr>\n",
       "      <th>3110168</th>\n",
       "      <td>Tysla</td>\n",
       "      <td>2022-03-09 19:01:00</td>\n",
       "      <td>34.1006</td>\n",
       "      <td>134.9741</td>\n",
       "      <td>19</td>\n",
       "      <td>8.7</td>\n",
       "      <td>0</td>\n",
       "      <td>4</td>\n",
       "    </tr>\n",
       "    <tr>\n",
       "      <th>3110171</th>\n",
       "      <td>Tysla</td>\n",
       "      <td>2022-03-09 19:11:00</td>\n",
       "      <td>34.1233</td>\n",
       "      <td>134.9848</td>\n",
       "      <td>9</td>\n",
       "      <td>8.5</td>\n",
       "      <td>0</td>\n",
       "      <td>4</td>\n",
       "    </tr>\n",
       "  </tbody>\n",
       "</table>\n",
       "<p>131797 rows × 8 columns</p>\n",
       "</div>"
      ],
      "text/plain": [
       "                name            timestamp  lat_deg  long_deg  course  speed  \\\n",
       "7          Tamerlane  2020-12-24 00:01:00  39.5127 -124.9311     338    9.6   \n",
       "24           Tongala  2020-12-24 00:08:00  24.9888  -94.9773     344    0.9   \n",
       "41         Tamerlane  2020-12-24 00:09:00  39.5318 -124.9408     340    9.6   \n",
       "60           Tongala  2020-12-24 00:23:00  24.9934  -94.9775     353    1.1   \n",
       "93           Tongala  2020-12-24 00:30:00  24.9956  -94.9778     351    0.9   \n",
       "...              ...                  ...      ...       ...     ...    ...   \n",
       "3110127  Thermopylae  2022-03-09 17:22:00 -26.7060  153.1930     231    9.0   \n",
       "3110162        Tysla  2022-03-09 18:48:00  34.0695  134.9706     358    8.7   \n",
       "3110165        Tysla  2022-03-09 18:55:00  34.0857  134.9700       3    8.6   \n",
       "3110168        Tysla  2022-03-09 19:01:00  34.1006  134.9741      19    8.7   \n",
       "3110171        Tysla  2022-03-09 19:11:00  34.1233  134.9848       9    8.5   \n",
       "\n",
       "         in_port  op_code  \n",
       "7              0        4  \n",
       "24             0        4  \n",
       "41             0        4  \n",
       "60             0        4  \n",
       "93             0        4  \n",
       "...          ...      ...  \n",
       "3110127        0        4  \n",
       "3110162        0        4  \n",
       "3110165        0        4  \n",
       "3110168        0        4  \n",
       "3110171        0        4  \n",
       "\n",
       "[131797 rows x 8 columns]"
      ]
     },
     "execution_count": 346,
     "metadata": {},
     "output_type": "execute_result"
    }
   ],
   "source": [
    "# IQR \n",
    "Q1 = df_op_code_4.speed.quantile(0.25)\n",
    "Q3 = df_op_code_4.speed.quantile(0.75)\n",
    "IQR = Q3 - Q1\n",
    "lower_limit = Q1 - 1.5*IQR\n",
    "upper_limit = Q3 + 1.5*IQR\n",
    "df_op_code_4[(df_op_code_4.speed<lower_limit) | (df_op_code_4.speed>upper_limit)]"
   ]
  },
  {
   "cell_type": "code",
   "execution_count": 347,
   "id": "7d39af90",
   "metadata": {},
   "outputs": [
    {
     "name": "stderr",
     "output_type": "stream",
     "text": [
      "/Users/eli/opt/anaconda3/lib/python3.8/site-packages/seaborn/distributions.py:2557: FutureWarning: `distplot` is a deprecated function and will be removed in a future version. Please adapt your code to use either `displot` (a figure-level function with similar flexibility) or `histplot` (an axes-level function for histograms).\n",
      "  warnings.warn(msg, FutureWarning)\n"
     ]
    },
    {
     "data": {
      "text/plain": [
       "<AxesSubplot:xlabel='speed'>"
      ]
     },
     "execution_count": 347,
     "metadata": {},
     "output_type": "execute_result"
    },
    {
     "data": {
      "image/png": "[encoded data removed]",
      "text/plain": [
       "<Figure size 432x288 with 1 Axes>"
      ]
     },
     "metadata": {},
     "output_type": "display_data"
    }
   ],
   "source": [
    "df_no_outlier_op_code_4 = df_op_code_4[(df_op_code_4.speed>lower_limit) & (df_op_code_4.speed<upper_limit)]\n",
    "sns.distplot(a=df_no_outlier_op_code_4[\"speed\"], hist=True, kde=False, rug=False,bins=50)\n"
   ]
  },
  {
   "cell_type": "code",
   "execution_count": 348,
   "id": "2c6f405a",
   "metadata": {},
   "outputs": [
    {
     "data": {
      "text/plain": [
       "(2188782, 8)"
      ]
     },
     "execution_count": 348,
     "metadata": {},
     "output_type": "execute_result"
    }
   ],
   "source": [
    "df_op_code_4.shape"
   ]
  },
  {
   "cell_type": "code",
   "execution_count": 349,
   "id": "670f9b15",
   "metadata": {},
   "outputs": [
    {
     "data": {
      "text/plain": [
       "(2150988, 8)"
      ]
     },
     "execution_count": 349,
     "metadata": {},
     "output_type": "execute_result"
    }
   ],
   "source": [
    "# No Outlier op_code_4 with z-score\n",
    "df_op_code_4_no_outlier = df_op_code_4[(df_op_code_4.speed>lower_limit_op_code_4) & (df_op_code_4.speed<upper_limit_op_code_4)]\n",
    "df_op_code_4_no_outlier.shape\n"
   ]
  },
  {
   "cell_type": "markdown",
   "id": "ee82c0aa",
   "metadata": {},
   "source": [
    "## No Outlier DataFrame\n"
   ]
  },
  {
   "cell_type": "code",
   "execution_count": 350,
   "id": "3c8ab5e6",
   "metadata": {},
   "outputs": [
    {
     "data": {
      "text/html": [
       "<div>\n",
       "<style scoped>\n",
       "    .dataframe tbody tr th:only-of-type {\n",
       "        vertical-align: middle;\n",
       "    }\n",
       "\n",
       "    .dataframe tbody tr th {\n",
       "        vertical-align: top;\n",
       "    }\n",
       "\n",
       "    .dataframe thead th {\n",
       "        text-align: right;\n",
       "    }\n",
       "</style>\n",
       "<table border=\"1\" class=\"dataframe\">\n",
       "  <thead>\n",
       "    <tr style=\"text-align: right;\">\n",
       "      <th></th>\n",
       "      <th>name</th>\n",
       "      <th>timestamp</th>\n",
       "      <th>lat_deg</th>\n",
       "      <th>long_deg</th>\n",
       "      <th>course</th>\n",
       "      <th>speed</th>\n",
       "      <th>in_port</th>\n",
       "      <th>op_code</th>\n",
       "    </tr>\n",
       "  </thead>\n",
       "  <tbody>\n",
       "    <tr>\n",
       "      <th>4094</th>\n",
       "      <td>Talisman</td>\n",
       "      <td>2020-12-25 14:51:00</td>\n",
       "      <td>9.0523</td>\n",
       "      <td>-79.6539</td>\n",
       "      <td>323</td>\n",
       "      <td>6.9</td>\n",
       "      <td>1</td>\n",
       "      <td>0</td>\n",
       "    </tr>\n",
       "    <tr>\n",
       "      <th>4337</th>\n",
       "      <td>Talisman</td>\n",
       "      <td>2020-12-25 15:02:00</td>\n",
       "      <td>9.0680</td>\n",
       "      <td>-79.6704</td>\n",
       "      <td>320</td>\n",
       "      <td>9.4</td>\n",
       "      <td>1</td>\n",
       "      <td>0</td>\n",
       "    </tr>\n",
       "    <tr>\n",
       "      <th>5049</th>\n",
       "      <td>Talisman</td>\n",
       "      <td>2020-12-25 14:21:00</td>\n",
       "      <td>9.0188</td>\n",
       "      <td>-79.6150</td>\n",
       "      <td>312</td>\n",
       "      <td>2.3</td>\n",
       "      <td>1</td>\n",
       "      <td>0</td>\n",
       "    </tr>\n",
       "    <tr>\n",
       "      <th>6250</th>\n",
       "      <td>ARC Defender</td>\n",
       "      <td>2020-12-25 08:31:00</td>\n",
       "      <td>8.8798</td>\n",
       "      <td>-79.4780</td>\n",
       "      <td>23</td>\n",
       "      <td>0.6</td>\n",
       "      <td>0</td>\n",
       "      <td>0</td>\n",
       "    </tr>\n",
       "    <tr>\n",
       "      <th>6289</th>\n",
       "      <td>ARC Defender</td>\n",
       "      <td>2020-12-25 08:37:00</td>\n",
       "      <td>8.8825</td>\n",
       "      <td>-79.4805</td>\n",
       "      <td>271</td>\n",
       "      <td>5.0</td>\n",
       "      <td>0</td>\n",
       "      <td>0</td>\n",
       "    </tr>\n",
       "    <tr>\n",
       "      <th>...</th>\n",
       "      <td>...</td>\n",
       "      <td>...</td>\n",
       "      <td>...</td>\n",
       "      <td>...</td>\n",
       "      <td>...</td>\n",
       "      <td>...</td>\n",
       "      <td>...</td>\n",
       "      <td>...</td>\n",
       "    </tr>\n",
       "    <tr>\n",
       "      <th>3110164</th>\n",
       "      <td>Tijuca</td>\n",
       "      <td>2022-03-09 18:57:00</td>\n",
       "      <td>32.0359</td>\n",
       "      <td>-117.5540</td>\n",
       "      <td>11</td>\n",
       "      <td>15.8</td>\n",
       "      <td>0</td>\n",
       "      <td>4</td>\n",
       "    </tr>\n",
       "    <tr>\n",
       "      <th>3110165</th>\n",
       "      <td>Tysla</td>\n",
       "      <td>2022-03-09 18:55:00</td>\n",
       "      <td>34.0857</td>\n",
       "      <td>134.9700</td>\n",
       "      <td>3</td>\n",
       "      <td>8.6</td>\n",
       "      <td>0</td>\n",
       "      <td>4</td>\n",
       "    </tr>\n",
       "    <tr>\n",
       "      <th>3110167</th>\n",
       "      <td>Tijuca</td>\n",
       "      <td>2022-03-09 19:06:00</td>\n",
       "      <td>32.0714</td>\n",
       "      <td>-117.5457</td>\n",
       "      <td>12</td>\n",
       "      <td>13.5</td>\n",
       "      <td>0</td>\n",
       "      <td>4</td>\n",
       "    </tr>\n",
       "    <tr>\n",
       "      <th>3110168</th>\n",
       "      <td>Tysla</td>\n",
       "      <td>2022-03-09 19:01:00</td>\n",
       "      <td>34.1006</td>\n",
       "      <td>134.9741</td>\n",
       "      <td>19</td>\n",
       "      <td>8.7</td>\n",
       "      <td>0</td>\n",
       "      <td>4</td>\n",
       "    </tr>\n",
       "    <tr>\n",
       "      <th>3110171</th>\n",
       "      <td>Tysla</td>\n",
       "      <td>2022-03-09 19:11:00</td>\n",
       "      <td>34.1233</td>\n",
       "      <td>134.9848</td>\n",
       "      <td>9</td>\n",
       "      <td>8.5</td>\n",
       "      <td>0</td>\n",
       "      <td>4</td>\n",
       "    </tr>\n",
       "  </tbody>\n",
       "</table>\n",
       "<p>3060762 rows × 8 columns</p>\n",
       "</div>"
      ],
      "text/plain": [
       "                 name            timestamp  lat_deg  long_deg  course  speed  \\\n",
       "4094         Talisman  2020-12-25 14:51:00   9.0523  -79.6539     323    6.9   \n",
       "4337         Talisman  2020-12-25 15:02:00   9.0680  -79.6704     320    9.4   \n",
       "5049         Talisman  2020-12-25 14:21:00   9.0188  -79.6150     312    2.3   \n",
       "6250     ARC Defender  2020-12-25 08:31:00   8.8798  -79.4780      23    0.6   \n",
       "6289     ARC Defender  2020-12-25 08:37:00   8.8825  -79.4805     271    5.0   \n",
       "...               ...                  ...      ...       ...     ...    ...   \n",
       "3110164        Tijuca  2022-03-09 18:57:00  32.0359 -117.5540      11   15.8   \n",
       "3110165         Tysla  2022-03-09 18:55:00  34.0857  134.9700       3    8.6   \n",
       "3110167        Tijuca  2022-03-09 19:06:00  32.0714 -117.5457      12   13.5   \n",
       "3110168         Tysla  2022-03-09 19:01:00  34.1006  134.9741      19    8.7   \n",
       "3110171         Tysla  2022-03-09 19:11:00  34.1233  134.9848       9    8.5   \n",
       "\n",
       "         in_port  op_code  \n",
       "4094           1        0  \n",
       "4337           1        0  \n",
       "5049           1        0  \n",
       "6250           0        0  \n",
       "6289           0        0  \n",
       "...          ...      ...  \n",
       "3110164        0        4  \n",
       "3110165        0        4  \n",
       "3110167        0        4  \n",
       "3110168        0        4  \n",
       "3110171        0        4  \n",
       "\n",
       "[3060762 rows x 8 columns]"
      ]
     },
     "execution_count": 350,
     "metadata": {},
     "output_type": "execute_result"
    }
   ],
   "source": [
    "#No Outlier DataFrame\n",
    "new_df_no_outlier = pd.concat([df_op_code_0_no_outlier, df_op_code_1_no_outlier, df_op_code_2_no_outlier, df_op_code_3_no_outlier, df_op_code_4_no_outlier])\n",
    "new_df_no_outlier\n"
   ]
  },
  {
   "cell_type": "code",
   "execution_count": 85,
   "id": "a48952b6",
   "metadata": {},
   "outputs": [
    {
     "data": {
      "text/plain": [
       "(3060762, 8)"
      ]
     },
     "execution_count": 85,
     "metadata": {},
     "output_type": "execute_result"
    }
   ],
   "source": [
    "new_df_no_dupli=new_df_no_outlier.drop_duplicates(keep='first')\n",
    "new_df_no_dupli.shape"
   ]
  },
  {
   "cell_type": "code",
   "execution_count": 178,
   "id": "946bf28f",
   "metadata": {},
   "outputs": [
    {
     "data": {
      "text/html": [
       "<div>\n",
       "<style scoped>\n",
       "    .dataframe tbody tr th:only-of-type {\n",
       "        vertical-align: middle;\n",
       "    }\n",
       "\n",
       "    .dataframe tbody tr th {\n",
       "        vertical-align: top;\n",
       "    }\n",
       "\n",
       "    .dataframe thead th {\n",
       "        text-align: right;\n",
       "    }\n",
       "</style>\n",
       "<table border=\"1\" class=\"dataframe\">\n",
       "  <thead>\n",
       "    <tr style=\"text-align: right;\">\n",
       "      <th></th>\n",
       "      <th>name</th>\n",
       "      <th>timestamp</th>\n",
       "      <th>lat_deg</th>\n",
       "      <th>long_deg</th>\n",
       "      <th>course</th>\n",
       "      <th>speed</th>\n",
       "      <th>in_port</th>\n",
       "      <th>op_code</th>\n",
       "    </tr>\n",
       "  </thead>\n",
       "  <tbody>\n",
       "    <tr>\n",
       "      <th>4094</th>\n",
       "      <td>Talisman</td>\n",
       "      <td>2020-12-25 14:51:00</td>\n",
       "      <td>9.0523</td>\n",
       "      <td>-79.6539</td>\n",
       "      <td>323</td>\n",
       "      <td>6.9</td>\n",
       "      <td>1</td>\n",
       "      <td>0</td>\n",
       "    </tr>\n",
       "    <tr>\n",
       "      <th>4337</th>\n",
       "      <td>Talisman</td>\n",
       "      <td>2020-12-25 15:02:00</td>\n",
       "      <td>9.0680</td>\n",
       "      <td>-79.6704</td>\n",
       "      <td>320</td>\n",
       "      <td>9.4</td>\n",
       "      <td>1</td>\n",
       "      <td>0</td>\n",
       "    </tr>\n",
       "    <tr>\n",
       "      <th>5049</th>\n",
       "      <td>Talisman</td>\n",
       "      <td>2020-12-25 14:21:00</td>\n",
       "      <td>9.0188</td>\n",
       "      <td>-79.6150</td>\n",
       "      <td>312</td>\n",
       "      <td>2.3</td>\n",
       "      <td>1</td>\n",
       "      <td>0</td>\n",
       "    </tr>\n",
       "    <tr>\n",
       "      <th>6250</th>\n",
       "      <td>ARC Defender</td>\n",
       "      <td>2020-12-25 08:31:00</td>\n",
       "      <td>8.8798</td>\n",
       "      <td>-79.4780</td>\n",
       "      <td>23</td>\n",
       "      <td>0.6</td>\n",
       "      <td>0</td>\n",
       "      <td>0</td>\n",
       "    </tr>\n",
       "    <tr>\n",
       "      <th>6289</th>\n",
       "      <td>ARC Defender</td>\n",
       "      <td>2020-12-25 08:37:00</td>\n",
       "      <td>8.8825</td>\n",
       "      <td>-79.4805</td>\n",
       "      <td>271</td>\n",
       "      <td>5.0</td>\n",
       "      <td>0</td>\n",
       "      <td>0</td>\n",
       "    </tr>\n",
       "    <tr>\n",
       "      <th>...</th>\n",
       "      <td>...</td>\n",
       "      <td>...</td>\n",
       "      <td>...</td>\n",
       "      <td>...</td>\n",
       "      <td>...</td>\n",
       "      <td>...</td>\n",
       "      <td>...</td>\n",
       "      <td>...</td>\n",
       "    </tr>\n",
       "    <tr>\n",
       "      <th>3110164</th>\n",
       "      <td>Tijuca</td>\n",
       "      <td>2022-03-09 18:57:00</td>\n",
       "      <td>32.0359</td>\n",
       "      <td>-117.5540</td>\n",
       "      <td>11</td>\n",
       "      <td>15.8</td>\n",
       "      <td>0</td>\n",
       "      <td>4</td>\n",
       "    </tr>\n",
       "    <tr>\n",
       "      <th>3110165</th>\n",
       "      <td>Tysla</td>\n",
       "      <td>2022-03-09 18:55:00</td>\n",
       "      <td>34.0857</td>\n",
       "      <td>134.9700</td>\n",
       "      <td>3</td>\n",
       "      <td>8.6</td>\n",
       "      <td>0</td>\n",
       "      <td>4</td>\n",
       "    </tr>\n",
       "    <tr>\n",
       "      <th>3110167</th>\n",
       "      <td>Tijuca</td>\n",
       "      <td>2022-03-09 19:06:00</td>\n",
       "      <td>32.0714</td>\n",
       "      <td>-117.5457</td>\n",
       "      <td>12</td>\n",
       "      <td>13.5</td>\n",
       "      <td>0</td>\n",
       "      <td>4</td>\n",
       "    </tr>\n",
       "    <tr>\n",
       "      <th>3110168</th>\n",
       "      <td>Tysla</td>\n",
       "      <td>2022-03-09 19:01:00</td>\n",
       "      <td>34.1006</td>\n",
       "      <td>134.9741</td>\n",
       "      <td>19</td>\n",
       "      <td>8.7</td>\n",
       "      <td>0</td>\n",
       "      <td>4</td>\n",
       "    </tr>\n",
       "    <tr>\n",
       "      <th>3110171</th>\n",
       "      <td>Tysla</td>\n",
       "      <td>2022-03-09 19:11:00</td>\n",
       "      <td>34.1233</td>\n",
       "      <td>134.9848</td>\n",
       "      <td>9</td>\n",
       "      <td>8.5</td>\n",
       "      <td>0</td>\n",
       "      <td>4</td>\n",
       "    </tr>\n",
       "  </tbody>\n",
       "</table>\n",
       "<p>3060762 rows × 8 columns</p>\n",
       "</div>"
      ],
      "text/plain": [
       "                 name            timestamp  lat_deg  long_deg  course  speed  \\\n",
       "4094         Talisman  2020-12-25 14:51:00   9.0523  -79.6539     323    6.9   \n",
       "4337         Talisman  2020-12-25 15:02:00   9.0680  -79.6704     320    9.4   \n",
       "5049         Talisman  2020-12-25 14:21:00   9.0188  -79.6150     312    2.3   \n",
       "6250     ARC Defender  2020-12-25 08:31:00   8.8798  -79.4780      23    0.6   \n",
       "6289     ARC Defender  2020-12-25 08:37:00   8.8825  -79.4805     271    5.0   \n",
       "...               ...                  ...      ...       ...     ...    ...   \n",
       "3110164        Tijuca  2022-03-09 18:57:00  32.0359 -117.5540      11   15.8   \n",
       "3110165         Tysla  2022-03-09 18:55:00  34.0857  134.9700       3    8.6   \n",
       "3110167        Tijuca  2022-03-09 19:06:00  32.0714 -117.5457      12   13.5   \n",
       "3110168         Tysla  2022-03-09 19:01:00  34.1006  134.9741      19    8.7   \n",
       "3110171         Tysla  2022-03-09 19:11:00  34.1233  134.9848       9    8.5   \n",
       "\n",
       "         in_port  op_code  \n",
       "4094           1        0  \n",
       "4337           1        0  \n",
       "5049           1        0  \n",
       "6250           0        0  \n",
       "6289           0        0  \n",
       "...          ...      ...  \n",
       "3110164        0        4  \n",
       "3110165        0        4  \n",
       "3110167        0        4  \n",
       "3110168        0        4  \n",
       "3110171        0        4  \n",
       "\n",
       "[3060762 rows x 8 columns]"
      ]
     },
     "execution_count": 178,
     "metadata": {},
     "output_type": "execute_result"
    }
   ],
   "source": [
    "new_df_no_outlier_no_scaling = new_df_no_dupli\n",
    "new_df_no_outlier_no_scaling"
   ]
  },
  {
   "cell_type": "code",
   "execution_count": 351,
   "id": "0c902a3a",
   "metadata": {},
   "outputs": [
    {
     "data": {
      "text/plain": [
       "(3060762, 8)"
      ]
     },
     "execution_count": 351,
     "metadata": {},
     "output_type": "execute_result"
    }
   ],
   "source": [
    "new_df_no_outlier.shape"
   ]
  },
  {
   "cell_type": "code",
   "execution_count": 352,
   "id": "c28983a5",
   "metadata": {},
   "outputs": [
    {
     "data": {
      "text/plain": [
       "(3108714, 8)"
      ]
     },
     "execution_count": 352,
     "metadata": {},
     "output_type": "execute_result"
    }
   ],
   "source": [
    "df_no_outlier.shape"
   ]
  },
  {
   "cell_type": "code",
   "execution_count": 88,
   "id": "70048d12",
   "metadata": {},
   "outputs": [
    {
     "data": {
      "text/html": [
       "<div>\n",
       "<style scoped>\n",
       "    .dataframe tbody tr th:only-of-type {\n",
       "        vertical-align: middle;\n",
       "    }\n",
       "\n",
       "    .dataframe tbody tr th {\n",
       "        vertical-align: top;\n",
       "    }\n",
       "\n",
       "    .dataframe thead th {\n",
       "        text-align: right;\n",
       "    }\n",
       "</style>\n",
       "<table border=\"1\" class=\"dataframe\">\n",
       "  <thead>\n",
       "    <tr style=\"text-align: right;\">\n",
       "      <th></th>\n",
       "      <th>name</th>\n",
       "      <th>timestamp</th>\n",
       "      <th>lat_deg</th>\n",
       "      <th>long_deg</th>\n",
       "      <th>course</th>\n",
       "      <th>speed</th>\n",
       "      <th>in_port</th>\n",
       "      <th>op_code</th>\n",
       "    </tr>\n",
       "  </thead>\n",
       "  <tbody>\n",
       "    <tr>\n",
       "      <th>742674</th>\n",
       "      <td>Tortugas</td>\n",
       "      <td>2021-05-09 02:12:00</td>\n",
       "      <td>30.4516</td>\n",
       "      <td>-79.0201</td>\n",
       "      <td>139</td>\n",
       "      <td>18.2</td>\n",
       "      <td>0</td>\n",
       "      <td>3</td>\n",
       "    </tr>\n",
       "    <tr>\n",
       "      <th>742743</th>\n",
       "      <td>Tortugas</td>\n",
       "      <td>2021-05-09 02:27:00</td>\n",
       "      <td>30.3940</td>\n",
       "      <td>-78.9602</td>\n",
       "      <td>138</td>\n",
       "      <td>18.8</td>\n",
       "      <td>0</td>\n",
       "      <td>3</td>\n",
       "    </tr>\n",
       "    <tr>\n",
       "      <th>742773</th>\n",
       "      <td>Tortugas</td>\n",
       "      <td>2021-05-09 02:42:00</td>\n",
       "      <td>30.3348</td>\n",
       "      <td>-78.8992</td>\n",
       "      <td>139</td>\n",
       "      <td>18.9</td>\n",
       "      <td>0</td>\n",
       "      <td>3</td>\n",
       "    </tr>\n",
       "    <tr>\n",
       "      <th>742811</th>\n",
       "      <td>Tortugas</td>\n",
       "      <td>2021-05-09 02:50:00</td>\n",
       "      <td>30.3048</td>\n",
       "      <td>-78.8688</td>\n",
       "      <td>138</td>\n",
       "      <td>19.2</td>\n",
       "      <td>0</td>\n",
       "      <td>3</td>\n",
       "    </tr>\n",
       "    <tr>\n",
       "      <th>742842</th>\n",
       "      <td>Tortugas</td>\n",
       "      <td>2021-05-09 02:57:00</td>\n",
       "      <td>30.2748</td>\n",
       "      <td>-78.8375</td>\n",
       "      <td>137</td>\n",
       "      <td>19.3</td>\n",
       "      <td>0</td>\n",
       "      <td>3</td>\n",
       "    </tr>\n",
       "    <tr>\n",
       "      <th>...</th>\n",
       "      <td>...</td>\n",
       "      <td>...</td>\n",
       "      <td>...</td>\n",
       "      <td>...</td>\n",
       "      <td>...</td>\n",
       "      <td>...</td>\n",
       "      <td>...</td>\n",
       "      <td>...</td>\n",
       "    </tr>\n",
       "    <tr>\n",
       "      <th>1914654</th>\n",
       "      <td>Toscana</td>\n",
       "      <td>2021-08-14 09:17:00</td>\n",
       "      <td>-19.8580</td>\n",
       "      <td>-70.5022</td>\n",
       "      <td>180</td>\n",
       "      <td>18.1</td>\n",
       "      <td>0</td>\n",
       "      <td>3</td>\n",
       "    </tr>\n",
       "    <tr>\n",
       "      <th>1915055</th>\n",
       "      <td>Toscana</td>\n",
       "      <td>2021-08-14 11:17:00</td>\n",
       "      <td>-20.4576</td>\n",
       "      <td>-70.5000</td>\n",
       "      <td>179</td>\n",
       "      <td>18.1</td>\n",
       "      <td>0</td>\n",
       "      <td>3</td>\n",
       "    </tr>\n",
       "    <tr>\n",
       "      <th>1925824</th>\n",
       "      <td>Toscana</td>\n",
       "      <td>2021-08-12 13:37:00</td>\n",
       "      <td>-16.0413</td>\n",
       "      <td>-74.4624</td>\n",
       "      <td>123</td>\n",
       "      <td>18.2</td>\n",
       "      <td>0</td>\n",
       "      <td>3</td>\n",
       "    </tr>\n",
       "    <tr>\n",
       "      <th>2248088</th>\n",
       "      <td>Tannhauser</td>\n",
       "      <td>2021-09-28 06:11:00</td>\n",
       "      <td>51.3164</td>\n",
       "      <td>3.2252</td>\n",
       "      <td>117</td>\n",
       "      <td>32.0</td>\n",
       "      <td>1</td>\n",
       "      <td>3</td>\n",
       "    </tr>\n",
       "    <tr>\n",
       "      <th>2298288</th>\n",
       "      <td>Tamerlane</td>\n",
       "      <td>2021-10-07 00:27:00</td>\n",
       "      <td>-37.8414</td>\n",
       "      <td>144.9039</td>\n",
       "      <td>357</td>\n",
       "      <td>18.3</td>\n",
       "      <td>1</td>\n",
       "      <td>3</td>\n",
       "    </tr>\n",
       "  </tbody>\n",
       "</table>\n",
       "<p>173 rows × 8 columns</p>\n",
       "</div>"
      ],
      "text/plain": [
       "               name            timestamp  lat_deg  long_deg  course  speed  \\\n",
       "742674     Tortugas  2021-05-09 02:12:00  30.4516  -79.0201     139   18.2   \n",
       "742743     Tortugas  2021-05-09 02:27:00  30.3940  -78.9602     138   18.8   \n",
       "742773     Tortugas  2021-05-09 02:42:00  30.3348  -78.8992     139   18.9   \n",
       "742811     Tortugas  2021-05-09 02:50:00  30.3048  -78.8688     138   19.2   \n",
       "742842     Tortugas  2021-05-09 02:57:00  30.2748  -78.8375     137   19.3   \n",
       "...             ...                  ...      ...       ...     ...    ...   \n",
       "1914654     Toscana  2021-08-14 09:17:00 -19.8580  -70.5022     180   18.1   \n",
       "1915055     Toscana  2021-08-14 11:17:00 -20.4576  -70.5000     179   18.1   \n",
       "1925824     Toscana  2021-08-12 13:37:00 -16.0413  -74.4624     123   18.2   \n",
       "2248088  Tannhauser  2021-09-28 06:11:00  51.3164    3.2252     117   32.0   \n",
       "2298288   Tamerlane  2021-10-07 00:27:00 -37.8414  144.9039     357   18.3   \n",
       "\n",
       "         in_port  op_code  \n",
       "742674         0        3  \n",
       "742743         0        3  \n",
       "742773         0        3  \n",
       "742811         0        3  \n",
       "742842         0        3  \n",
       "...          ...      ...  \n",
       "1914654        0        3  \n",
       "1915055        0        3  \n",
       "1925824        0        3  \n",
       "2248088        1        3  \n",
       "2298288        1        3  \n",
       "\n",
       "[173 rows x 8 columns]"
      ]
     },
     "execution_count": 88,
     "metadata": {},
     "output_type": "execute_result"
    }
   ],
   "source": [
    "df_no_dupli[(df_no_dupli.op_code==3) & (df_no_dupli.speed>18)]"
   ]
  },
  {
   "cell_type": "code",
   "execution_count": 89,
   "id": "9775b030",
   "metadata": {},
   "outputs": [
    {
     "data": {
      "text/plain": [
       " 58.1140    18514\n",
       " 58.1137     5489\n",
       " 51.3129     5154\n",
       " 58.1147     5089\n",
       " 51.3128     4434\n",
       "            ...  \n",
       " 16.3624        1\n",
       "-16.8162        1\n",
       "-16.0265        1\n",
       "-13.5300        1\n",
       "-23.2169        1\n",
       "Name: lat_deg, Length: 805374, dtype: int64"
      ]
     },
     "execution_count": 89,
     "metadata": {},
     "output_type": "execute_result"
    }
   ],
   "source": [
    "df_no_dupli['lat_deg'].value_counts()"
   ]
  },
  {
   "cell_type": "code",
   "execution_count": 90,
   "id": "051fff6f",
   "metadata": {
    "scrolled": true
   },
   "outputs": [
    {
     "name": "stderr",
     "output_type": "stream",
     "text": [
      "/Users/eli/opt/anaconda3/lib/python3.8/site-packages/seaborn/distributions.py:2557: FutureWarning: `distplot` is a deprecated function and will be removed in a future version. Please adapt your code to use either `displot` (a figure-level function with similar flexibility) or `histplot` (an axes-level function for histograms).\n",
      "  warnings.warn(msg, FutureWarning)\n"
     ]
    },
    {
     "data": {
      "text/plain": [
       "<AxesSubplot:xlabel='lat_deg'>"
      ]
     },
     "execution_count": 90,
     "metadata": {},
     "output_type": "execute_result"
    },
    {
     "data": {
      "image/png": "[encoded data removed]",
      "text/plain": [
       "<Figure size 432x288 with 1 Axes>"
      ]
     },
     "metadata": {
      "needs_background": "light"
     },
     "output_type": "display_data"
    }
   ],
   "source": [
    "sns.distplot(a=df_no_dupli['lat_deg'], hist=True, kde=False, rug=False)"
   ]
  },
  {
   "cell_type": "code",
   "execution_count": 91,
   "id": "e46fa8df",
   "metadata": {},
   "outputs": [
    {
     "data": {
      "text/plain": [
       "<AxesSubplot:xlabel='long_deg'>"
      ]
     },
     "execution_count": 91,
     "metadata": {},
     "output_type": "execute_result"
    },
    {
     "data": {
      "image/png": "[encoded data removed]",
      "text/plain": [
       "<Figure size 432x288 with 1 Axes>"
      ]
     },
     "metadata": {
      "needs_background": "light"
     },
     "output_type": "display_data"
    }
   ],
   "source": [
    "sns.distplot(a=df_no_dupli['long_deg'], hist=True, kde=False, rug=False)"
   ]
  },
  {
   "cell_type": "markdown",
   "id": "128fad99",
   "metadata": {},
   "source": [
    "### One hot encoding"
   ]
  },
  {
   "cell_type": "code",
   "execution_count": 306,
   "id": "3fab8545",
   "metadata": {},
   "outputs": [
    {
     "data": {
      "text/html": [
       "<div>\n",
       "<style scoped>\n",
       "    .dataframe tbody tr th:only-of-type {\n",
       "        vertical-align: middle;\n",
       "    }\n",
       "\n",
       "    .dataframe tbody tr th {\n",
       "        vertical-align: top;\n",
       "    }\n",
       "\n",
       "    .dataframe thead th {\n",
       "        text-align: right;\n",
       "    }\n",
       "</style>\n",
       "<table border=\"1\" class=\"dataframe\">\n",
       "  <thead>\n",
       "    <tr style=\"text-align: right;\">\n",
       "      <th></th>\n",
       "      <th>name</th>\n",
       "      <th>timestamp</th>\n",
       "      <th>lat_deg</th>\n",
       "      <th>long_deg</th>\n",
       "      <th>course</th>\n",
       "      <th>speed</th>\n",
       "      <th>in_port_0.0</th>\n",
       "      <th>in_port_1.0</th>\n",
       "      <th>op_code_-4.0</th>\n",
       "      <th>op_code_-3.0</th>\n",
       "      <th>op_code_-2.0</th>\n",
       "      <th>op_code_-1.0</th>\n",
       "      <th>op_code_0.0</th>\n",
       "    </tr>\n",
       "  </thead>\n",
       "  <tbody>\n",
       "    <tr>\n",
       "      <th>4094</th>\n",
       "      <td>Talisman</td>\n",
       "      <td>2020-12-25 14:51:00</td>\n",
       "      <td>-0.595236</td>\n",
       "      <td>-0.418079</td>\n",
       "      <td>323</td>\n",
       "      <td>-0.584507</td>\n",
       "      <td>0</td>\n",
       "      <td>1</td>\n",
       "      <td>1</td>\n",
       "      <td>0</td>\n",
       "      <td>0</td>\n",
       "      <td>0</td>\n",
       "      <td>0</td>\n",
       "    </tr>\n",
       "    <tr>\n",
       "      <th>4337</th>\n",
       "      <td>Talisman</td>\n",
       "      <td>2020-12-25 15:02:00</td>\n",
       "      <td>-0.594783</td>\n",
       "      <td>-0.418163</td>\n",
       "      <td>320</td>\n",
       "      <td>-0.408451</td>\n",
       "      <td>0</td>\n",
       "      <td>1</td>\n",
       "      <td>1</td>\n",
       "      <td>0</td>\n",
       "      <td>0</td>\n",
       "      <td>0</td>\n",
       "      <td>0</td>\n",
       "    </tr>\n",
       "    <tr>\n",
       "      <th>5049</th>\n",
       "      <td>Talisman</td>\n",
       "      <td>2020-12-25 14:21:00</td>\n",
       "      <td>-0.596202</td>\n",
       "      <td>-0.417883</td>\n",
       "      <td>312</td>\n",
       "      <td>-0.908451</td>\n",
       "      <td>0</td>\n",
       "      <td>1</td>\n",
       "      <td>1</td>\n",
       "      <td>0</td>\n",
       "      <td>0</td>\n",
       "      <td>0</td>\n",
       "      <td>0</td>\n",
       "    </tr>\n",
       "    <tr>\n",
       "      <th>6250</th>\n",
       "      <td>ARC Defender</td>\n",
       "      <td>2020-12-25 08:31:00</td>\n",
       "      <td>-0.600209</td>\n",
       "      <td>-0.417192</td>\n",
       "      <td>23</td>\n",
       "      <td>-1.028169</td>\n",
       "      <td>1</td>\n",
       "      <td>0</td>\n",
       "      <td>1</td>\n",
       "      <td>0</td>\n",
       "      <td>0</td>\n",
       "      <td>0</td>\n",
       "      <td>0</td>\n",
       "    </tr>\n",
       "    <tr>\n",
       "      <th>6289</th>\n",
       "      <td>ARC Defender</td>\n",
       "      <td>2020-12-25 08:37:00</td>\n",
       "      <td>-0.600131</td>\n",
       "      <td>-0.417205</td>\n",
       "      <td>271</td>\n",
       "      <td>-0.718310</td>\n",
       "      <td>1</td>\n",
       "      <td>0</td>\n",
       "      <td>1</td>\n",
       "      <td>0</td>\n",
       "      <td>0</td>\n",
       "      <td>0</td>\n",
       "      <td>0</td>\n",
       "    </tr>\n",
       "    <tr>\n",
       "      <th>...</th>\n",
       "      <td>...</td>\n",
       "      <td>...</td>\n",
       "      <td>...</td>\n",
       "      <td>...</td>\n",
       "      <td>...</td>\n",
       "      <td>...</td>\n",
       "      <td>...</td>\n",
       "      <td>...</td>\n",
       "      <td>...</td>\n",
       "      <td>...</td>\n",
       "      <td>...</td>\n",
       "      <td>...</td>\n",
       "      <td>...</td>\n",
       "    </tr>\n",
       "    <tr>\n",
       "      <th>3110164</th>\n",
       "      <td>Tijuca</td>\n",
       "      <td>2022-03-09 18:57:00</td>\n",
       "      <td>0.067353</td>\n",
       "      <td>-0.609259</td>\n",
       "      <td>11</td>\n",
       "      <td>0.042254</td>\n",
       "      <td>1</td>\n",
       "      <td>0</td>\n",
       "      <td>0</td>\n",
       "      <td>0</td>\n",
       "      <td>0</td>\n",
       "      <td>0</td>\n",
       "      <td>1</td>\n",
       "    </tr>\n",
       "    <tr>\n",
       "      <th>3110165</th>\n",
       "      <td>Tysla</td>\n",
       "      <td>2022-03-09 18:55:00</td>\n",
       "      <td>0.126446</td>\n",
       "      <td>0.664549</td>\n",
       "      <td>3</td>\n",
       "      <td>-0.464789</td>\n",
       "      <td>1</td>\n",
       "      <td>0</td>\n",
       "      <td>0</td>\n",
       "      <td>0</td>\n",
       "      <td>0</td>\n",
       "      <td>0</td>\n",
       "      <td>1</td>\n",
       "    </tr>\n",
       "    <tr>\n",
       "      <th>3110167</th>\n",
       "      <td>Tijuca</td>\n",
       "      <td>2022-03-09 19:06:00</td>\n",
       "      <td>0.068376</td>\n",
       "      <td>-0.609217</td>\n",
       "      <td>12</td>\n",
       "      <td>-0.119718</td>\n",
       "      <td>1</td>\n",
       "      <td>0</td>\n",
       "      <td>0</td>\n",
       "      <td>0</td>\n",
       "      <td>0</td>\n",
       "      <td>0</td>\n",
       "      <td>1</td>\n",
       "    </tr>\n",
       "    <tr>\n",
       "      <th>3110168</th>\n",
       "      <td>Tysla</td>\n",
       "      <td>2022-03-09 19:01:00</td>\n",
       "      <td>0.126875</td>\n",
       "      <td>0.664569</td>\n",
       "      <td>19</td>\n",
       "      <td>-0.457746</td>\n",
       "      <td>1</td>\n",
       "      <td>0</td>\n",
       "      <td>0</td>\n",
       "      <td>0</td>\n",
       "      <td>0</td>\n",
       "      <td>0</td>\n",
       "      <td>1</td>\n",
       "    </tr>\n",
       "    <tr>\n",
       "      <th>3110171</th>\n",
       "      <td>Tysla</td>\n",
       "      <td>2022-03-09 19:11:00</td>\n",
       "      <td>0.127530</td>\n",
       "      <td>0.664623</td>\n",
       "      <td>9</td>\n",
       "      <td>-0.471831</td>\n",
       "      <td>1</td>\n",
       "      <td>0</td>\n",
       "      <td>0</td>\n",
       "      <td>0</td>\n",
       "      <td>0</td>\n",
       "      <td>0</td>\n",
       "      <td>1</td>\n",
       "    </tr>\n",
       "  </tbody>\n",
       "</table>\n",
       "<p>3060762 rows × 13 columns</p>\n",
       "</div>"
      ],
      "text/plain": [
       "                 name            timestamp   lat_deg  long_deg  course  \\\n",
       "4094         Talisman  2020-12-25 14:51:00 -0.595236 -0.418079     323   \n",
       "4337         Talisman  2020-12-25 15:02:00 -0.594783 -0.418163     320   \n",
       "5049         Talisman  2020-12-25 14:21:00 -0.596202 -0.417883     312   \n",
       "6250     ARC Defender  2020-12-25 08:31:00 -0.600209 -0.417192      23   \n",
       "6289     ARC Defender  2020-12-25 08:37:00 -0.600131 -0.417205     271   \n",
       "...               ...                  ...       ...       ...     ...   \n",
       "3110164        Tijuca  2022-03-09 18:57:00  0.067353 -0.609259      11   \n",
       "3110165         Tysla  2022-03-09 18:55:00  0.126446  0.664549       3   \n",
       "3110167        Tijuca  2022-03-09 19:06:00  0.068376 -0.609217      12   \n",
       "3110168         Tysla  2022-03-09 19:01:00  0.126875  0.664569      19   \n",
       "3110171         Tysla  2022-03-09 19:11:00  0.127530  0.664623       9   \n",
       "\n",
       "            speed  in_port_0.0  in_port_1.0  op_code_-4.0  op_code_-3.0  \\\n",
       "4094    -0.584507            0            1             1             0   \n",
       "4337    -0.408451            0            1             1             0   \n",
       "5049    -0.908451            0            1             1             0   \n",
       "6250    -1.028169            1            0             1             0   \n",
       "6289    -0.718310            1            0             1             0   \n",
       "...           ...          ...          ...           ...           ...   \n",
       "3110164  0.042254            1            0             0             0   \n",
       "3110165 -0.464789            1            0             0             0   \n",
       "3110167 -0.119718            1            0             0             0   \n",
       "3110168 -0.457746            1            0             0             0   \n",
       "3110171 -0.471831            1            0             0             0   \n",
       "\n",
       "         op_code_-2.0  op_code_-1.0  op_code_0.0  \n",
       "4094                0             0            0  \n",
       "4337                0             0            0  \n",
       "5049                0             0            0  \n",
       "6250                0             0            0  \n",
       "6289                0             0            0  \n",
       "...               ...           ...          ...  \n",
       "3110164             0             0            1  \n",
       "3110165             0             0            1  \n",
       "3110167             0             0            1  \n",
       "3110168             0             0            1  \n",
       "3110171             0             0            1  \n",
       "\n",
       "[3060762 rows x 13 columns]"
      ]
     },
     "execution_count": 306,
     "metadata": {},
     "output_type": "execute_result"
    }
   ],
   "source": [
    "categorical_cols = ['in_port', 'op_code'] \n",
    "df_new_encoded = pd.get_dummies(new_df_no_outlier, columns = categorical_cols)\n",
    "df_new_encoded"
   ]
  },
  {
   "cell_type": "markdown",
   "id": "35cc6b67",
   "metadata": {},
   "source": [
    "## Scaling\n",
    "   ### Used Robust Scaler because it is robust against outliers"
   ]
  },
  {
   "cell_type": "code",
   "execution_count": 158,
   "id": "9e8b6555",
   "metadata": {},
   "outputs": [
    {
     "data": {
      "text/html": [
       "<div>\n",
       "<style scoped>\n",
       "    .dataframe tbody tr th:only-of-type {\n",
       "        vertical-align: middle;\n",
       "    }\n",
       "\n",
       "    .dataframe tbody tr th {\n",
       "        vertical-align: top;\n",
       "    }\n",
       "\n",
       "    .dataframe thead th {\n",
       "        text-align: right;\n",
       "    }\n",
       "</style>\n",
       "<table border=\"1\" class=\"dataframe\">\n",
       "  <thead>\n",
       "    <tr style=\"text-align: right;\">\n",
       "      <th></th>\n",
       "      <th>lat_deg</th>\n",
       "      <th>long_deg</th>\n",
       "      <th>course</th>\n",
       "      <th>speed</th>\n",
       "      <th>in_port</th>\n",
       "      <th>op_code</th>\n",
       "    </tr>\n",
       "  </thead>\n",
       "  <tbody>\n",
       "    <tr>\n",
       "      <th>4094</th>\n",
       "      <td>-0.595236</td>\n",
       "      <td>-0.418079</td>\n",
       "      <td>323</td>\n",
       "      <td>-0.584507</td>\n",
       "      <td>1.0</td>\n",
       "      <td>-4.0</td>\n",
       "    </tr>\n",
       "    <tr>\n",
       "      <th>4337</th>\n",
       "      <td>-0.594783</td>\n",
       "      <td>-0.418163</td>\n",
       "      <td>320</td>\n",
       "      <td>-0.408451</td>\n",
       "      <td>1.0</td>\n",
       "      <td>-4.0</td>\n",
       "    </tr>\n",
       "    <tr>\n",
       "      <th>5049</th>\n",
       "      <td>-0.596202</td>\n",
       "      <td>-0.417883</td>\n",
       "      <td>312</td>\n",
       "      <td>-0.908451</td>\n",
       "      <td>1.0</td>\n",
       "      <td>-4.0</td>\n",
       "    </tr>\n",
       "    <tr>\n",
       "      <th>6250</th>\n",
       "      <td>-0.600209</td>\n",
       "      <td>-0.417192</td>\n",
       "      <td>23</td>\n",
       "      <td>-1.028169</td>\n",
       "      <td>0.0</td>\n",
       "      <td>-4.0</td>\n",
       "    </tr>\n",
       "    <tr>\n",
       "      <th>6289</th>\n",
       "      <td>-0.600131</td>\n",
       "      <td>-0.417205</td>\n",
       "      <td>271</td>\n",
       "      <td>-0.718310</td>\n",
       "      <td>0.0</td>\n",
       "      <td>-4.0</td>\n",
       "    </tr>\n",
       "    <tr>\n",
       "      <th>...</th>\n",
       "      <td>...</td>\n",
       "      <td>...</td>\n",
       "      <td>...</td>\n",
       "      <td>...</td>\n",
       "      <td>...</td>\n",
       "      <td>...</td>\n",
       "    </tr>\n",
       "    <tr>\n",
       "      <th>3110164</th>\n",
       "      <td>0.067353</td>\n",
       "      <td>-0.609259</td>\n",
       "      <td>11</td>\n",
       "      <td>0.042254</td>\n",
       "      <td>0.0</td>\n",
       "      <td>0.0</td>\n",
       "    </tr>\n",
       "    <tr>\n",
       "      <th>3110165</th>\n",
       "      <td>0.126446</td>\n",
       "      <td>0.664549</td>\n",
       "      <td>3</td>\n",
       "      <td>-0.464789</td>\n",
       "      <td>0.0</td>\n",
       "      <td>0.0</td>\n",
       "    </tr>\n",
       "    <tr>\n",
       "      <th>3110167</th>\n",
       "      <td>0.068376</td>\n",
       "      <td>-0.609217</td>\n",
       "      <td>12</td>\n",
       "      <td>-0.119718</td>\n",
       "      <td>0.0</td>\n",
       "      <td>0.0</td>\n",
       "    </tr>\n",
       "    <tr>\n",
       "      <th>3110168</th>\n",
       "      <td>0.126875</td>\n",
       "      <td>0.664569</td>\n",
       "      <td>19</td>\n",
       "      <td>-0.457746</td>\n",
       "      <td>0.0</td>\n",
       "      <td>0.0</td>\n",
       "    </tr>\n",
       "    <tr>\n",
       "      <th>3110171</th>\n",
       "      <td>0.127530</td>\n",
       "      <td>0.664623</td>\n",
       "      <td>9</td>\n",
       "      <td>-0.471831</td>\n",
       "      <td>0.0</td>\n",
       "      <td>0.0</td>\n",
       "    </tr>\n",
       "  </tbody>\n",
       "</table>\n",
       "<p>3060762 rows × 6 columns</p>\n",
       "</div>"
      ],
      "text/plain": [
       "          lat_deg  long_deg  course     speed  in_port  op_code\n",
       "4094    -0.595236 -0.418079     323 -0.584507      1.0     -4.0\n",
       "4337    -0.594783 -0.418163     320 -0.408451      1.0     -4.0\n",
       "5049    -0.596202 -0.417883     312 -0.908451      1.0     -4.0\n",
       "6250    -0.600209 -0.417192      23 -1.028169      0.0     -4.0\n",
       "6289    -0.600131 -0.417205     271 -0.718310      0.0     -4.0\n",
       "...           ...       ...     ...       ...      ...      ...\n",
       "3110164  0.067353 -0.609259      11  0.042254      0.0      0.0\n",
       "3110165  0.126446  0.664549       3 -0.464789      0.0      0.0\n",
       "3110167  0.068376 -0.609217      12 -0.119718      0.0      0.0\n",
       "3110168  0.126875  0.664569      19 -0.457746      0.0      0.0\n",
       "3110171  0.127530  0.664623       9 -0.471831      0.0      0.0\n",
       "\n",
       "[3060762 rows x 6 columns]"
      ]
     },
     "execution_count": 158,
     "metadata": {},
     "output_type": "execute_result"
    }
   ],
   "source": [
    "new_df_no_outlier[['lat_deg','long_deg','speed','in_port','op_code']] = RobustScaler().fit_transform(new_df_no_outlier[['lat_deg','long_deg','speed','in_port','op_code']])\n",
    "new_df_no_outlier"
   ]
  },
  {
   "cell_type": "code",
   "execution_count": 159,
   "id": "d67759be",
   "metadata": {},
   "outputs": [
    {
     "ename": "KeyError",
     "evalue": "\"['name' 'timestamp'] not found in axis\"",
     "output_type": "error",
     "traceback": [
      "\u001b[0;31m---------------------------------------------------------------------------\u001b[0m",
      "\u001b[0;31mKeyError\u001b[0m                                  Traceback (most recent call last)",
      "\u001b[0;32m<ipython-input-159-f31dce4c8ea7>\u001b[0m in \u001b[0;36m<module>\u001b[0;34m\u001b[0m\n\u001b[0;32m----> 1\u001b[0;31m \u001b[0mnew_df_no_outlier\u001b[0m\u001b[0;34m.\u001b[0m\u001b[0mdrop\u001b[0m\u001b[0;34m(\u001b[0m\u001b[0;34m[\u001b[0m\u001b[0;34m'name'\u001b[0m\u001b[0;34m,\u001b[0m\u001b[0;34m'timestamp'\u001b[0m\u001b[0;34m]\u001b[0m\u001b[0;34m,\u001b[0m \u001b[0maxis\u001b[0m \u001b[0;34m=\u001b[0m \u001b[0;36m1\u001b[0m\u001b[0;34m,\u001b[0m \u001b[0minplace\u001b[0m \u001b[0;34m=\u001b[0m \u001b[0;32mTrue\u001b[0m\u001b[0;34m)\u001b[0m\u001b[0;34m\u001b[0m\u001b[0;34m\u001b[0m\u001b[0m\n\u001b[0m",
      "\u001b[0;32m~/opt/anaconda3/lib/python3.8/site-packages/pandas/core/frame.py\u001b[0m in \u001b[0;36mdrop\u001b[0;34m(self, labels, axis, index, columns, level, inplace, errors)\u001b[0m\n\u001b[1;32m   4306\u001b[0m                 \u001b[0mweight\u001b[0m  \u001b[0;36m1.0\u001b[0m     \u001b[0;36m0.8\u001b[0m\u001b[0;34m\u001b[0m\u001b[0;34m\u001b[0m\u001b[0m\n\u001b[1;32m   4307\u001b[0m         \"\"\"\n\u001b[0;32m-> 4308\u001b[0;31m         return super().drop(\n\u001b[0m\u001b[1;32m   4309\u001b[0m             \u001b[0mlabels\u001b[0m\u001b[0;34m=\u001b[0m\u001b[0mlabels\u001b[0m\u001b[0;34m,\u001b[0m\u001b[0;34m\u001b[0m\u001b[0;34m\u001b[0m\u001b[0m\n\u001b[1;32m   4310\u001b[0m             \u001b[0maxis\u001b[0m\u001b[0;34m=\u001b[0m\u001b[0maxis\u001b[0m\u001b[0;34m,\u001b[0m\u001b[0;34m\u001b[0m\u001b[0;34m\u001b[0m\u001b[0m\n",
      "\u001b[0;32m~/opt/anaconda3/lib/python3.8/site-packages/pandas/core/generic.py\u001b[0m in \u001b[0;36mdrop\u001b[0;34m(self, labels, axis, index, columns, level, inplace, errors)\u001b[0m\n\u001b[1;32m   4151\u001b[0m         \u001b[0;32mfor\u001b[0m \u001b[0maxis\u001b[0m\u001b[0;34m,\u001b[0m \u001b[0mlabels\u001b[0m \u001b[0;32min\u001b[0m \u001b[0maxes\u001b[0m\u001b[0;34m.\u001b[0m\u001b[0mitems\u001b[0m\u001b[0;34m(\u001b[0m\u001b[0;34m)\u001b[0m\u001b[0;34m:\u001b[0m\u001b[0;34m\u001b[0m\u001b[0;34m\u001b[0m\u001b[0m\n\u001b[1;32m   4152\u001b[0m             \u001b[0;32mif\u001b[0m \u001b[0mlabels\u001b[0m \u001b[0;32mis\u001b[0m \u001b[0;32mnot\u001b[0m \u001b[0;32mNone\u001b[0m\u001b[0;34m:\u001b[0m\u001b[0;34m\u001b[0m\u001b[0;34m\u001b[0m\u001b[0m\n\u001b[0;32m-> 4153\u001b[0;31m                 \u001b[0mobj\u001b[0m \u001b[0;34m=\u001b[0m \u001b[0mobj\u001b[0m\u001b[0;34m.\u001b[0m\u001b[0m_drop_axis\u001b[0m\u001b[0;34m(\u001b[0m\u001b[0mlabels\u001b[0m\u001b[0;34m,\u001b[0m \u001b[0maxis\u001b[0m\u001b[0;34m,\u001b[0m \u001b[0mlevel\u001b[0m\u001b[0;34m=\u001b[0m\u001b[0mlevel\u001b[0m\u001b[0;34m,\u001b[0m \u001b[0merrors\u001b[0m\u001b[0;34m=\u001b[0m\u001b[0merrors\u001b[0m\u001b[0;34m)\u001b[0m\u001b[0;34m\u001b[0m\u001b[0;34m\u001b[0m\u001b[0m\n\u001b[0m\u001b[1;32m   4154\u001b[0m \u001b[0;34m\u001b[0m\u001b[0m\n\u001b[1;32m   4155\u001b[0m         \u001b[0;32mif\u001b[0m \u001b[0minplace\u001b[0m\u001b[0;34m:\u001b[0m\u001b[0;34m\u001b[0m\u001b[0;34m\u001b[0m\u001b[0m\n",
      "\u001b[0;32m~/opt/anaconda3/lib/python3.8/site-packages/pandas/core/generic.py\u001b[0m in \u001b[0;36m_drop_axis\u001b[0;34m(self, labels, axis, level, errors)\u001b[0m\n\u001b[1;32m   4186\u001b[0m                 \u001b[0mnew_axis\u001b[0m \u001b[0;34m=\u001b[0m \u001b[0maxis\u001b[0m\u001b[0;34m.\u001b[0m\u001b[0mdrop\u001b[0m\u001b[0;34m(\u001b[0m\u001b[0mlabels\u001b[0m\u001b[0;34m,\u001b[0m \u001b[0mlevel\u001b[0m\u001b[0;34m=\u001b[0m\u001b[0mlevel\u001b[0m\u001b[0;34m,\u001b[0m \u001b[0merrors\u001b[0m\u001b[0;34m=\u001b[0m\u001b[0merrors\u001b[0m\u001b[0;34m)\u001b[0m\u001b[0;34m\u001b[0m\u001b[0;34m\u001b[0m\u001b[0m\n\u001b[1;32m   4187\u001b[0m             \u001b[0;32melse\u001b[0m\u001b[0;34m:\u001b[0m\u001b[0;34m\u001b[0m\u001b[0;34m\u001b[0m\u001b[0m\n\u001b[0;32m-> 4188\u001b[0;31m                 \u001b[0mnew_axis\u001b[0m \u001b[0;34m=\u001b[0m \u001b[0maxis\u001b[0m\u001b[0;34m.\u001b[0m\u001b[0mdrop\u001b[0m\u001b[0;34m(\u001b[0m\u001b[0mlabels\u001b[0m\u001b[0;34m,\u001b[0m \u001b[0merrors\u001b[0m\u001b[0;34m=\u001b[0m\u001b[0merrors\u001b[0m\u001b[0;34m)\u001b[0m\u001b[0;34m\u001b[0m\u001b[0;34m\u001b[0m\u001b[0m\n\u001b[0m\u001b[1;32m   4189\u001b[0m             \u001b[0mresult\u001b[0m \u001b[0;34m=\u001b[0m \u001b[0mself\u001b[0m\u001b[0;34m.\u001b[0m\u001b[0mreindex\u001b[0m\u001b[0;34m(\u001b[0m\u001b[0;34m**\u001b[0m\u001b[0;34m{\u001b[0m\u001b[0maxis_name\u001b[0m\u001b[0;34m:\u001b[0m \u001b[0mnew_axis\u001b[0m\u001b[0;34m}\u001b[0m\u001b[0;34m)\u001b[0m\u001b[0;34m\u001b[0m\u001b[0;34m\u001b[0m\u001b[0m\n\u001b[1;32m   4190\u001b[0m \u001b[0;34m\u001b[0m\u001b[0m\n",
      "\u001b[0;32m~/opt/anaconda3/lib/python3.8/site-packages/pandas/core/indexes/base.py\u001b[0m in \u001b[0;36mdrop\u001b[0;34m(self, labels, errors)\u001b[0m\n\u001b[1;32m   5589\u001b[0m         \u001b[0;32mif\u001b[0m \u001b[0mmask\u001b[0m\u001b[0;34m.\u001b[0m\u001b[0many\u001b[0m\u001b[0;34m(\u001b[0m\u001b[0;34m)\u001b[0m\u001b[0;34m:\u001b[0m\u001b[0;34m\u001b[0m\u001b[0;34m\u001b[0m\u001b[0m\n\u001b[1;32m   5590\u001b[0m             \u001b[0;32mif\u001b[0m \u001b[0merrors\u001b[0m \u001b[0;34m!=\u001b[0m \u001b[0;34m\"ignore\"\u001b[0m\u001b[0;34m:\u001b[0m\u001b[0;34m\u001b[0m\u001b[0;34m\u001b[0m\u001b[0m\n\u001b[0;32m-> 5591\u001b[0;31m                 \u001b[0;32mraise\u001b[0m \u001b[0mKeyError\u001b[0m\u001b[0;34m(\u001b[0m\u001b[0;34mf\"{labels[mask]} not found in axis\"\u001b[0m\u001b[0;34m)\u001b[0m\u001b[0;34m\u001b[0m\u001b[0;34m\u001b[0m\u001b[0m\n\u001b[0m\u001b[1;32m   5592\u001b[0m             \u001b[0mindexer\u001b[0m \u001b[0;34m=\u001b[0m \u001b[0mindexer\u001b[0m\u001b[0;34m[\u001b[0m\u001b[0;34m~\u001b[0m\u001b[0mmask\u001b[0m\u001b[0;34m]\u001b[0m\u001b[0;34m\u001b[0m\u001b[0;34m\u001b[0m\u001b[0m\n\u001b[1;32m   5593\u001b[0m         \u001b[0;32mreturn\u001b[0m \u001b[0mself\u001b[0m\u001b[0;34m.\u001b[0m\u001b[0mdelete\u001b[0m\u001b[0;34m(\u001b[0m\u001b[0mindexer\u001b[0m\u001b[0;34m)\u001b[0m\u001b[0;34m\u001b[0m\u001b[0;34m\u001b[0m\u001b[0m\n",
      "\u001b[0;31mKeyError\u001b[0m: \"['name' 'timestamp'] not found in axis\""
     ]
    }
   ],
   "source": [
    "new_df_no_outlier.drop(['name','timestamp'], axis = 1, inplace = True)"
   ]
  },
  {
   "cell_type": "code",
   "execution_count": null,
   "id": "370b36e4",
   "metadata": {},
   "outputs": [],
   "source": [
    "new_df_no_outlier"
   ]
  },
  {
   "cell_type": "markdown",
   "id": "b674651e",
   "metadata": {},
   "source": [
    "## Linear Regression Model"
   ]
  },
  {
   "cell_type": "code",
   "execution_count": 160,
   "id": "4b21a5c9",
   "metadata": {},
   "outputs": [],
   "source": [
    "# new_df_no_outlier=new_df_no_outlier.sample(n=1000000, axis=0, replace=True)\n",
    "# new_df_no_outlier"
   ]
  },
  {
   "cell_type": "code",
   "execution_count": 161,
   "id": "5ffaf286",
   "metadata": {
    "scrolled": false
   },
   "outputs": [],
   "source": [
    "# new_df_no_outlier.plot(x='in_port', y='op_code', style='o')  \n",
    "# plt.title('in_port vs op_code')  \n",
    "# plt.xlabel('in_port')  \n",
    "# plt.ylabel('op_code')  \n",
    "# plt.show()"
   ]
  },
  {
   "cell_type": "code",
   "execution_count": 162,
   "id": "2ffb810e",
   "metadata": {},
   "outputs": [],
   "source": [
    "# sns.regplot(x=new_df_no_outlier[\"in_port\"], y=new_df_no_outlier[\"op_code\"], line_kws={\"color\":\"r\",\"alpha\":0.1,\"lw\":5})\n",
    "# plt.show()"
   ]
  },
  {
   "cell_type": "code",
   "execution_count": 163,
   "id": "fa8a6691",
   "metadata": {},
   "outputs": [],
   "source": [
    "features = [\"speed\", \"in_port\", \"lat_deg\", \"long_deg\"]\n",
    "X = new_df_no_outlier[features]\n",
    "y = new_df_no_outlier.op_code"
   ]
  },
  {
   "cell_type": "code",
   "execution_count": 164,
   "id": "3050106e",
   "metadata": {},
   "outputs": [],
   "source": [
    "X_train, X_test, y_train, y_test = train_test_split(X, y, test_size=0.2, random_state=0)"
   ]
  },
  {
   "cell_type": "code",
   "execution_count": 165,
   "id": "c723f004",
   "metadata": {},
   "outputs": [
    {
     "data": {
      "text/plain": [
       "LinearRegression()"
      ]
     },
     "execution_count": 165,
     "metadata": {},
     "output_type": "execute_result"
    }
   ],
   "source": [
    "regressor = LinearRegression()  \n",
    "regressor.fit(X_train, y_train) #training the algorithm"
   ]
  },
  {
   "cell_type": "code",
   "execution_count": 166,
   "id": "d15da235",
   "metadata": {},
   "outputs": [],
   "source": [
    "# regressor.predict([[0]])"
   ]
  },
  {
   "cell_type": "code",
   "execution_count": 167,
   "id": "ec192d03",
   "metadata": {},
   "outputs": [],
   "source": [
    "# features = [\"speed\"]\n",
    "# X = new_df_no_dupli[features]\n",
    "# y = new_df_no_dupli.op_code\n",
    "\n",
    "# plt.scatter(X['speed'],y)"
   ]
  },
  {
   "cell_type": "code",
   "execution_count": 168,
   "id": "7dbd2e57",
   "metadata": {},
   "outputs": [],
   "source": [
    "# plt.subplot(2,2,1)\n",
    "# plt.scatter(X['speed'],y)"
   ]
  },
  {
   "cell_type": "code",
   "execution_count": 169,
   "id": "5228c6e6",
   "metadata": {},
   "outputs": [],
   "source": [
    "mlr_model = LinearRegression()"
   ]
  },
  {
   "cell_type": "code",
   "execution_count": 170,
   "id": "a7e6c4d3",
   "metadata": {},
   "outputs": [
    {
     "data": {
      "text/plain": [
       "LinearRegression()"
      ]
     },
     "execution_count": 170,
     "metadata": {},
     "output_type": "execute_result"
    }
   ],
   "source": [
    "# Fit our linear regression model to our data, we are essentially finding θ₀, θ₁ and θ₂ in our regression line: ŷ = θ₀– θ₁𝑥¹- θ₂𝑥²\n",
    "mlr_model.fit(X, y)"
   ]
  },
  {
   "cell_type": "code",
   "execution_count": 171,
   "id": "bf638fca",
   "metadata": {},
   "outputs": [],
   "source": [
    "# Use our Multiple Linear Regression Model to make predictions\n",
    "# y_pred = mlr_model.predict([[0]])\n",
    "# y_pred"
   ]
  },
  {
   "cell_type": "code",
   "execution_count": 172,
   "id": "a7b83dc6",
   "metadata": {},
   "outputs": [
    {
     "name": "stdout",
     "output_type": "stream",
     "text": [
      "36.16437849027898\n"
     ]
    }
   ],
   "source": [
    "# Accuracy using Mean Absolute Percentage Error (MAPE)\n",
    "from sklearn.metrics import mean_absolute_error\n",
    "\n",
    "mape = mean_absolute_error(y_test, mlr_model.predict(X_test))*100\n",
    "print(mape)\n",
    "\n",
    "# print(accuracy_score(y_test, mlr_model.predict(X_test)))"
   ]
  },
  {
   "cell_type": "code",
   "execution_count": null,
   "id": "ea0249bf",
   "metadata": {},
   "outputs": [],
   "source": [
    "# reg = linear_model.LinearRegression()\n",
    "# reg.fit(new_df_no_outlier[[speed']], new_df_no_outlier.op_code)\n"
   ]
  },
  {
   "cell_type": "code",
   "execution_count": null,
   "id": "999e694e",
   "metadata": {},
   "outputs": [],
   "source": [
    "# reg.coef_"
   ]
  },
  {
   "cell_type": "code",
   "execution_count": null,
   "id": "922e257a",
   "metadata": {},
   "outputs": [],
   "source": [
    "# reg.intercept_"
   ]
  },
  {
   "cell_type": "code",
   "execution_count": null,
   "id": "37d25cf2",
   "metadata": {},
   "outputs": [],
   "source": [
    "# reg.predict([[9.0523, -79.6539, 6.9, 1]])"
   ]
  },
  {
   "cell_type": "markdown",
   "id": "e43511cb",
   "metadata": {},
   "source": [
    "### XGBoost"
   ]
  },
  {
   "cell_type": "code",
   "execution_count": 179,
   "id": "44a38a99",
   "metadata": {},
   "outputs": [],
   "source": [
    "from numpy import loadtxt\n",
    "from xgboost import XGBClassifier\n",
    "from sklearn.model_selection import train_test_split\n",
    "from sklearn.metrics import accuracy_score"
   ]
  },
  {
   "cell_type": "code",
   "execution_count": 180,
   "id": "f9ff2ba3",
   "metadata": {},
   "outputs": [],
   "source": [
    "# split data into X and y\n",
    "features = [\"lat_deg\",\"long_deg\",\"speed\",\"in_port\"]\n",
    "X = new_df_no_outlier_no_scaling[features]\n",
    "y = new_df_no_outlier_no_scaling.op_code"
   ]
  },
  {
   "cell_type": "code",
   "execution_count": 181,
   "id": "2438a213",
   "metadata": {},
   "outputs": [],
   "source": [
    "# split data into train and test sets\n",
    "seed = 7\n",
    "test_size = 0.33\n",
    "X_train, X_test, y_train, y_test = train_test_split(X, y, test_size=test_size, random_state=seed)"
   ]
  },
  {
   "cell_type": "code",
   "execution_count": 353,
   "id": "ffeae3aa",
   "metadata": {},
   "outputs": [
    {
     "data": {
      "text/plain": [
       "XGBClassifier(base_score=0.5, booster='gbtree', callbacks=None,\n",
       "              colsample_bylevel=1, colsample_bynode=1, colsample_bytree=1,\n",
       "              early_stopping_rounds=None, enable_categorical=False,\n",
       "              eval_metric=None, gamma=0, gpu_id=-1, grow_policy='depthwise',\n",
       "              importance_type=None, interaction_constraints='',\n",
       "              learning_rate=0.300000012, max_bin=256, max_cat_to_onehot=4,\n",
       "              max_delta_step=0, max_depth=6, max_leaves=0, min_child_weight=1,\n",
       "              missing=nan, monotone_constraints='()', n_estimators=100,\n",
       "              n_jobs=0, num_parallel_tree=1, objective='multi:softprob',\n",
       "              predictor='auto', random_state=0, reg_alpha=0, ...)"
      ]
     },
     "execution_count": 353,
     "metadata": {},
     "output_type": "execute_result"
    }
   ],
   "source": [
    "# fit model on training data\n",
    "model = XGBClassifier()\n",
    "model.fit(X_train, y_train)"
   ]
  },
  {
   "cell_type": "code",
   "execution_count": 354,
   "id": "cb068b78",
   "metadata": {},
   "outputs": [
    {
     "name": "stdout",
     "output_type": "stream",
     "text": [
      "XGBClassifier(base_score=0.5, booster='gbtree', callbacks=None,\n",
      "              colsample_bylevel=1, colsample_bynode=1, colsample_bytree=1,\n",
      "              early_stopping_rounds=None, enable_categorical=False,\n",
      "              eval_metric=None, gamma=0, gpu_id=-1, grow_policy='depthwise',\n",
      "              importance_type=None, interaction_constraints='',\n",
      "              learning_rate=0.300000012, max_bin=256, max_cat_to_onehot=4,\n",
      "              max_delta_step=0, max_depth=6, max_leaves=0, min_child_weight=1,\n",
      "              missing=nan, monotone_constraints='()', n_estimators=100,\n",
      "              n_jobs=0, num_parallel_tree=1, objective='multi:softprob',\n",
      "              predictor='auto', random_state=0, reg_alpha=0, ...)\n"
     ]
    }
   ],
   "source": [
    "print(model)"
   ]
  },
  {
   "cell_type": "code",
   "execution_count": 355,
   "id": "4a9f559f",
   "metadata": {},
   "outputs": [],
   "source": [
    "# make predictions for test data\n",
    "y_pred = model.predict(X_test)\n",
    "predictions = [round(value) for value in y_pred]"
   ]
  },
  {
   "cell_type": "code",
   "execution_count": 356,
   "id": "417a1060",
   "metadata": {},
   "outputs": [
    {
     "name": "stdout",
     "output_type": "stream",
     "text": [
      "Accuracy: 99.05%\n"
     ]
    }
   ],
   "source": [
    "# evaluate predictions\n",
    "accuracy = accuracy_score(y_test, predictions)\n",
    "print(\"Accuracy: %.2f%%\" % (accuracy * 100.0))"
   ]
  },
  {
   "cell_type": "markdown",
   "id": "7eae6bb2",
   "metadata": {},
   "source": [
    "## Ways to detect outliers:\n",
    "### Scattel plots\n",
    "### Box plot\n",
    "### Using percentile\n",
    "### Using Z score, standars deviation\n",
    "### Using the IQR Interquantile Range"
   ]
  },
  {
   "cell_type": "code",
   "execution_count": 275,
   "id": "99250520",
   "metadata": {},
   "outputs": [],
   "source": [
    "def plot_boxplot(df, ft):\n",
    "    df.boxplot(column=[ft])\n",
    "    plt.grid(False)\n",
    "    plt.show()"
   ]
  },
  {
   "cell_type": "code",
   "execution_count": 276,
   "id": "3f41bc6b",
   "metadata": {},
   "outputs": [
    {
     "data": {
      "image/png": "[encoded data removed]",
      "text/plain": [
       "<Figure size 432x288 with 1 Axes>"
      ]
     },
     "metadata": {
      "needs_background": "light"
     },
     "output_type": "display_data"
    }
   ],
   "source": [
    "plot_boxplot(df_no_dupli, \"lat_deg\")"
   ]
  },
  {
   "cell_type": "code",
   "execution_count": 277,
   "id": "3bd587e3",
   "metadata": {},
   "outputs": [
    {
     "name": "stderr",
     "output_type": "stream",
     "text": [
      "/Users/eli/opt/anaconda3/lib/python3.8/site-packages/seaborn/distributions.py:2557: FutureWarning: `distplot` is a deprecated function and will be removed in a future version. Please adapt your code to use either `displot` (a figure-level function with similar flexibility) or `histplot` (an axes-level function for histograms).\n",
      "  warnings.warn(msg, FutureWarning)\n"
     ]
    },
    {
     "data": {
      "text/plain": [
       "<AxesSubplot:xlabel='lat_deg', ylabel='Density'>"
      ]
     },
     "execution_count": 277,
     "metadata": {},
     "output_type": "execute_result"
    },
    {
     "data": {
      "image/png": "[encoded data removed]",
      "text/plain": [
       "<Figure size 432x288 with 1 Axes>"
      ]
     },
     "metadata": {
      "needs_background": "light"
     },
     "output_type": "display_data"
    }
   ],
   "source": [
    "sns.distplot(df_no_dupli['lat_deg'], bins=10)"
   ]
  },
  {
   "cell_type": "code",
   "execution_count": null,
   "id": "ac79d8c3",
   "metadata": {},
   "outputs": [],
   "source": []
  },
  {
   "cell_type": "code",
   "execution_count": 278,
   "id": "848b85ac",
   "metadata": {
    "scrolled": true
   },
   "outputs": [
    {
     "data": {
      "image/png": "[encoded data removed]",
      "text/plain": [
       "<Figure size 432x288 with 1 Axes>"
      ]
     },
     "metadata": {
      "needs_background": "light"
     },
     "output_type": "display_data"
    }
   ],
   "source": [
    "plot_boxplot(df_no_dupli, \"long_deg\")"
   ]
  },
  {
   "cell_type": "code",
   "execution_count": 279,
   "id": "c27aa2ab",
   "metadata": {},
   "outputs": [
    {
     "name": "stderr",
     "output_type": "stream",
     "text": [
      "/Users/eli/opt/anaconda3/lib/python3.8/site-packages/seaborn/distributions.py:2557: FutureWarning: `distplot` is a deprecated function and will be removed in a future version. Please adapt your code to use either `displot` (a figure-level function with similar flexibility) or `histplot` (an axes-level function for histograms).\n",
      "  warnings.warn(msg, FutureWarning)\n"
     ]
    },
    {
     "data": {
      "text/plain": [
       "<AxesSubplot:xlabel='long_deg', ylabel='Density'>"
      ]
     },
     "execution_count": 279,
     "metadata": {},
     "output_type": "execute_result"
    },
    {
     "data": {
      "image/png": "[encoded data removed]",
      "text/plain": [
       "<Figure size 432x288 with 1 Axes>"
      ]
     },
     "metadata": {
      "needs_background": "light"
     },
     "output_type": "display_data"
    }
   ],
   "source": [
    "sns.distplot(df_no_dupli['long_deg'], bins=10)"
   ]
  },
  {
   "cell_type": "code",
   "execution_count": 280,
   "id": "05aa90d8",
   "metadata": {},
   "outputs": [
    {
     "data": {
      "text/plain": [
       "{'whiskers': [<matplotlib.lines.Line2D at 0x7f8051419160>,\n",
       "  <matplotlib.lines.Line2D at 0x7f80514194c0>],\n",
       " 'caps': [<matplotlib.lines.Line2D at 0x7f8051419820>,\n",
       "  <matplotlib.lines.Line2D at 0x7f8051419b80>],\n",
       " 'boxes': [<matplotlib.lines.Line2D at 0x7f8051409dc0>],\n",
       " 'medians': [<matplotlib.lines.Line2D at 0x7f8051419ee0>],\n",
       " 'fliers': [<matplotlib.lines.Line2D at 0x7f8051423280>],\n",
       " 'means': []}"
      ]
     },
     "execution_count": 280,
     "metadata": {},
     "output_type": "execute_result"
    },
    {
     "data": {
      "image/png": "[encoded data removed]",
      "text/plain": [
       "<Figure size 432x288 with 1 Axes>"
      ]
     },
     "metadata": {
      "needs_background": "light"
     },
     "output_type": "display_data"
    }
   ],
   "source": [
    "plt.boxplot(df_no_dupli[\"course\"])"
   ]
  },
  {
   "cell_type": "code",
   "execution_count": 281,
   "id": "23d683db",
   "metadata": {},
   "outputs": [
    {
     "name": "stderr",
     "output_type": "stream",
     "text": [
      "/Users/eli/opt/anaconda3/lib/python3.8/site-packages/seaborn/distributions.py:2557: FutureWarning: `distplot` is a deprecated function and will be removed in a future version. Please adapt your code to use either `displot` (a figure-level function with similar flexibility) or `histplot` (an axes-level function for histograms).\n",
      "  warnings.warn(msg, FutureWarning)\n"
     ]
    },
    {
     "data": {
      "text/plain": [
       "<AxesSubplot:xlabel='course', ylabel='Density'>"
      ]
     },
     "execution_count": 281,
     "metadata": {},
     "output_type": "execute_result"
    },
    {
     "data": {
      "image/png": "[encoded data removed]",
      "text/plain": [
       "<Figure size 432x288 with 1 Axes>"
      ]
     },
     "metadata": {
      "needs_background": "light"
     },
     "output_type": "display_data"
    }
   ],
   "source": [
    "sns.distplot(df_no_dupli['course'], bins=10)"
   ]
  },
  {
   "cell_type": "code",
   "execution_count": 282,
   "id": "85896836",
   "metadata": {},
   "outputs": [
    {
     "data": {
      "image/png": "[encoded data removed]",
      "text/plain": [
       "<Figure size 432x288 with 1 Axes>"
      ]
     },
     "metadata": {
      "needs_background": "light"
     },
     "output_type": "display_data"
    }
   ],
   "source": [
    "plot_boxplot(df_no_dupli, \"speed\")"
   ]
  },
  {
   "cell_type": "code",
   "execution_count": 283,
   "id": "27da8418",
   "metadata": {},
   "outputs": [
    {
     "data": {
      "text/plain": [
       "<AxesSubplot:xlabel='speed', ylabel='Count'>"
      ]
     },
     "execution_count": 283,
     "metadata": {},
     "output_type": "execute_result"
    },
    {
     "data": {
      "image/png": "[encoded data removed]",
      "text/plain": [
       "<Figure size 432x288 with 1 Axes>"
      ]
     },
     "metadata": {},
     "output_type": "display_data"
    }
   ],
   "source": [
    "sns.set(style=\"darkgrid\")\n",
    "sns.histplot(data=df_no_dupli, x=\"speed\", kde=True, bins=5)"
   ]
  },
  {
   "cell_type": "code",
   "execution_count": 284,
   "id": "5d68558f",
   "metadata": {},
   "outputs": [
    {
     "name": "stderr",
     "output_type": "stream",
     "text": [
      "/Users/eli/opt/anaconda3/lib/python3.8/site-packages/seaborn/distributions.py:2557: FutureWarning: `distplot` is a deprecated function and will be removed in a future version. Please adapt your code to use either `displot` (a figure-level function with similar flexibility) or `histplot` (an axes-level function for histograms).\n",
      "  warnings.warn(msg, FutureWarning)\n"
     ]
    },
    {
     "data": {
      "text/plain": [
       "<AxesSubplot:xlabel='speed'>"
      ]
     },
     "execution_count": 284,
     "metadata": {},
     "output_type": "execute_result"
    },
    {
     "data": {
      "image/png": "[encoded data removed]",
      "text/plain": [
       "<Figure size 432x288 with 1 Axes>"
      ]
     },
     "metadata": {},
     "output_type": "display_data"
    }
   ],
   "source": [
    "# Plot the histogram by distplot function\n",
    "sns.distplot( a=df_no_dupli[\"speed\"], hist=True, kde=False, rug=False)"
   ]
  },
  {
   "cell_type": "code",
   "execution_count": 285,
   "id": "a6f00cea",
   "metadata": {},
   "outputs": [
    {
     "data": {
      "text/plain": [
       "(3.0, 17.278624)"
      ]
     },
     "execution_count": 285,
     "metadata": {},
     "output_type": "execute_result"
    }
   ],
   "source": [
    "Q1 = df_vessel.speed.quantile(0.25)\n",
    "Q3 = df_vessel.speed.quantile(0.75)\n",
    "Q1, Q3"
   ]
  },
  {
   "cell_type": "code",
   "execution_count": 286,
   "id": "765a847b",
   "metadata": {},
   "outputs": [
    {
     "data": {
      "text/plain": [
       "14.278624"
      ]
     },
     "execution_count": 286,
     "metadata": {},
     "output_type": "execute_result"
    }
   ],
   "source": [
    "IQR = Q3 - Q1\n",
    "IQR"
   ]
  },
  {
   "cell_type": "code",
   "execution_count": 287,
   "id": "b0d3ff18",
   "metadata": {},
   "outputs": [
    {
     "data": {
      "text/plain": [
       "(-18.417936, 38.696560000000005)"
      ]
     },
     "execution_count": 287,
     "metadata": {},
     "output_type": "execute_result"
    }
   ],
   "source": [
    "lower_limit = Q1 - 1.5*IQR\n",
    "upper_limit = Q3 + 1.5*IQR\n",
    "lower_limit, upper_limit"
   ]
  },
  {
   "cell_type": "code",
   "execution_count": 288,
   "id": "b0633107",
   "metadata": {},
   "outputs": [
    {
     "data": {
      "text/html": [
       "<div>\n",
       "<style scoped>\n",
       "    .dataframe tbody tr th:only-of-type {\n",
       "        vertical-align: middle;\n",
       "    }\n",
       "\n",
       "    .dataframe tbody tr th {\n",
       "        vertical-align: top;\n",
       "    }\n",
       "\n",
       "    .dataframe thead th {\n",
       "        text-align: right;\n",
       "    }\n",
       "</style>\n",
       "<table border=\"1\" class=\"dataframe\">\n",
       "  <thead>\n",
       "    <tr style=\"text-align: right;\">\n",
       "      <th></th>\n",
       "      <th>name</th>\n",
       "      <th>timestamp</th>\n",
       "      <th>latitude_deg</th>\n",
       "      <th>longitude_deg</th>\n",
       "      <th>course</th>\n",
       "      <th>speed</th>\n",
       "      <th>in_port</th>\n",
       "      <th>OP_CODE_NAME_SHORT</th>\n",
       "    </tr>\n",
       "  </thead>\n",
       "  <tbody>\n",
       "  </tbody>\n",
       "</table>\n",
       "</div>"
      ],
      "text/plain": [
       "Empty DataFrame\n",
       "Columns: [name, timestamp, latitude_deg, longitude_deg, course, speed, in_port, OP_CODE_NAME_SHORT]\n",
       "Index: []"
      ]
     },
     "execution_count": 288,
     "metadata": {},
     "output_type": "execute_result"
    }
   ],
   "source": [
    "df_vessel[(df_vessel.speed<lower_limit) | (df_vessel.speed>upper_limit)]"
   ]
  },
  {
   "cell_type": "markdown",
   "id": "03de2619",
   "metadata": {},
   "source": [
    "### Z-score"
   ]
  },
  {
   "cell_type": "code",
   "execution_count": 289,
   "id": "1d8883a8",
   "metadata": {
    "scrolled": true
   },
   "outputs": [
    {
     "data": {
      "text/plain": [
       "11.678509820924884"
      ]
     },
     "execution_count": 289,
     "metadata": {},
     "output_type": "execute_result"
    }
   ],
   "source": [
    "df_vessel.speed.mean()"
   ]
  },
  {
   "cell_type": "code",
   "execution_count": 290,
   "id": "24537955",
   "metadata": {},
   "outputs": [
    {
     "data": {
      "text/plain": [
       "7.212701015088185"
      ]
     },
     "execution_count": 290,
     "metadata": {},
     "output_type": "execute_result"
    }
   ],
   "source": [
    "df_vessel.speed.std()"
   ]
  },
  {
   "cell_type": "code",
   "execution_count": 291,
   "id": "02a073a7",
   "metadata": {},
   "outputs": [
    {
     "data": {
      "text/plain": [
       "33.31661286618944"
      ]
     },
     "execution_count": 291,
     "metadata": {},
     "output_type": "execute_result"
    }
   ],
   "source": [
    "upper_limit = df_vessel.speed.mean() + 3*df_vessel.speed.std()\n",
    "upper_limit\n"
   ]
  },
  {
   "cell_type": "code",
   "execution_count": 292,
   "id": "e6847429",
   "metadata": {},
   "outputs": [
    {
     "data": {
      "text/plain": [
       "-9.95959322433967"
      ]
     },
     "execution_count": 292,
     "metadata": {},
     "output_type": "execute_result"
    }
   ],
   "source": [
    "lower_limit = df_vessel.speed.mean() - 3*df_vessel.speed.std()\n",
    "lower_limit"
   ]
  },
  {
   "cell_type": "code",
   "execution_count": 293,
   "id": "d0f93947",
   "metadata": {},
   "outputs": [
    {
     "data": {
      "text/html": [
       "<div>\n",
       "<style scoped>\n",
       "    .dataframe tbody tr th:only-of-type {\n",
       "        vertical-align: middle;\n",
       "    }\n",
       "\n",
       "    .dataframe tbody tr th {\n",
       "        vertical-align: top;\n",
       "    }\n",
       "\n",
       "    .dataframe thead th {\n",
       "        text-align: right;\n",
       "    }\n",
       "</style>\n",
       "<table border=\"1\" class=\"dataframe\">\n",
       "  <thead>\n",
       "    <tr style=\"text-align: right;\">\n",
       "      <th></th>\n",
       "      <th>name</th>\n",
       "      <th>timestamp</th>\n",
       "      <th>latitude_deg</th>\n",
       "      <th>longitude_deg</th>\n",
       "      <th>course</th>\n",
       "      <th>speed</th>\n",
       "      <th>in_port</th>\n",
       "      <th>OP_CODE_NAME_SHORT</th>\n",
       "    </tr>\n",
       "  </thead>\n",
       "  <tbody>\n",
       "  </tbody>\n",
       "</table>\n",
       "</div>"
      ],
      "text/plain": [
       "Empty DataFrame\n",
       "Columns: [name, timestamp, latitude_deg, longitude_deg, course, speed, in_port, OP_CODE_NAME_SHORT]\n",
       "Index: []"
      ]
     },
     "execution_count": 293,
     "metadata": {},
     "output_type": "execute_result"
    }
   ],
   "source": [
    "df_vessel[(df_vessel.speed<lower_limit) | (df_vessel.speed>upper_limit)]"
   ]
  },
  {
   "cell_type": "code",
   "execution_count": 294,
   "id": "5b27f7db",
   "metadata": {},
   "outputs": [
    {
     "data": {
      "image/png": "[encoded data removed]",
      "text/plain": [
       "<Figure size 432x288 with 1 Axes>"
      ]
     },
     "metadata": {},
     "output_type": "display_data"
    }
   ],
   "source": [
    "plot_boxplot(df_vessel, \"in_port\")"
   ]
  },
  {
   "cell_type": "code",
   "execution_count": 295,
   "id": "3cdabe09",
   "metadata": {},
   "outputs": [
    {
     "ename": "KeyError",
     "evalue": "\"None of [Index(['op_code'], dtype='object')] are in the [columns]\"",
     "output_type": "error",
     "traceback": [
      "\u001b[0;31m---------------------------------------------------------------------------\u001b[0m",
      "\u001b[0;31mKeyError\u001b[0m                                  Traceback (most recent call last)",
      "\u001b[0;32m<ipython-input-295-b693fbbaf160>\u001b[0m in \u001b[0;36m<module>\u001b[0;34m\u001b[0m\n\u001b[0;32m----> 1\u001b[0;31m \u001b[0mplot_boxplot\u001b[0m\u001b[0;34m(\u001b[0m\u001b[0mdf_vessel\u001b[0m\u001b[0;34m,\u001b[0m \u001b[0;34m\"op_code\"\u001b[0m\u001b[0;34m)\u001b[0m\u001b[0;34m\u001b[0m\u001b[0;34m\u001b[0m\u001b[0m\n\u001b[0m",
      "\u001b[0;32m<ipython-input-275-6c31c06cbd30>\u001b[0m in \u001b[0;36mplot_boxplot\u001b[0;34m(df, ft)\u001b[0m\n\u001b[1;32m      1\u001b[0m \u001b[0;32mdef\u001b[0m \u001b[0mplot_boxplot\u001b[0m\u001b[0;34m(\u001b[0m\u001b[0mdf\u001b[0m\u001b[0;34m,\u001b[0m \u001b[0mft\u001b[0m\u001b[0;34m)\u001b[0m\u001b[0;34m:\u001b[0m\u001b[0;34m\u001b[0m\u001b[0;34m\u001b[0m\u001b[0m\n\u001b[0;32m----> 2\u001b[0;31m     \u001b[0mdf\u001b[0m\u001b[0;34m.\u001b[0m\u001b[0mboxplot\u001b[0m\u001b[0;34m(\u001b[0m\u001b[0mcolumn\u001b[0m\u001b[0;34m=\u001b[0m\u001b[0;34m[\u001b[0m\u001b[0mft\u001b[0m\u001b[0;34m]\u001b[0m\u001b[0;34m)\u001b[0m\u001b[0;34m\u001b[0m\u001b[0;34m\u001b[0m\u001b[0m\n\u001b[0m\u001b[1;32m      3\u001b[0m     \u001b[0mplt\u001b[0m\u001b[0;34m.\u001b[0m\u001b[0mgrid\u001b[0m\u001b[0;34m(\u001b[0m\u001b[0;32mFalse\u001b[0m\u001b[0;34m)\u001b[0m\u001b[0;34m\u001b[0m\u001b[0;34m\u001b[0m\u001b[0m\n\u001b[1;32m      4\u001b[0m     \u001b[0mplt\u001b[0m\u001b[0;34m.\u001b[0m\u001b[0mshow\u001b[0m\u001b[0;34m(\u001b[0m\u001b[0;34m)\u001b[0m\u001b[0;34m\u001b[0m\u001b[0;34m\u001b[0m\u001b[0m\n",
      "\u001b[0;32m~/opt/anaconda3/lib/python3.8/site-packages/pandas/plotting/_core.py\u001b[0m in \u001b[0;36mboxplot_frame\u001b[0;34m(self, column, by, ax, fontsize, rot, grid, figsize, layout, return_type, backend, **kwargs)\u001b[0m\n\u001b[1;32m    492\u001b[0m ):\n\u001b[1;32m    493\u001b[0m     \u001b[0mplot_backend\u001b[0m \u001b[0;34m=\u001b[0m \u001b[0m_get_plot_backend\u001b[0m\u001b[0;34m(\u001b[0m\u001b[0mbackend\u001b[0m\u001b[0;34m)\u001b[0m\u001b[0;34m\u001b[0m\u001b[0;34m\u001b[0m\u001b[0m\n\u001b[0;32m--> 494\u001b[0;31m     return plot_backend.boxplot_frame(\n\u001b[0m\u001b[1;32m    495\u001b[0m         \u001b[0mself\u001b[0m\u001b[0;34m,\u001b[0m\u001b[0;34m\u001b[0m\u001b[0;34m\u001b[0m\u001b[0m\n\u001b[1;32m    496\u001b[0m         \u001b[0mcolumn\u001b[0m\u001b[0;34m=\u001b[0m\u001b[0mcolumn\u001b[0m\u001b[0;34m,\u001b[0m\u001b[0;34m\u001b[0m\u001b[0;34m\u001b[0m\u001b[0m\n",
      "\u001b[0;32m~/opt/anaconda3/lib/python3.8/site-packages/pandas/plotting/_matplotlib/boxplot.py\u001b[0m in \u001b[0;36mboxplot_frame\u001b[0;34m(self, column, by, ax, fontsize, rot, grid, figsize, layout, return_type, **kwds)\u001b[0m\n\u001b[1;32m    383\u001b[0m     \u001b[0;32mimport\u001b[0m \u001b[0mmatplotlib\u001b[0m\u001b[0;34m.\u001b[0m\u001b[0mpyplot\u001b[0m \u001b[0;32mas\u001b[0m \u001b[0mplt\u001b[0m\u001b[0;34m\u001b[0m\u001b[0;34m\u001b[0m\u001b[0m\n\u001b[1;32m    384\u001b[0m \u001b[0;34m\u001b[0m\u001b[0m\n\u001b[0;32m--> 385\u001b[0;31m     ax = boxplot(\n\u001b[0m\u001b[1;32m    386\u001b[0m         \u001b[0mself\u001b[0m\u001b[0;34m,\u001b[0m\u001b[0;34m\u001b[0m\u001b[0;34m\u001b[0m\u001b[0m\n\u001b[1;32m    387\u001b[0m         \u001b[0mcolumn\u001b[0m\u001b[0;34m=\u001b[0m\u001b[0mcolumn\u001b[0m\u001b[0;34m,\u001b[0m\u001b[0;34m\u001b[0m\u001b[0;34m\u001b[0m\u001b[0m\n",
      "\u001b[0;32m~/opt/anaconda3/lib/python3.8/site-packages/pandas/plotting/_matplotlib/boxplot.py\u001b[0m in \u001b[0;36mboxplot\u001b[0;34m(data, column, by, ax, fontsize, rot, grid, figsize, layout, return_type, **kwds)\u001b[0m\n\u001b[1;32m    360\u001b[0m             \u001b[0mcolumns\u001b[0m \u001b[0;34m=\u001b[0m \u001b[0mdata\u001b[0m\u001b[0;34m.\u001b[0m\u001b[0mcolumns\u001b[0m\u001b[0;34m\u001b[0m\u001b[0;34m\u001b[0m\u001b[0m\n\u001b[1;32m    361\u001b[0m         \u001b[0;32melse\u001b[0m\u001b[0;34m:\u001b[0m\u001b[0;34m\u001b[0m\u001b[0;34m\u001b[0m\u001b[0m\n\u001b[0;32m--> 362\u001b[0;31m             \u001b[0mdata\u001b[0m \u001b[0;34m=\u001b[0m \u001b[0mdata\u001b[0m\u001b[0;34m[\u001b[0m\u001b[0mcolumns\u001b[0m\u001b[0;34m]\u001b[0m\u001b[0;34m\u001b[0m\u001b[0;34m\u001b[0m\u001b[0m\n\u001b[0m\u001b[1;32m    363\u001b[0m \u001b[0;34m\u001b[0m\u001b[0m\n\u001b[1;32m    364\u001b[0m         \u001b[0mresult\u001b[0m \u001b[0;34m=\u001b[0m \u001b[0mplot_group\u001b[0m\u001b[0;34m(\u001b[0m\u001b[0mcolumns\u001b[0m\u001b[0;34m,\u001b[0m \u001b[0mdata\u001b[0m\u001b[0;34m.\u001b[0m\u001b[0mvalues\u001b[0m\u001b[0;34m.\u001b[0m\u001b[0mT\u001b[0m\u001b[0;34m,\u001b[0m \u001b[0max\u001b[0m\u001b[0;34m)\u001b[0m\u001b[0;34m\u001b[0m\u001b[0;34m\u001b[0m\u001b[0m\n",
      "\u001b[0;32m~/opt/anaconda3/lib/python3.8/site-packages/pandas/core/frame.py\u001b[0m in \u001b[0;36m__getitem__\u001b[0;34m(self, key)\u001b[0m\n\u001b[1;32m   3028\u001b[0m             \u001b[0;32mif\u001b[0m \u001b[0mis_iterator\u001b[0m\u001b[0;34m(\u001b[0m\u001b[0mkey\u001b[0m\u001b[0;34m)\u001b[0m\u001b[0;34m:\u001b[0m\u001b[0;34m\u001b[0m\u001b[0;34m\u001b[0m\u001b[0m\n\u001b[1;32m   3029\u001b[0m                 \u001b[0mkey\u001b[0m \u001b[0;34m=\u001b[0m \u001b[0mlist\u001b[0m\u001b[0;34m(\u001b[0m\u001b[0mkey\u001b[0m\u001b[0;34m)\u001b[0m\u001b[0;34m\u001b[0m\u001b[0;34m\u001b[0m\u001b[0m\n\u001b[0;32m-> 3030\u001b[0;31m             \u001b[0mindexer\u001b[0m \u001b[0;34m=\u001b[0m \u001b[0mself\u001b[0m\u001b[0;34m.\u001b[0m\u001b[0mloc\u001b[0m\u001b[0;34m.\u001b[0m\u001b[0m_get_listlike_indexer\u001b[0m\u001b[0;34m(\u001b[0m\u001b[0mkey\u001b[0m\u001b[0;34m,\u001b[0m \u001b[0maxis\u001b[0m\u001b[0;34m=\u001b[0m\u001b[0;36m1\u001b[0m\u001b[0;34m,\u001b[0m \u001b[0mraise_missing\u001b[0m\u001b[0;34m=\u001b[0m\u001b[0;32mTrue\u001b[0m\u001b[0;34m)\u001b[0m\u001b[0;34m[\u001b[0m\u001b[0;36m1\u001b[0m\u001b[0;34m]\u001b[0m\u001b[0;34m\u001b[0m\u001b[0;34m\u001b[0m\u001b[0m\n\u001b[0m\u001b[1;32m   3031\u001b[0m \u001b[0;34m\u001b[0m\u001b[0m\n\u001b[1;32m   3032\u001b[0m         \u001b[0;31m# take() does not accept boolean indexers\u001b[0m\u001b[0;34m\u001b[0m\u001b[0;34m\u001b[0m\u001b[0;34m\u001b[0m\u001b[0m\n",
      "\u001b[0;32m~/opt/anaconda3/lib/python3.8/site-packages/pandas/core/indexing.py\u001b[0m in \u001b[0;36m_get_listlike_indexer\u001b[0;34m(self, key, axis, raise_missing)\u001b[0m\n\u001b[1;32m   1264\u001b[0m             \u001b[0mkeyarr\u001b[0m\u001b[0;34m,\u001b[0m \u001b[0mindexer\u001b[0m\u001b[0;34m,\u001b[0m \u001b[0mnew_indexer\u001b[0m \u001b[0;34m=\u001b[0m \u001b[0max\u001b[0m\u001b[0;34m.\u001b[0m\u001b[0m_reindex_non_unique\u001b[0m\u001b[0;34m(\u001b[0m\u001b[0mkeyarr\u001b[0m\u001b[0;34m)\u001b[0m\u001b[0;34m\u001b[0m\u001b[0;34m\u001b[0m\u001b[0m\n\u001b[1;32m   1265\u001b[0m \u001b[0;34m\u001b[0m\u001b[0m\n\u001b[0;32m-> 1266\u001b[0;31m         \u001b[0mself\u001b[0m\u001b[0;34m.\u001b[0m\u001b[0m_validate_read_indexer\u001b[0m\u001b[0;34m(\u001b[0m\u001b[0mkeyarr\u001b[0m\u001b[0;34m,\u001b[0m \u001b[0mindexer\u001b[0m\u001b[0;34m,\u001b[0m \u001b[0maxis\u001b[0m\u001b[0;34m,\u001b[0m \u001b[0mraise_missing\u001b[0m\u001b[0;34m=\u001b[0m\u001b[0mraise_missing\u001b[0m\u001b[0;34m)\u001b[0m\u001b[0;34m\u001b[0m\u001b[0;34m\u001b[0m\u001b[0m\n\u001b[0m\u001b[1;32m   1267\u001b[0m         \u001b[0;32mreturn\u001b[0m \u001b[0mkeyarr\u001b[0m\u001b[0;34m,\u001b[0m \u001b[0mindexer\u001b[0m\u001b[0;34m\u001b[0m\u001b[0;34m\u001b[0m\u001b[0m\n\u001b[1;32m   1268\u001b[0m \u001b[0;34m\u001b[0m\u001b[0m\n",
      "\u001b[0;32m~/opt/anaconda3/lib/python3.8/site-packages/pandas/core/indexing.py\u001b[0m in \u001b[0;36m_validate_read_indexer\u001b[0;34m(self, key, indexer, axis, raise_missing)\u001b[0m\n\u001b[1;32m   1306\u001b[0m             \u001b[0;32mif\u001b[0m \u001b[0mmissing\u001b[0m \u001b[0;34m==\u001b[0m \u001b[0mlen\u001b[0m\u001b[0;34m(\u001b[0m\u001b[0mindexer\u001b[0m\u001b[0;34m)\u001b[0m\u001b[0;34m:\u001b[0m\u001b[0;34m\u001b[0m\u001b[0;34m\u001b[0m\u001b[0m\n\u001b[1;32m   1307\u001b[0m                 \u001b[0maxis_name\u001b[0m \u001b[0;34m=\u001b[0m \u001b[0mself\u001b[0m\u001b[0;34m.\u001b[0m\u001b[0mobj\u001b[0m\u001b[0;34m.\u001b[0m\u001b[0m_get_axis_name\u001b[0m\u001b[0;34m(\u001b[0m\u001b[0maxis\u001b[0m\u001b[0;34m)\u001b[0m\u001b[0;34m\u001b[0m\u001b[0;34m\u001b[0m\u001b[0m\n\u001b[0;32m-> 1308\u001b[0;31m                 \u001b[0;32mraise\u001b[0m \u001b[0mKeyError\u001b[0m\u001b[0;34m(\u001b[0m\u001b[0;34mf\"None of [{key}] are in the [{axis_name}]\"\u001b[0m\u001b[0;34m)\u001b[0m\u001b[0;34m\u001b[0m\u001b[0;34m\u001b[0m\u001b[0m\n\u001b[0m\u001b[1;32m   1309\u001b[0m \u001b[0;34m\u001b[0m\u001b[0m\n\u001b[1;32m   1310\u001b[0m             \u001b[0max\u001b[0m \u001b[0;34m=\u001b[0m \u001b[0mself\u001b[0m\u001b[0;34m.\u001b[0m\u001b[0mobj\u001b[0m\u001b[0;34m.\u001b[0m\u001b[0m_get_axis\u001b[0m\u001b[0;34m(\u001b[0m\u001b[0maxis\u001b[0m\u001b[0;34m)\u001b[0m\u001b[0;34m\u001b[0m\u001b[0;34m\u001b[0m\u001b[0m\n",
      "\u001b[0;31mKeyError\u001b[0m: \"None of [Index(['op_code'], dtype='object')] are in the [columns]\""
     ]
    },
    {
     "data": {
      "image/png": "[encoded data removed]",
      "text/plain": [
       "<Figure size 432x288 with 1 Axes>"
      ]
     },
     "metadata": {},
     "output_type": "display_data"
    }
   ],
   "source": [
    "plot_boxplot(df_vessel, \"op_code\")"
   ]
  },
  {
   "cell_type": "code",
   "execution_count": null,
   "id": "aa01c248",
   "metadata": {},
   "outputs": [],
   "source": [
    "plt.hist(df_vessel['op_code'], 10)"
   ]
  },
  {
   "cell_type": "code",
   "execution_count": null,
   "id": "56f54d06",
   "metadata": {},
   "outputs": [],
   "source": [
    "sns.distplot(df_vessel['op_code'], bins=10)"
   ]
  },
  {
   "cell_type": "code",
   "execution_count": null,
   "id": "52bbab46",
   "metadata": {},
   "outputs": [],
   "source": [
    "plt.hist(df_vessel['in_port'], 10)"
   ]
  },
  {
   "cell_type": "markdown",
   "id": "7ac0563c",
   "metadata": {},
   "source": [
    "# "
   ]
  },
  {
   "cell_type": "code",
   "execution_count": null,
   "id": "e8efbc20",
   "metadata": {},
   "outputs": [],
   "source": [
    "sns.distplot(df_vessel['in_port'], bins=10)"
   ]
  },
  {
   "cell_type": "code",
   "execution_count": null,
   "id": "1b1d2d5f",
   "metadata": {},
   "outputs": [],
   "source": [
    "df_vessel['in_port'].dtype"
   ]
  },
  {
   "cell_type": "code",
   "execution_count": null,
   "id": "ecd7bf1b",
   "metadata": {},
   "outputs": [],
   "source": [
    "df_vessel['in_port'].astype"
   ]
  },
  {
   "cell_type": "code",
   "execution_count": null,
   "id": "219fcb9b",
   "metadata": {
    "scrolled": true
   },
   "outputs": [],
   "source": [
    "df_vessel['op_code'].dtype"
   ]
  },
  {
   "cell_type": "code",
   "execution_count": null,
   "id": "006e3bb4",
   "metadata": {},
   "outputs": [],
   "source": [
    "df_vessel.columns"
   ]
  },
  {
   "cell_type": "code",
   "execution_count": null,
   "id": "5afff099",
   "metadata": {},
   "outputs": [],
   "source": [
    "df_vessel['op_code'].astype"
   ]
  },
  {
   "cell_type": "code",
   "execution_count": null,
   "id": "ab0f58a5",
   "metadata": {},
   "outputs": [],
   "source": [
    "df_vessel['long_deg'].dtype"
   ]
  },
  {
   "cell_type": "code",
   "execution_count": null,
   "id": "68c3724a",
   "metadata": {},
   "outputs": [],
   "source": [
    "df_vessel['lat_deg'].dtype"
   ]
  },
  {
   "cell_type": "code",
   "execution_count": null,
   "id": "ed724891",
   "metadata": {},
   "outputs": [],
   "source": [
    "df_vessel['speed'].dtype"
   ]
  },
  {
   "cell_type": "code",
   "execution_count": null,
   "id": "0448dc69",
   "metadata": {},
   "outputs": [],
   "source": [
    "df_vessel['op_code']"
   ]
  },
  {
   "cell_type": "code",
   "execution_count": null,
   "id": "86a4aea5",
   "metadata": {},
   "outputs": [],
   "source": [
    "plt.style.use('seaborn')\n",
    "plt.scatter(df_no_dupli['speed'], df_no_dupli['in_port'],edgecolor='black',linewidth=1,alpha=0.75)\n",
    "plt.title('vessel operation mode')\n",
    "plt.xlabel('speed')\n",
    "plt.ylabel('operation mode')\n",
    "plt.tight_layout()\n"
   ]
  },
  {
   "cell_type": "markdown",
   "id": "73eabe21",
   "metadata": {},
   "source": [
    "## Feature Selection"
   ]
  },
  {
   "cell_type": "code",
   "execution_count": 198,
   "id": "4919f99a",
   "metadata": {},
   "outputs": [],
   "source": [
    "#Univariate Feature Selection with SelectKBest function\n",
    "#extract X features and y target\n",
    "new_df = new_df_no_outlier.drop(columns=[\"timestamp\", \"name\"])\n",
    "X= new_df.drop(columns=[\"op_code\"])\n",
    "y= new_df['op_code']\n",
    "\n",
    "uni = SelectKBest(score_func = f_classif, k = 4)\n",
    "fit = uni.fit(X, y)"
   ]
  },
  {
   "cell_type": "code",
   "execution_count": 199,
   "id": "c02a7b26",
   "metadata": {},
   "outputs": [
    {
     "data": {
      "text/plain": [
       "['lat_deg', 'long_deg', 'speed', 'in_port']"
      ]
     },
     "execution_count": 199,
     "metadata": {},
     "output_type": "execute_result"
    }
   ],
   "source": [
    "X.columns[fit.get_support(indices=True)].tolist()"
   ]
  },
  {
   "cell_type": "code",
   "execution_count": 357,
   "id": "0229a1f0",
   "metadata": {},
   "outputs": [
    {
     "data": {
      "text/plain": [
       "<AxesSubplot:>"
      ]
     },
     "execution_count": 357,
     "metadata": {},
     "output_type": "execute_result"
    },
    {
     "data": {
      "image/png": "[encoded data removed]",
      "text/plain": [
       "<Figure size 432x288 with 2 Axes>"
      ]
     },
     "metadata": {},
     "output_type": "display_data"
    }
   ],
   "source": [
    "#Feature Selection Using Correlation Matrix\n",
    "cor = new_df_no_outlier.corr()\n",
    "sns.heatmap(cor, annot=True)"
   ]
  },
  {
   "cell_type": "code",
   "execution_count": 358,
   "id": "de4f303a",
   "metadata": {},
   "outputs": [
    {
     "data": {
      "text/plain": [
       "speed      0.642783\n",
       "in_port    0.363821\n",
       "op_code    1.000000\n",
       "Name: op_code, dtype: float64"
      ]
     },
     "execution_count": 358,
     "metadata": {},
     "output_type": "execute_result"
    }
   ],
   "source": [
    "#Correlation with output variable\n",
    "cor_target = abs(cor[\"op_code\"])\n",
    "#Selecting highly correlated features\n",
    "relevant_features = cor_target[cor_target>0.2]\n",
    "relevant_features"
   ]
  },
  {
   "cell_type": "code",
   "execution_count": 197,
   "id": "e50f2b98",
   "metadata": {},
   "outputs": [
    {
     "name": "stdout",
     "output_type": "stream",
     "text": [
      "            speed   in_port\n",
      "speed    1.000000 -0.676794\n",
      "in_port -0.676794  1.000000\n"
     ]
    }
   ],
   "source": [
    "print(df_no_outlier[[\"speed\",\"in_port\"]].corr())"
   ]
  },
  {
   "cell_type": "code",
   "execution_count": null,
   "id": "0cf2ad6c",
   "metadata": {},
   "outputs": [],
   "source": []
  },
  {
   "cell_type": "code",
   "execution_count": null,
   "id": "d8739c33",
   "metadata": {},
   "outputs": [],
   "source": []
  },
  {
   "cell_type": "code",
   "execution_count": null,
   "id": "0ec3b953",
   "metadata": {},
   "outputs": [],
   "source": []
  },
  {
   "cell_type": "code",
   "execution_count": null,
   "id": "32e1683c",
   "metadata": {},
   "outputs": [],
   "source": []
  },
  {
   "cell_type": "code",
   "execution_count": null,
   "id": "d057c2dd",
   "metadata": {},
   "outputs": [],
   "source": []
  },
  {
   "cell_type": "code",
   "execution_count": null,
   "id": "06b35821",
   "metadata": {},
   "outputs": [],
   "source": []
  },
  {
   "cell_type": "code",
   "execution_count": null,
   "id": "994371f6",
   "metadata": {},
   "outputs": [],
   "source": []
  },
  {
   "cell_type": "code",
   "execution_count": null,
   "id": "d3bc7d09",
   "metadata": {},
   "outputs": [],
   "source": []
  }
 ],
 "metadata": {
  "kernelspec": {
   "display_name": "Python 3",
   "language": "python",
   "name": "python3"
  },
  "language_info": {
   "codemirror_mode": {
    "name": "ipython",
    "version": 3
   },
   "file_extension": ".py",
   "mimetype": "text/x-python",
   "name": "python",
   "nbconvert_exporter": "python",
   "pygments_lexer": "ipython3",
   "version": "3.8.8"
  }
 },
 "nbformat": 4,
 "nbformat_minor": 5
}
